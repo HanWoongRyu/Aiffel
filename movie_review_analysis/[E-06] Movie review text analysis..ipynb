{
 "cells": [
  {
   "cell_type": "markdown",
   "id": "66595d11",
   "metadata": {},
   "source": [
    "# E -06 영화리뷰 텍스트 감성분석\n",
    "\n",
    "### 1. 데이터로드"
   ]
  },
  {
   "cell_type": "code",
   "execution_count": 1,
   "id": "267b5bc2",
   "metadata": {},
   "outputs": [
    {
     "data": {
      "text/html": [
       "<div>\n",
       "<style scoped>\n",
       "    .dataframe tbody tr th:only-of-type {\n",
       "        vertical-align: middle;\n",
       "    }\n",
       "\n",
       "    .dataframe tbody tr th {\n",
       "        vertical-align: top;\n",
       "    }\n",
       "\n",
       "    .dataframe thead th {\n",
       "        text-align: right;\n",
       "    }\n",
       "</style>\n",
       "<table border=\"1\" class=\"dataframe\">\n",
       "  <thead>\n",
       "    <tr style=\"text-align: right;\">\n",
       "      <th></th>\n",
       "      <th>id</th>\n",
       "      <th>document</th>\n",
       "      <th>label</th>\n",
       "    </tr>\n",
       "  </thead>\n",
       "  <tbody>\n",
       "    <tr>\n",
       "      <th>0</th>\n",
       "      <td>9976970</td>\n",
       "      <td>아 더빙.. 진짜 짜증나네요 목소리</td>\n",
       "      <td>0</td>\n",
       "    </tr>\n",
       "    <tr>\n",
       "      <th>1</th>\n",
       "      <td>3819312</td>\n",
       "      <td>흠...포스터보고 초딩영화줄....오버연기조차 가볍지 않구나</td>\n",
       "      <td>1</td>\n",
       "    </tr>\n",
       "    <tr>\n",
       "      <th>2</th>\n",
       "      <td>10265843</td>\n",
       "      <td>너무재밓었다그래서보는것을추천한다</td>\n",
       "      <td>0</td>\n",
       "    </tr>\n",
       "    <tr>\n",
       "      <th>3</th>\n",
       "      <td>9045019</td>\n",
       "      <td>교도소 이야기구먼 ..솔직히 재미는 없다..평점 조정</td>\n",
       "      <td>0</td>\n",
       "    </tr>\n",
       "    <tr>\n",
       "      <th>4</th>\n",
       "      <td>6483659</td>\n",
       "      <td>사이몬페그의 익살스런 연기가 돋보였던 영화!스파이더맨에서 늙어보이기만 했던 커스틴 ...</td>\n",
       "      <td>1</td>\n",
       "    </tr>\n",
       "  </tbody>\n",
       "</table>\n",
       "</div>"
      ],
      "text/plain": [
       "         id                                           document  label\n",
       "0   9976970                                아 더빙.. 진짜 짜증나네요 목소리      0\n",
       "1   3819312                  흠...포스터보고 초딩영화줄....오버연기조차 가볍지 않구나      1\n",
       "2  10265843                                  너무재밓었다그래서보는것을추천한다      0\n",
       "3   9045019                      교도소 이야기구먼 ..솔직히 재미는 없다..평점 조정      0\n",
       "4   6483659  사이몬페그의 익살스런 연기가 돋보였던 영화!스파이더맨에서 늙어보이기만 했던 커스틴 ...      1"
      ]
     },
     "execution_count": 1,
     "metadata": {},
     "output_type": "execute_result"
    }
   ],
   "source": [
    "import pandas as pd\n",
    "import missingno as msno\n",
    "\n",
    "# 데이터를 읽어봅시다. \n",
    "train_data = pd.read_table('~/aiffel/sentiment_classification/data/ratings_train.txt')\n",
    "test_data = pd.read_table('~/aiffel/sentiment_classification/data/ratings_test.txt')\n",
    "\n",
    "train_data.head()"
   ]
  },
  {
   "cell_type": "markdown",
   "id": "040f3c59",
   "metadata": {},
   "source": [
    "### 2. 결측치 확인"
   ]
  },
  {
   "cell_type": "code",
   "execution_count": 2,
   "id": "2b8b42b9",
   "metadata": {},
   "outputs": [
    {
     "data": {
      "text/plain": [
       "<AxesSubplot:>"
      ]
     },
     "execution_count": 2,
     "metadata": {},
     "output_type": "execute_result"
    },
    {
     "data": {
      "image/png": "[encoded data removed]",
      "text/plain": [
       "<Figure size 1800x720 with 2 Axes>"
      ]
     },
     "metadata": {
      "needs_background": "light"
     },
     "output_type": "display_data"
    }
   ],
   "source": [
    "msno.matrix(train_data) #결측치 이미지로 확인"
   ]
  },
  {
   "cell_type": "markdown",
   "id": "67dd3b73",
   "metadata": {},
   "source": [
    "### 3. 데이터 전처리 (불용어,중복,결측치 제거)"
   ]
  },
  {
   "cell_type": "code",
   "execution_count": 3,
   "id": "cf8652d5",
   "metadata": {},
   "outputs": [],
   "source": [
    "from konlpy.tag import Mecab\n",
    "import numpy as np\n",
    "from collections import Counter\n",
    "\n",
    "tokenizer = Mecab()\n",
    "stopwords = ['의','가','이','은','들','는','좀','잘','걍','과','도','를','으로','자','에','와','한','하다','.'] #.추가\n",
    "\n",
    "def load_data(train_data, test_data, num_words=10000):\n",
    "    #데이터 전처리  중복제거 -> 격측치 제거 (train , test )\n",
    "    train_data.drop_duplicates(subset=['document'], inplace=True)\n",
    "    train_data = train_data.dropna(how = 'any') \n",
    "    test_data.drop_duplicates(subset=['document'], inplace=True)\n",
    "    test_data = test_data.dropna(how = 'any') \n",
    "    \n",
    "    #토큰화하면서 불용어 제거\n",
    "    X_train = []\n",
    "    for sentence in train_data['document']:\n",
    "        temp_X = tokenizer.morphs(sentence) # 토큰화\n",
    "        temp_X = [word for word in temp_X if not word in stopwords] # 불용어 제거\n",
    "        X_train.append(temp_X)\n",
    "    \n",
    "    X_test = []\n",
    "    for sentence in test_data['document']:\n",
    "        temp_X = tokenizer.morphs(sentence) # 토큰화\n",
    "        temp_X = [word for word in temp_X if not word in stopwords] # 불용어 제거\n",
    "        X_test.append(temp_X)\n",
    "    \n",
    "    #concatenate를 이용해서 \n",
    "    words = np.concatenate(X_train).tolist()\n",
    "    counter = Counter(words)\n",
    "    counter = counter.most_common(10000-4)\n",
    "    vocab = ['', '', '', ''] + [key for key, _ in counter]\n",
    "    word_to_index = {word:index for index, word in enumerate(vocab)}\n",
    "    word_to_index[\"<PAD>\"] = 0\n",
    "    word_to_index[\"<BOS>\"] = 1\n",
    "    word_to_index[\"<UNK>\"] = 2  # unknown\n",
    "    word_to_index[\"<UNUSED>\"] = 3\n",
    "        \n",
    "    def wordlist_to_indexlist(wordlist):\n",
    "        return [word_to_index[word] if word in word_to_index else word_to_index[''] for word in wordlist]\n",
    "        \n",
    "    X_train = list(map(wordlist_to_indexlist, X_train))\n",
    "    X_test = list(map(wordlist_to_indexlist, X_test))\n",
    "        \n",
    "    return X_train, np.array(list(train_data['label'])), X_test, np.array(list(test_data['label'])), word_to_index\n",
    "    \n",
    "X_train, y_train, X_test, y_test, word_to_index = load_data(train_data, test_data) "
   ]
  },
  {
   "cell_type": "markdown",
   "id": "a6de3feb",
   "metadata": {},
   "source": [
    "Mecab tokenizer가 가장 좋다고한다. https://i-am-wendy.tistory.com/27 "
   ]
  },
  {
   "cell_type": "code",
   "execution_count": 1,
   "id": "b8740781",
   "metadata": {},
   "outputs": [],
   "source": [
    "def get_encoded_sentence(sentence, word_to_index):\n",
    "    return [word_to_index['<BOS>']]+[word_to_index[word] if word in word_to_index else word_to_index['<UNK>'] for word in sentence.split()]\n",
    "\n",
    "# 여러 개의 문장 리스트를 한꺼번에 단어 인덱스 리스트 벡터로 encode해 주는 함수입니다. \n",
    "def get_encoded_sentences(sentences, word_to_index):\n",
    "    return [get_encoded_sentence(sentence, word_to_index) for sentence in sentences]\n",
    "\n",
    "# 숫자 벡터로 encode된 문장을 원래대로 decode하는 함수입니다. \n",
    "def get_decoded_sentence(encoded_sentence, index_to_word):\n",
    "    return ' '.join(index_to_word[index] if index in index_to_word else '<UNK>' for index in encoded_sentence[1:])  #[1:]를 통해 <BOS>를 제외"
   ]
  },
  {
   "cell_type": "code",
   "execution_count": 5,
   "id": "65968d2d",
   "metadata": {},
   "outputs": [
    {
     "name": "stdout",
     "output_type": "stream",
     "text": [
      "{3: '<UNUSED>', 4: '영화', 5: '다', 6: '고', 7: '하', 8: '을', 9: '보', 10: '..', 11: '게', 12: ',', 13: '!', 14: '지', 15: '있', 16: '없', 17: '?', 18: '좋', 19: '나', 20: '었', 21: '만', 22: '는데', 23: '너무', 24: '봤', 25: '적', 26: '안', 27: '정말', 28: '로', 29: '음', 30: '것', 31: '아', 32: '네요', 33: '재밌', 34: '어', 35: '같', 36: '점', 37: '지만', 38: '진짜', 39: '했', 40: '에서', 41: '기', 42: '네', 43: '않', 44: '거', 45: '았', 46: '수', 47: '되', 48: '면', 49: 'ㅋㅋ', 50: '말', 51: '연기', 52: '인', 53: '주', 54: '내', 55: '최고', 56: '~', 57: '평점', 58: '이런', 59: '던', 60: '어요', 61: '할', 62: '왜', 63: '겠', 64: '1', 65: '스토리', 66: '해', 67: '습니다', 68: 'ㅋㅋㅋ', 69: '...', 70: '드라마', 71: '생각', 72: '아니', 73: '더', 74: '그', 75: '싶', 76: '사람', 77: '듯', 78: '때', 79: '감동', 80: '함', 81: '배우', 82: '본', 83: '까지', 84: '뭐', 85: '알', 86: '만들', 87: '내용', 88: '볼', 89: '감독', 90: '보다', 91: '라', 92: '그냥', 93: '재미', 94: '시간', 95: '지루', 96: '중', 97: '재미있', 98: '년', 99: '10', 100: '였', 101: '잼', 102: '사랑', 103: '못', 104: '냐', 105: '재미없', 106: '쓰레기', 107: '서', 108: '2', 109: '라고', 110: '야', 111: '니', 112: '면서', 113: '번', 114: '다시', 115: '나오', 116: '작품', 117: '이거', 118: '하나', 119: '줄', 120: '해서', 121: '개', 122: '남', 123: '정도', 124: '마지막', 125: '끝', 126: '이건', 127: '액션', 128: '임', 129: 'ㅋ', 130: '3', 131: '기대', 132: '입니다', 133: '건', 134: '라는', 135: '분', 136: '완전', 137: '다는', 138: '참', 139: '많', 140: '처음', 141: '장면', 142: '대', 143: '아깝', 144: '다가', 145: '으면', 146: '지금', 147: '모르', 148: '이렇게', 149: \"'\", 150: '편', 151: '일', 152: '돈', 153: '이게', 154: '성', 155: '느낌', 156: '시', 157: '이야기', 158: '최악', 159: '된', 160: '봐도', 161: '님', 162: '어서', 163: '애', 164: '전', 165: '넘', 166: 'ㅠㅠ', 167: '인데', 168: '다고', 169: '이해', 170: '별로', 171: '그리고', 172: '명작', 173: '여자', 174: '^^', 175: '역시', 176: '난', 177: '이상', 178: '또', 179: '걸', 180: '한국', 181: '는지', 182: '많이', 183: '에게', 184: '부터', 185: '만든', 186: '주인공', 187: '받', 188: '합니다', 189: '우리', 190: '두', 191: '살', 192: '!!', 193: '길', 194: '엔', 195: '괜찮', 196: '기억', 197: '연출', 198: '한다', 199: '때문', 200: '이나', 201: 'ㅎㅎ', 202: '요', 203: '저', 204: '재', 205: '꼭', 206: '랑', 207: '며', 208: '현실', 209: '긴', 210: 'ㅡㅡ', 211: '무슨', 212: '내내', 213: '결말', 214: '죽', 215: '남자', 216: '세요', 217: '전개', 218: '마음', 219: '소재', 220: '속', 221: '공포', 222: '아서', 223: '다른', 224: '씨', 225: '인생', 226: '~~', 227: '짜증', 228: '짱', 229: '뿐', 230: '은데', 231: '별', 232: '아요', 233: '유치', 234: '가장', 235: '필요', 236: '음악', 237: ')', 238: '일본', 239: '낮', 240: '아이', 241: ';;', 242: '오', 243: '반전', 244: '수준', 245: '다니', 246: '웃', 247: '매력', 248: '맞', 249: '인지', 250: '가슴', 251: '없이', 252: '원작', 253: 'ㄷ', 254: '인간', 255: '데', 256: '굿', 257: 'ㅠ', 258: '높', 259: '밋', 260: '(', 261: '만드', 262: '급', 263: '눈물', 264: '보여', 265: '준', 266: '찍', 267: '인가', 268: '노', 269: '을까', 270: '용', 271: '코미디', 272: '마', 273: '화', 274: '신', 275: '모든', 276: '쓰', 277: '여', 278: '5', 279: '아직', 280: '추천', 281: '처럼', 282: '눈', 283: '아닌', 284: '자체', 285: '울', 286: '몰입', 287: '4', 288: '대박', 289: '몇', 290: '스럽', 291: '실망', 292: '는다', 293: '대한', 294: '죠', 295: '란', 296: '그런', 297: '솔직히', 298: '캐릭터', 299: 'ㅎ', 300: '모두', 301: '아주', 302: '-', 303: '가족', 304: '여운', 305: '건지', 306: '전혀', 307: '연기력', 308: '나라', 309: '후', 310: '될', 311: '다면', 312: '뭔가', 313: '그래도', 314: ';', 315: '시리즈', 316: '근데', 317: '작', 318: '표현', 319: '모습', 320: '공감', 321: '계속', 322: '먹', 323: '\"\"', 324: '제목', 325: '7', 326: '이랑', 327: '극장', 328: '치', 329: '비', 330: '이걸', 331: '진', 332: '바', 333: '대사', 334: '부분', 335: '그렇', 336: '개봉', 337: '0', 338: 'OO', 339: '대단', 340: '어디', 341: '작가', 342: '된다', 343: '아쉽', 344: '기분', 345: '제', 346: '진심', 347: '타임', 348: '/', 349: '웃기', 350: '보이', 351: '놓', 352: '해도', 353: '이제', 354: '물', 355: '봐야', 356: '막장', 357: '삶', 358: '친구', 359: '잔잔', 360: '조금', 361: '씬', 362: '딱', 363: '영상', 364: '억지', 365: '찾', 366: '요즘', 367: '같이', 368: '중간', 369: '\"', 370: '구', 371: '라도', 372: '스릴러', 373: '가지', 374: '8', 375: '믿', 376: '싫', 377: '....', 378: '나왔', 379: '아까운', 380: '긴장감', 381: '점수', 382: '개인', 383: '제대로', 384: '부족', 385: '이유', 386: '노래', 387: '만큼', 388: '라면', 389: '시작', 390: '구나', 391: '잇', 392: '특히', 393: '한테', 394: '날', 395: '려고', 396: '제일', 397: '아름다운', 398: '시대', 399: 'ㅜㅜ', 400: '어떻게', 401: '엔딩', 402: '당시', 403: '하지만', 404: '나름', 405: '봐', 406: '무섭', 407: '나온', 408: '명', 409: '사', 410: '니까', 411: '오랜만', 412: '이것', 413: '해요', 414: '9', 415: '팬', 416: '차라리', 417: '절대', 418: '세상', 419: '세', 420: '못하', 421: '의미', 422: '던데', 423: '봄', 424: '욕', 425: '훌륭', 426: '너무나', 427: '강추', 428: '감', 429: '됨', 430: 'ㅡ', 431: '따뜻', 432: '빼', 433: '느끼', 434: '해야', 435: '드', 436: '도대체', 437: '어야', 438: '답답', 439: '마다', 440: '준다', 441: '글', 442: '전쟁', 443: '놈', 444: '설정', 445: '무엇', 446: '수작', 447: '만화', 448: '흥미', 449: '그저', 450: '감정', 451: '미국', 452: '신선', 453: '행복', 454: '뻔', 455: '형', 456: '앞', 457: '허접', 458: '어도', 459: '군', 460: '시절', 461: '관객', 462: '배경', 463: '6', 464: '초반', 465: '사실', 466: '웃음', 467: '답', 468: '엄청', 469: '더라', 470: '라니', 471: '질', 472: '자신', 473: '추억', 474: '캐스팅', 475: '첨', 476: '멋있', 477: '류', 478: '어색', 479: '시나리오', 480: '머', 481: '밖에', 482: 'OOO', 483: '슬프', 484: '정신', 485: '분위기', 486: '소름', 487: '멋진', 488: '힘들', 489: '오늘', 490: '어이없', 491: '봐서', 492: '잡', 493: '구성', 494: '엄마', 495: '함께', 496: '문제', 497: '위해', 498: '졸작', 499: '잊', 500: '이딴', 501: '등', 502: '집', 503: '유쾌', 504: '뻔한', 505: '킬링', 506: '스러운', 507: '결국', 508: '낫', 509: '한데', 510: '나요', 511: '뭘', 512: '소리', 513: '간', 514: '20', 515: '역사', 516: '뭔', 517: '제발', 518: '포스터', 519: '아무리', 520: '코믹', 521: '어떤', 522: '완벽', 523: '~~~', 524: '맘', 525: '얼마나', 526: '애니메이션', 527: '!!!', 528: '러', 529: '주연', 530: '원', 531: '난다', 532: '버리', 533: '어릴', 534: '♥', 535: '후회', 536: '진부', 537: '나올', 538: '됐', 539: '보단', 540: '책', 541: '장난', 542: '더니', 543: '영화관', 544: '큰', 545: '개연', 546: '둘', 547: '출연', 548: '보고', 549: '극', 550: 'ㅅ', 551: '밖', 552: '충격', 553: '여기', 554: '엇', 555: '잔인', 556: '아름답', 557: '얘기', 558: '줬', 559: '평가', 560: '꺼', 561: '예술', 562: '갈수록', 563: '매우', 564: '든', 565: '자기', 566: '위한', 567: '이리', 568: '봐라', 569: '이후', 570: '읽', 571: '반', 572: '얼굴', 573: '꽤', 574: '티비', 575: '이쁘', 576: '으나', 577: '별점', 578: '깊', 579: '옛날', 580: '불쌍', 581: '못한', 582: '겟', 583: '불', 584: '시청', 585: '순수', 586: '라서', 587: '낭비', 588: '언제', 589: '건가', 590: '비디오', 591: '애니', 592: '머리', 593: '장르', 594: '생각나', 595: '텐데', 596: '+', 597: '미', 598: '배', 599: '그래서', 600: ':', 601: '다운', 602: '주제', 603: '다큐', 604: '다음', 605: '궁금', 606: '아님', 607: '시키', 608: '누구', 609: '예전', 610: '그렇게', 611: '크', 612: '동안', 613: '뒤', 614: '그만', 615: '인상', 616: '상황', 617: '??', 618: '이름', 619: '미친', 620: '스릴', 621: '감사', 622: '시즌', 623: '아무', 624: '너', 625: '오래', 626: 'B', 627: '집중', 628: '힘', 629: '어느', 630: '본다', 631: '그러', 632: '로맨스', 633: '약간', 634: '나와서', 635: '진정', 636: '식', 637: '방송', 638: '그나마', 639: '까', 640: '짜리', 641: '마세요', 642: '소설', 643: '여주인공', 644: '몰', 645: '걸작', 646: '존나', 647: '그대로', 648: '죽이', 649: '인물', 650: '났', 651: '그것', 652: '회', 653: '떨어지', 654: '평', 655: '케', 656: '왔', 657: '에요', 658: '실화', 659: '꿈', 660: '대체', 661: '해라', 662: '훨씬', 663: '짓', 664: '무', 665: '사회', 666: '만점', 667: '발연기', 668: '구만', 669: '~!', 670: '전체', 671: 'ㅜ', 672: '비슷', 673: '누가', 674: '막', 675: '30', 676: '햇', 677: '끝나', 678: 'CG', 679: '엉성', 680: '귀엽', 681: '여주', 682: '단', 683: '영상미', 684: '중국', 685: '비교', 686: '초딩', 687: '감성', 688: '네이버', 689: '세계', 690: '여배우', 691: '는가', 692: 'ㅎㅎㅎ', 693: '순간', 694: '망', 695: '느껴', 696: '려는', 697: '나이', 698: ';;;', 699: '대해', 700: '상', 701: '첫', 702: '어렸', 703: '쯤', 704: '판', 705: '입', 706: '꿀', 707: '갔', 708: '어설픈', 709: '돋', 710: '셨', 711: '학교', 712: '더럽', 713: '타', 714: '생', 715: '100', 716: '혼자', 717: '아들', 718: '느낄', 719: '성룡', 720: '아야', 721: '가능', 722: '졸', 723: '어린', 724: '교훈', 725: '멋지', 726: '바로', 727: '나가', 728: '잘못', 729: '맛', 730: '.....', 731: '한마디', 732: '존', 733: '딸', 734: '당신', 735: '화려', 736: '길래', 737: '끌', 738: '티', 739: '판타지', 740: '삼류', 741: '잠', 742: '땜', 743: '든다', 744: '달', 745: '빨리', 746: '맨', 747: '목소리', 748: '똥', 749: '아까움', 750: '영', 751: '당', 752: '거의', 753: '듣', 754: '봤었', 755: '나온다', 756: '전부', 757: '차', 758: '독특', 759: '건데', 760: '다르', 761: '초', 762: 'ㅉㅉ', 763: '어른', 764: '가치', 765: '위', 766: '률', 767: '상당히', 768: '씩', 769: '90', 770: '다만', 771: '질질', 772: '아버지', 773: '넣', 774: '평론가', 775: '줄거리', 776: '한번', 777: '이번', 778: '갑자기', 779: '스타일', 780: '이러', 781: '그러나', 782: '여러', 783: '군요', 784: 'ㅂ', 785: '의도', 786: '저런', 787: '존재', 788: '허무', 789: '밑', 790: '%', 791: '부', 792: '대로', 793: '에선', 794: '째', 795: '각본', 796: '예상', 797: '성우', 798: '으면서', 799: '그녀', 800: '버린', 801: '화면', 802: '너무너무', 803: 'ㄱ', 804: '떠나', 805: '예쁘', 806: '비해', 807: '자연', 808: '담', 809: '그런지', 810: '뻔하', 811: '평범', 812: '굉장히', 813: '만나', 814: '슬픈', 815: '돼', 816: '못했', 817: '지루함', 818: '복수', 819: '관람', 820: '스', 821: '단순', 822: '댓글', 823: '중요', 824: '낸', 825: '새로운', 826: '피', 827: '앗', 828: '극장판', 829: '줌', 830: '갖', 831: '굳', 832: '제작', 833: '버렸', 834: '일단', 835: '만족', 836: '쉽', 837: '선택', 838: '아빠', 839: '쓴', 840: 'TV', 841: '요소', 842: '한편', 843: '불편', 844: '항상', 845: '거기', 846: '연출력', 847: '그때', 848: '롭', 849: '에로', 850: '산', 851: '탄탄', 852: '잃', 853: '한다는', 854: '발', 855: '나옴', 856: '예요', 857: '한심', 858: '흥행', 859: '물론', 860: '려', 861: '지나', 862: '따라', 863: '진행', 864: '점점', 865: '관계', 866: '전형', 867: '역대', 868: '편집', 869: '조', 870: '거나', 871: '아까워', 872: '법', 873: '던가', 874: '총', 875: '짧', 876: '이하', 877: '충분히', 878: '따', 879: '안타깝', 880: '에겐', 881: '아닌가', 882: '식상', 883: '몰랐', 884: '자꾸', 885: '훈훈', 886: '80', 887: '미안', 888: '김', 889: '화이팅', 890: '도록', 891: '게임', 892: '-_-', 893: '멜', 894: '원래', 895: '곳', 896: '그게', 897: '자극', 898: '몸', 899: '삼', 900: '손', 901: '장', 902: '구요', 903: '~!!', 904: '어쩔', 905: '팔', 906: '똑같', 907: '간다', 908: '나쁜', 909: '뭔지', 910: '사건', 911: '풀', 912: '설명', 913: '어울리', 914: '짜', 915: '귀신', 916: '잖아', 917: '과거', 918: '빙', 919: '노력', 920: '짐', 921: '그래픽', 922: '도저히', 923: '황당', 924: '조차', 925: '닿', 926: '됬', 927: '아프', 928: '중반', 929: '개그', 930: '듬', 931: '프랑스', 932: '코메디', 933: '홍콩', 934: '취향', 935: '빠져', 936: '죽음', 937: '했었', 938: '미치', 939: '역', 940: '속편', 941: '무조건', 942: '소중', 943: '프로', 944: '빠', 945: '무비', 946: '참신', 947: '이란', 948: '쳐', 949: '나쁘', 950: '멋', 951: '좋아하', 952: '아쉬운', 953: '더욱', 954: '넘치', 955: '병맛', 956: '괜히', 957: '진지', 958: '빠지', 959: '척', 960: '특유', 961: '또한', 962: '상상', 963: '숨', 964: '상영', 965: '결혼', 966: '리', 967: '짱짱', 968: '유명', 969: 'ost', 970: '심리', 971: '전설', 972: '무서운', 973: '헐', 974: '엄청난', 975: '오히려', 976: '인듯', 977: '비추', 978: '예고편', 979: '후반부', 980: '틀', 981: '더빙', 982: '아저씨', 983: '으니', 984: '고자', 985: '심하', 986: '바보', 987: '왕', 988: '연기자', 989: '촬영', 990: '그리', 991: '소녀', 992: '느꼈', 993: '끝내', 994: '로맨틱', 995: '조연', 996: '천재', 997: '아도', 998: '쩔', 999: '희망', 1000: '최근', 1001: '간만에', 1002: '는구나', 1003: 'ㄴ', 1004: '억지로', 1005: '가볍', 1006: '하고', 1007: '그닥', 1008: '마무리', 1009: 'SF', 1010: '표정', 1011: '어라', 1012: '새끼', 1013: '현재', 1014: '전편', 1015: '그랬', 1016: '아무것', 1017: '힘든', 1018: '로서', 1019: '저질', 1020: '던지', 1021: '부모', 1022: '동화', 1023: '온', 1024: '순', 1025: '대작', 1026: '아쉬움', 1027: '흠', 1028: '진실', 1029: '노출', 1030: '즐겁', 1031: '대한민국', 1032: '서로', 1033: '우연히', 1034: '이미', 1035: '빨', 1036: '>', 1037: '메세지', 1038: '그림', 1039: '묘사', 1040: '여성', 1041: '오빠', 1042: '땐', 1043: '네여', 1044: '경찰', 1045: '그런데', 1046: '엉망', 1047: '우', 1048: '프로그램', 1049: '졌', 1050: '쩌', 1051: '청춘', 1052: '허술', 1053: '어설프', 1054: '유머', 1055: 'tv', 1056: '남기', 1057: '이래', 1058: '암', 1059: '지난', 1060: '나와', 1061: '왠만', 1062: '나중', 1063: '십', 1064: '갈', 1065: '일까', 1066: '으', 1067: '등장', 1068: '셈', 1069: '돌', 1070: '졸라', 1071: '살인', 1072: '역할', 1073: '전작', 1074: '멍청', 1075: '신기', 1076: '전달', 1077: '열', 1078: '먼저', 1079: 'ㅠㅠㅠ', 1080: '계', 1081: '왠지', 1082: '사이', 1083: 'ㅈ', 1084: '끄', 1085: '놔', 1086: '별루', 1087: '외', 1088: '흥미진진', 1089: '써', 1090: '감상', 1091: '알바', 1092: '해피', 1093: '15', 1094: '환상', 1095: '범죄', 1096: '마치', 1097: '적당', 1098: '거리', 1099: '낚', 1100: '능력', 1101: '예', 1102: '문화', 1103: '이젠', 1104: '다행', 1105: '철학', 1106: '리메이크', 1107: '스런', 1108: '행동', 1109: '효과', 1110: '잊혀', 1111: '곤', 1112: '할까', 1113: 'D', 1114: '슴', 1115: '디', 1116: '미래', 1117: '어렵', 1118: '그래', 1119: '분명', 1120: '호러', 1121: '로운', 1122: '......', 1123: '걸까', 1124: '아닌데', 1125: '먹먹', 1126: '어떻', 1127: '봣는데', 1128: '랄까', 1129: '실제', 1130: '바람', 1131: '엿', 1132: '더군요', 1133: '새', 1134: '되게', 1135: '병', 1136: '백', 1137: '인정', 1138: '대충', 1139: '마시', 1140: '위대', 1141: '\"\"\"', 1142: '군대', 1143: '관심', 1144: '후반', 1145: '마저', 1146: '깊이', 1147: '그런가', 1148: '으며', 1149: '핵', 1150: '성공', 1151: '카메라', 1152: '탄', 1153: '선생', 1154: '올', 1155: '꼴', 1156: 'OST', 1157: '악', 1158: '범인', 1159: '과정', 1160: '차이', 1161: '생애', 1162: '제작비', 1163: '아닐까', 1164: '손발', 1165: '빵', 1166: '키', 1167: '보여준', 1168: '사극', 1169: '시도', 1170: '젊', 1171: '천', 1172: '드립니다', 1173: '가득', 1174: '언니', 1175: '겁나', 1176: '귀여운', 1177: '께', 1178: '성인', 1179: '박수', 1180: '=', 1181: '웃긴', 1182: '봅니다', 1183: '은지', 1184: '심', 1185: '매', 1186: '늘', 1187: '늙', 1188: '미소', 1189: '평생', 1190: '가끔', 1191: '억', 1192: '^', 1193: '그럼', 1194: '스케일', 1195: '바라', 1196: '됩니다', 1197: '어쩌', 1198: '케이블', 1199: '우울', 1200: '동생', 1201: '낚였', 1202: '결론', 1203: '광고', 1204: '젤', 1205: '다소', 1206: '확실히', 1207: '얻', 1208: 'cg', 1209: '여서', 1210: '벗', 1211: '심심', 1212: '남주', 1213: '한계', 1214: '괴물', 1215: '영웅', 1216: '모', 1217: '메시지', 1218: '일상', 1219: '12', 1220: '자유', 1221: '리얼', 1222: '귀', 1223: '채널', 1224: '러브', 1225: '소', 1226: '당하', 1227: '거지', 1228: '산만', 1229: '<', 1230: 'ㅇ', 1231: '충분', 1232: '폭력', 1233: '가진', 1234: '잤', 1235: '고민', 1236: '슬픔', 1237: '커플', 1238: '아침', 1239: '제작진', 1240: '볼수록', 1241: '의리', 1242: '질리', 1243: '조폭', 1244: '자막', 1245: '독립영화', 1246: '율', 1247: '정', 1248: '걸로', 1249: '올리', 1250: '연애', 1251: '져', 1252: '리뷰', 1253: '기본', 1254: '훨', 1255: '싸우', 1256: '아까웠', 1257: '성장', 1258: '.?', 1259: '끼', 1260: '흐름', 1261: '표절', 1262: '밤', 1263: '쩐', 1264: '아라', 1265: '퀄리티', 1266: '뮤지컬', 1267: '정말로', 1268: '자는', 1269: '소장', 1270: '여행', 1271: '상상력', 1272: '시선', 1273: '스타', 1274: '개판', 1275: '짝', 1276: '코드', 1277: '살짝', 1278: '여전히', 1279: '박', 1280: '한다고', 1281: '시청자', 1282: '♡', 1283: '악역', 1284: '어린이', 1285: '굳이', 1286: '열심히', 1287: '덕분', 1288: '줘야', 1289: '유일', 1290: '포장', 1291: '웃겨', 1292: '몸매', 1293: '통해', 1294: '완성도', 1295: '포기', 1296: '우정', 1297: '감탄', 1298: '동물', 1299: '막판', 1300: '불륜', 1301: '알려', 1302: '듯이', 1303: '최', 1304: '생겼', 1305: '반성', 1306: '인기', 1307: '분노', 1308: '테', 1309: '정서', 1310: '40', 1311: '과연', 1312: '베', 1313: '느', 1314: '덜', 1315: '어찌', 1316: '깔끔', 1317: '실패', 1318: '고전', 1319: '드럽', 1320: '입도', 1321: '쫌', 1322: '자식', 1323: '상처', 1324: '~~~~', 1325: '&', 1326: '용서', 1327: '정치', 1328: '이연걸', 1329: '몰라도', 1330: '딴', 1331: '딩', 1332: '불가', 1333: '종교', 1334: '약', 1335: '선', 1336: '빡', 1337: '섹시', 1338: '방', 1339: '싸이코', 1340: '귀여워', 1341: '압권', 1342: '난해', 1343: '니깐', 1344: '달리', 1345: '의심', 1346: '섹스', 1347: '고생', 1348: '으론', 1349: '저예산', 1350: '예쁜', 1351: '까진', 1352: '업', 1353: '터지', 1354: '빛', 1355: '코', 1356: '북한', 1357: '언제나', 1358: '70', 1359: '블랙', 1360: '홍보', 1361: '끼리', 1362: '힐링', 1363: '더만', 1364: '공부', 1365: '특별', 1366: '비하', 1367: 'ㅇㅇ', 1368: 'b', 1369: '~^^', 1370: '긴장', 1371: '춤', 1372: '시켜', 1373: '루', 1374: '살아가', 1375: '국민', 1376: '등장인물', 1377: '본방', 1378: 'ㅁ', 1379: '에휴', 1380: '트', 1381: '느와르', 1382: '통쾌', 1383: '권', 1384: '웃겼', 1385: '죄', 1386: '보인다', 1387: '어제', 1388: '휴', 1389: '니다', 1390: '쉬', 1391: '돌아가', 1392: '불쾌', 1393: '펑펑', 1394: '남편', 1395: '재난', 1396: '나머지', 1397: '눈빛', 1398: '하나하나', 1399: '지겹', 1400: '더라구요', 1401: '먼', 1402: '보내', 1403: '더라도', 1404: '놀랍', 1405: '다큐멘터리', 1406: '열정', 1407: '아까', 1408: '그립', 1409: '봐요', 1410: '이기', 1411: '쪽', 1412: '뜨', 1413: '늦', 1414: '신경', 1415: '누나', 1416: '의외', 1417: '찡', 1418: '아오', 1419: '올해', 1420: '_', 1421: '연결', 1422: '볼거리', 1423: '줘서', 1424: '밥', 1425: '남녀', 1426: '암튼', 1427: '조잡', 1428: '씁쓸', 1429: '깨', 1430: '그럭저럭', 1431: '파', 1432: '표', 1433: '입장', 1434: '우주', 1435: 'ㄹ', 1436: '쓰래', 1437: '디즈니', 1438: '비극', 1439: '비판', 1440: '시원', 1441: '연예인', 1442: '못할', 1443: '지구', 1444: '오락', 1445: '으로서', 1446: '아쉬웠', 1447: '살리', 1448: '비주얼', 1449: '반개', 1450: '와서', 1451: '아픔', 1452: '11', 1453: '아련', 1454: '출연진', 1455: '그다지', 1456: '줘', 1457: '스러움', 1458: '무시', 1459: '반복', 1460: '무협', 1461: '그걸', 1462: '생기', 1463: '게다가', 1464: '이제야', 1465: '히어로', 1466: '심각', 1467: '자리', 1468: '려면', 1469: '바뀌', 1470: '불구', 1471: '실력', 1472: '게이', 1473: '50', 1474: '딱히', 1475: '돌려', 1476: '닮', 1477: '을지', 1478: '악당', 1479: '썼', 1480: '결과', 1481: '헐리우드', 1482: '과장', 1483: '한지', 1484: '강렬', 1485: '아줌마', 1486: '설마', 1487: '러닝', 1488: '실', 1489: '지요', 1490: '뜻', 1491: '때리', 1492: '로써', 1493: '의문', 1494: '들어가', 1495: '방금', 1496: '하루', 1497: '쓸', 1498: '션', 1499: '부르', 1500: '냐고', 1501: '한다면', 1502: '그거', 1503: '썩', 1504: '영환', 1505: '시사회', 1506: '단지', 1507: '싸구려', 1508: '맞추', 1509: '한국인', 1510: '아픈', 1511: '깨닫', 1512: '발견', 1513: '소소', 1514: '맨날', 1515: '태어나', 1516: '이때', 1517: '덕', 1518: '존경', 1519: '라지만', 1520: '희생', 1521: '시각', 1522: '오글거리', 1523: '낳', 1524: '어머니', 1525: '뛰어난', 1526: '벌', 1527: '놀랐', 1528: '이영화', 1529: '대화', 1530: '방식', 1531: '생활', 1532: '싸', 1533: '섬세', 1534: '돌리', 1535: '청소년', 1536: '흔한', 1537: '확', 1538: '풋풋', 1539: '방법', 1540: '새벽', 1541: '본인', 1542: '입감', 1543: '무서웠', 1544: '로봇', 1545: '무언가', 1546: '초등', 1547: '조절', 1548: '갑니다', 1549: '진리', 1550: '고통', 1551: '발전', 1552: '버', 1553: '밋밋', 1554: '아역', 1555: '그린', 1556: '외모', 1557: '따위', 1558: '쇼', 1559: '찝찝', 1560: '벌써', 1561: '베스트', 1562: '흐르', 1563: '심장', 1564: '전문가', 1565: '야한', 1566: '인도', 1567: '아이돌', 1568: '외국', 1569: '이따위', 1570: '필름', 1571: '세기', 1572: '누군가', 1573: '견자단', 1574: '이미지', 1575: '짝퉁', 1576: '아류', 1577: '어려운', 1578: '느낀', 1579: '푹', 1580: '묻', 1581: '헐리', 1582: '19', 1583: '글쎄', 1584: '기에', 1585: '로그인', 1586: '사수', 1587: '야하', 1588: '시킨', 1589: '완', 1590: '유', 1591: '시트콤', 1592: '장애', 1593: '갈등', 1594: '창', 1595: '스스로', 1596: '상업', 1597: '김기덕', 1598: '테러', 1599: '영어', 1600: '진다', 1601: '기다리', 1602: '고요', 1603: '이쁜', 1604: '미스', 1605: '죄다', 1606: '했으나', 1607: '그려', 1608: '연속', 1609: '스러웠', 1610: '???', 1611: '본다면', 1612: '애기', 1613: '한가', 1614: '국내', 1615: '[', 1616: '느라', 1617: '월', 1618: '끼치', 1619: '뭉클', 1620: '쩝', 1621: '미드', 1622: '교육', 1623: '특이', 1624: '국가', 1625: '기술', 1626: '시걸', 1627: '자살', 1628: '와우', 1629: '명품', 1630: '인해', 1631: '깜짝', 1632: '대중', 1633: '..?', 1634: '오브', 1635: '쏘', 1636: '사기', 1637: '앤', 1638: '오버', 1639: '학생', 1640: '망했', 1641: '세월', 1642: '영원', 1643: '주말', 1644: '특수', 1645: '어여', 1646: '극치', 1647: '미모', 1648: '쥐', 1649: '주변', 1650: '겨울', 1651: '지나치', 1652: ']', 1653: '라인', 1654: '점주', 1655: '착한', 1656: '조합', 1657: '레전드', 1658: '형편없', 1659: '18', 1660: '봐야지', 1661: '갠', 1662: '그지', 1663: '경험', 1664: '래', 1665: '에피소드', 1666: '해석', 1667: '해야지', 1668: '탑', 1669: '13', 1670: '녀', 1671: '아름다움', 1672: '갑', 1673: '한참', 1674: '편견', 1675: '무지', 1676: '신고', 1677: '슬펐', 1678: '는군', 1679: '채', 1680: '새롭', 1681: '치밀', 1682: '참고', 1683: '명화', 1684: '솔직', 1685: '챙겨', 1686: '고양이', 1687: '륜', 1688: '꼬', 1689: '어휴', 1690: '터', 1691: '양', 1692: '검색', 1693: '학년', 1694: '포', 1695: '단연', 1696: '영국', 1697: '투자', 1698: '캐', 1699: '이용', 1700: '시시', 1701: '엉', 1702: '스크린', 1703: '뽑', 1704: '할지', 1705: '우와', 1706: '멀', 1707: '양심', 1708: '007', 1709: '뇌', 1710: '포인트', 1711: '찌질', 1712: '등등', 1713: '무척', 1714: '다양', 1715: '영혼', 1716: '사진', 1717: '민망', 1718: '대부분', 1719: '저렇게', 1720: '허세', 1721: '확실', 1722: '자면', 1723: '.......', 1724: '꼽', 1725: '싸움', 1726: '기독교', 1727: '돋보이', 1728: '대표', 1729: '21', 1730: '으로써', 1731: '형사', 1732: '찾아보', 1733: '즐거운', 1734: '놀', 1735: '그럴', 1736: '완성', 1737: '인가요', 1738: 'C', 1739: '맡', 1740: '복잡', 1741: '갓', 1742: '위해서', 1743: '달달', 1744: '초등학생', 1745: '레알', 1746: '실제로', 1747: '호', 1748: '놀라', 1749: '외계인', 1750: '빈', 1751: '마이너스', 1752: '용기', 1753: '겁니다', 1754: '생생', 1755: '일어나', 1756: '패러디', 1757: '링', 1758: '옆', 1759: '줍니다', 1760: '망한', 1761: '꽝', 1762: '기자', 1763: 'good', 1764: '명성', 1765: '보였', 1766: '카리스마', 1767: '조작', 1768: '셔서', 1769: '즐기', 1770: '더러운', 1771: '변화', 1772: '응원', 1773: '기억나', 1774: '유발', 1775: '아내', 1776: '력', 1777: '된다는', 1778: '죽여', 1779: '코난', 1780: '못해', 1781: '포르노', 1782: '도전', 1783: '대해서', 1784: '개념', 1785: '미쳤', 1786: '땅', 1787: '적절', 1788: '관점', 1789: '드림', 1790: '풍경', 1791: '센스', 1792: '완전히', 1793: '망치', 1794: '더라면', 1795: '인상깊', 1796: '개막', 1797: '개뿔', 1798: '얘', 1799: '직접', 1800: '이야', 1801: '더불', 1802: '레', 1803: '개성', 1804: '화끈', 1805: '버림', 1806: '내요', 1807: '틈', 1808: '크리스마스', 1809: '따로', 1810: '할머니', 1811: '허', 1812: '전반', 1813: '아냐', 1814: 'x', 1815: '잠깐', 1816: '의식', 1817: '스트레스', 1818: '역겹', 1819: '느껴진다', 1820: '꽃', 1821: '일품', 1822: '대본', 1823: '피해자', 1824: '변태', 1825: '전기세', 1826: '수고', 1827: '형제', 1828: '아름다웠', 1829: '악마', 1830: '탓', 1831: '빌려', 1832: 'ㅠㅠㅠㅠ', 1833: 'M', 1834: '당연', 1835: '가수', 1836: '기준', 1837: '공짜', 1838: '무술', 1839: '@', 1840: '디테일', 1841: '흘리', 1842: '모를', 1843: '데리', 1844: '욕망', 1845: '기법', 1846: '야동', 1847: '젠장', 1848: '몇몇', 1849: '관한', 1850: '자고', 1851: '아까울', 1852: '빵점', 1853: '정상', 1854: '★', 1855: ';;;;', 1856: '는데요', 1857: '내면', 1858: '울리', 1859: '전투', 1860: '칼', 1861: '기회', 1862: '그건', 1863: '전문', 1864: '씀', 1865: '어용', 1866: '선물', 1867: '다룬', 1868: '빈약', 1869: '열받', 1870: '패', 1871: '뜬금없', 1872: '성격', 1873: '아마', 1874: '이렇', 1875: '잔', 1876: '주성치', 1877: '2014', 1878: '감흥', 1879: '방영', 1880: '정의', 1881: '움', 1882: '오바', 1883: '상태', 1884: '감히', 1885: 'DVD', 1886: '뛰어넘', 1887: '보통', 1888: '공', 1889: '비밀', 1890: '참으로', 1891: '졸리', 1892: '따구', 1893: '얼마', 1894: '안습', 1895: '해결', 1896: '칠', 1897: '효', 1898: '현대', 1899: '바꾸', 1900: 'ㅣ', 1901: '팀', 1902: '감명깊', 1903: '옷', 1904: '사상', 1905: '레딧', 1906: '골', 1907: '배역', 1908: 'the', 1909: '흑인', 1910: '미화', 1911: '근래', 1912: '이래서', 1913: '어야지', 1914: '픈', 1915: '기발', 1916: '이럴', 1917: '거짓말', 1918: '단어', 1919: '쵝오', 1920: '정체', 1921: '무리', 1922: '단편', 1923: '만남', 1924: '흘러가', 1925: '조아', 1926: '앉', 1927: '감각', 1928: '웬만', 1929: '제로', 1930: '남겨', 1931: '캬', 1932: '말아먹', 1933: '젼', 1934: '볼려고', 1935: '지났', 1936: '으니까', 1937: '색감', 1938: '아래', 1939: '라기', 1940: '껏', 1941: '아동', 1942: '내생', 1943: '아예', 1944: '최초', 1945: '떨어진다', 1946: '아기', 1947: '.;;', 1948: '여름', 1949: '부부', 1950: '빛나', 1951: '끝난', 1952: '영원히', 1953: '투', 1954: '안타까운', 1955: '어쩜', 1956: '잔뜩', 1957: '심오', 1958: '보임', 1959: '뛰', 1960: '설레', 1961: '공포물', 1962: '세련', 1963: '보여준다', 1964: '시기', 1965: '작위', 1966: '껐', 1967: '!!!!', 1968: '생각없이', 1969: '부실', 1970: '바랍니다', 1971: '차별', 1972: '약하', 1973: '동시', 1974: '겨우', 1975: '살린', 1976: '여러분', 1977: '탄생', 1978: '구하', 1979: '영환데', 1980: '조화', 1981: '키스', 1982: '이끌', 1983: '이쁨', 1984: '확인', 1985: '정보', 1986: '다루', 1987: '깎', 1988: '강력', 1989: '진정한', 1990: '꼬마', 1991: '그만큼', 1992: '빠져들', 1993: '예능', 1994: '빠진', 1995: '모험', 1996: '관련', 1997: '왜곡', 1998: '슈퍼', 1999: '승리', 2000: '왠', 2001: '치곤', 2002: '삭제', 2003: '자주', 2004: '최강', 2005: '이루', 2006: '넹', 2007: '........', 2008: '풍자', 2009: 'A', 2010: '씹', 2011: '살려', 2012: '아닙니다', 2013: '색다른', 2014: '해진다', 2015: '겪', 2016: '폐지', 2017: '여태', 2018: '운', 2019: '는대', 2020: '포스', 2021: '결코', 2022: '흉내', 2023: '강하', 2024: '사고', 2025: '촌스럽', 2026: '토', 2027: '운명', 2028: '느껴졌', 2029: 'X', 2030: 'sf', 2031: '매일', 2032: '목', 2033: '본지', 2034: '려다', 2035: '연극', 2036: '히', 2037: '연인', 2038: '겨', 2039: '매니아', 2040: '제외', 2041: '낚시', 2042: '망쳐', 2043: '목적', 2044: '호구', 2045: '꾼', 2046: '드리', 2047: '혹은', 2048: '아이디어', 2049: '앞뒤', 2050: '드라', 2051: '무서움', 2052: '이어지', 2053: '감안', 2054: '심지어', 2055: '오랫만', 2056: '한숨', 2057: '컷', 2058: '떼', 2059: '요리', 2060: '적당히', 2061: '절', 2062: '먼가', 2063: '하늘', 2064: '빵빵', 2065: '내리', 2066: '을까요', 2067: '혹시', 2068: '블록버스터', 2069: '끔찍', 2070: '신비', 2071: '올려', 2072: '냄새', 2073: '아무런', 2074: '짠', 2075: '꾸', 2076: '60', 2077: '플', 2078: '♥♥', 2079: '따라가', 2080: '넌', 2081: '걸리', 2082: '찌', 2083: '즈', 2084: '열연', 2085: '모양', 2086: '멜로', 2087: '건가요', 2088: '일반', 2089: '공주', 2090: '할아버지', 2091: '시점', 2092: '후속작', 2093: 'ㅠㅜ', 2094: '무료', 2095: '내일', 2096: '바라보', 2097: '대놓고', 2098: '못함', 2099: '담배', 2100: '대신', 2101: 'ㅉㅉㅉ', 2102: '곡', 2103: '버전', 2104: '천국', 2105: '닥', 2106: '즐거웠', 2107: '빠르', 2108: '바다', 2109: '가요', 2110: '혀', 2111: '브', 2112: '이제서야', 2113: '파괴', 2114: '살렸', 2115: '구리', 2116: '라곤', 2117: '당황', 2118: '주기', 2119: '수많', 2120: '플롯', 2121: '그야말로', 2122: '이전', 2123: '우분', 2124: '조카', 2125: '호감', 2126: '화나', 2127: '건만', 2128: '장국영', 2129: '돌아보', 2130: '금', 2131: '안감', 2132: '중독', 2133: '버릴', 2134: '중심', 2135: '신파', 2136: '부탁', 2137: '심형래', 2138: '.^^', 2139: '과학', 2140: '예산', 2141: '다섯', 2142: '추리', 2143: '소년', 2144: '사투리', 2145: '집착', 2146: '잠시', 2147: '술', 2148: '마디', 2149: '논리', 2150: '가정', 2151: '울컥', 2152: '마냥', 2153: '교과서', 2154: '마리', 2155: '예수', 2156: '임팩트', 2157: '야구', 2158: '따름', 2159: '대통령', 2160: '이뻐서', 2161: '욕심', 2162: '신나', 2163: '강한', 2164: '못한다', 2165: '종영', 2166: '워', 2167: '잭', 2168: '여친', 2169: '~!!!', 2170: '터짐', 2171: '의사', 2172: '야지', 2173: '체', 2174: '옛', 2175: '망하', 2176: '동네', 2177: '막히', 2178: '별반', 2179: '카', 2180: '엠', 2181: '끊', 2182: '다를', 2183: '쓸데없이', 2184: '수입', 2185: '거부', 2186: '색', 2187: '사라지', 2188: '힘내', 2189: '따분', 2190: '정작', 2191: '어처구니', 2192: '강', 2193: '볼까', 2194: '일부러', 2195: '뭘까', 2196: '고맙', 2197: '조선', 2198: '마이클', 2199: '상영관', 2200: '손가락', 2201: '명배우', 2202: '놀라운', 2203: '당연히', 2204: '영화제', 2205: '위험', 2206: '깍', 2207: '고등학교', 2208: '뛰어나', 2209: '멋졌', 2210: '처', 2211: '탈출', 2212: '환경', 2213: '명장면', 2214: '설득력', 2215: '네유', 2216: '터미네이터', 2217: '르', 2218: '컨셉', 2219: '는군요', 2220: '문', 2221: '하품', 2222: '실수', 2223: '공간', 2224: '난리', 2225: '잔혹', 2226: '쿡', 2227: '일깨워', 2228: '미녀', 2229: '클레멘타인', 2230: '만약', 2231: '무서워', 2232: '고서', 2233: '끼워', 2234: '중학교', 2235: '당할', 2236: '가벼운', 2237: '로코', 2238: '뱀파이어', 2239: '바탕', 2240: '때우', 2241: 'dvd', 2242: '최대', 2243: '콩', 2244: '혹시나', 2245: '껄', 2246: '따지', 2247: '결정', 2248: '짜임새', 2249: '주윤발', 2250: '자랑', 2251: '지경', 2252: '반드시', 2253: '론', 2254: '해리포터', 2255: '음식', 2256: '동심', 2257: '사운드', 2258: '해진', 2259: '14', 2260: '저급', 2261: '인형', 2262: '든지', 2263: '착각', 2264: '루즈', 2265: '구역', 2266: '잖', 2267: '베드', 2268: '고어', 2269: '망친', 2270: '재능', 2271: '스러워', 2272: '마약', 2273: '멍', 2274: '따듯', 2275: 'd', 2276: '조니뎁', 2277: '숨겨진', 2278: '반대', 2279: '빠른', 2280: '그대', 2281: '나간', 2282: '우뢰매', 2283: '밝', 2284: '값', 2285: '자동차', 2286: '거장', 2287: '박진감', 2288: '2000', 2289: '발상', 2290: '심한', 2291: '친', 2292: '희대', 2293: '선동', 2294: '놨', 2295: '단순히', 2296: '뭥미', 2297: '--', 2298: '다신', 2299: '사용', 2300: '홍상수', 2301: '동성애', 2302: '하지원', 2303: '침', 2304: 'I', 2305: '부럽', 2306: '애매', 2307: '려다가', 2308: '옴', 2309: '책임', 2310: '편안', 2311: '생긴', 2312: '이소룡', 2313: '인내심', 2314: '틱', 2315: '다크', 2316: '떠오르', 2317: '국판', 2318: '살인마', 2319: '폭발', 2320: '여인', 2321: '극단', 2322: '선정', 2323: '평균', 2324: '만화책', 2325: '걱정', 2326: '실험', 2327: '기적', 2328: '분장', 2329: '절정', 2330: '의상', 2331: '잠들', 2332: '군인', 2333: '나이트', 2334: '☆', 2335: '빌', 2336: '디워', 2337: '하정우', 2338: '익숙', 2339: '버려', 2340: '간만', 2341: '엄청나', 2342: '피해', 2343: '저렇', 2344: '엇다', 2345: '귀여움', 2346: '리즈', 2347: '정신병자', 2348: '뽕', 2349: '으시', 2350: '누군지', 2351: '떨어짐', 2352: '및', 2353: '참나', 2354: '해졌', 2355: '난잡', 2356: '아무튼', 2357: '우려먹', 2358: '부작', 2359: '전하', 2360: 'of', 2361: '이토록', 2362: '섞', 2363: '동영상', 2364: '의지', 2365: '블', 2366: '나레이션', 2367: '쓸데없', 2368: '분량', 2369: '세대', 2370: '붙', 2371: '만난', 2372: '적어도', 2373: '할리우드', 2374: '끈', 2375: '목숨', 2376: '메', 2377: '느니', 2378: '상대', 2379: '돼지', 2380: '민폐', 2381: '도움', 2382: '준비', 2383: '주일', 2384: '검', 2385: '떄', 2386: '연상', 2387: '인터넷', 2388: '도무지', 2389: '당한', 2390: '흑', 2391: '빠져서', 2392: 'a', 2393: '인종', 2394: '탈', 2395: '남성', 2396: '영향', 2397: '마이', 2398: '반지', 2399: '22', 2400: '여신', 2401: '요새', 2402: '패스', 2403: '믿기', 2404: '우연', 2405: '응', 2406: '킹', 2407: '솔', 2408: '낚이', 2409: '짐캐리', 2410: '거품', 2411: '중간중간', 2412: '줘도', 2413: '샘', 2414: '재개봉', 2415: '명대사', 2416: '다리', 2417: '평화', 2418: '원조', 2419: '출신', 2420: '뗄', 2421: '하하', 2422: '흑백', 2423: '배트맨', 2424: '소화', 2425: '아놀드', 2426: '진수', 2427: '처절', 2428: '장난치', 2429: '서울', 2430: '저리', 2431: '네티즌', 2432: '퍼', 2433: '광', 2434: '국', 2435: '죄송', 2436: '기존', 2437: '송강호', 2438: '유럽', 2439: '김치', 2440: '격', 2441: '평소', 2442: '흥', 2443: '어쩌면', 2444: '에다', 2445: '겉멋', 2446: '하아', 2447: '부끄럽', 2448: '발음', 2449: '하도', 2450: '건강', 2451: '비중', 2452: '배급사', 2453: '25', 2454: '옹', 2455: '축구', 2456: '조용', 2457: '소개', 2458: '굉장', 2459: '위로', 2460: '놓치', 2461: '뭣', 2462: '이라도', 2463: '계기', 2464: '수록', 2465: '놀이', 2466: '스포츠', 2467: '유지', 2468: '생각난다', 2469: '충실', 2470: '극복', 2471: '빠졌', 2472: '거림', 2473: '벗어나', 2474: '판단', 2475: '쌍', 2476: '도시', 2477: '선수', 2478: '애절', 2479: '깡패', 2480: '으려고', 2481: '양아치', 2482: '봣', 2483: '라스트', 2484: '왤케', 2485: '쭉', 2486: '인류', 2487: '오프닝', 2488: '언젠가', 2489: '각', 2490: '리얼리티', 2491: '러시아', 2492: '거북', 2493: '능', 2494: '꿈꾸', 2495: '즐겨', 2496: '정우성', 2497: '구조', 2498: '려나', 2499: '망할', 2500: '제이슨', 2501: '반영', 2502: '.........', 2503: '설', 2504: '그동안', 2505: '곧', 2506: '글자', 2507: '제임스', 2508: '무대', 2509: '눈물나', 2510: '담백', 2511: '일본인', 2512: '`', 2513: '떨', 2514: '무한', 2515: '최고봉', 2516: '아까워서', 2517: '끔', 2518: '변하', 2519: '에다가', 2520: '게스트', 2521: '왕국', 2522: '톰', 2523: '무겁', 2524: '으리', 2525: '재미나', 2526: '찾아볼', 2527: '차원', 2528: '로드', 2529: '달콤', 2530: '반담', 2531: '가까운', 2532: '어둡', 2533: '으신', 2534: '말투', 2535: '류승범', 2536: '만났', 2537: '은근히', 2538: '납니다', 2539: '탁월', 2540: '넘어가', 2541: '빨갱이', 2542: '로버트', 2543: '품', 2544: '잉', 2545: '제왕', 2546: '찬', 2547: '단체', 2548: '파리', 2549: '도데체', 2550: '온다', 2551: '최소한', 2552: '압도', 2553: '역량', 2554: '최소', 2555: '독일', 2556: '파격', 2557: '느리', 2558: '연', 2559: '개콘', 2560: '호기심', 2561: '과하', 2562: '정당', 2563: '부정', 2564: '컴퓨터', 2565: '는다는', 2566: '진한', 2567: '단점', 2568: '둘째치', 2569: '멘', 2570: '각색', 2571: '몽환', 2572: '드디어', 2573: '접', 2574: '상어', 2575: '유아', 2576: '각자', 2577: '자마자', 2578: '날리', 2579: '깨알', 2580: '전화', 2581: '세여', 2582: '범죄자', 2583: '선사', 2584: '깨달', 2585: '바꿔', 2586: '도와', 2587: '치유', 2588: '중년', 2589: '2012', 2590: '헛웃음', 2591: '우리나라', 2592: '즐길', 2593: '아닐', 2594: '부리', 2595: '아쉬워', 2596: '편하', 2597: '옥', 2598: '브루스', 2599: '글고', 2600: '죤', 2601: '쏟', 2602: '올라가', 2603: '명불허전', 2604: '부인', 2605: '킬러', 2606: '좌', 2607: '정리', 2608: '튼', 2609: 'ㅉ', 2610: '뎅', 2611: '엄', 2612: '당했', 2613: '배꼽', 2614: '하나님', 2615: '신하균', 2616: '폭풍', 2617: '비행기', 2618: '세포', 2619: '이병헌', 2620: '로웠', 2621: '움직이', 2622: '해선', 2623: '뮤직', 2624: '죽인', 2625: '아팠', 2626: '나왓', 2627: '밀', 2628: '녀석', 2629: '화장실', 2630: '그라', 2631: '어두운', 2632: '부활', 2633: '촌', 2634: '오글오글', 2635: '임창정', 2636: '대결', 2637: '향수', 2638: '말씀', 2639: '불안', 2640: '지나가', 2641: '본능', 2642: '닥치', 2643: '짠하', 2644: '신인', 2645: '역겨운', 2646: '졸업', 2647: '림', 2648: '하이틴', 2649: '무게', 2650: '나타나', 2651: '된다고', 2652: '징', 2653: '만세', 2654: '웰메이드', 2655: '억울', 2656: '흐', 2657: '교회', 2658: '고뇌', 2659: '현', 2660: '슬', 2661: '폰', 2662: '락', 2663: '민족', 2664: 'you', 2665: '짜릿', 2666: '매번', 2667: '매미', 2668: '대상', 2669: 'EBS', 2670: '캐릭', 2671: '미스터리', 2672: '엽기', 2673: '노인', 2674: '명복', 2675: '백인', 2676: '덩어리', 2677: '스티븐', 2678: '일부', 2679: '베리', 2680: '지르', 2681: '등록', 2682: '애초', 2683: '드문', 2684: '진진', 2685: '바닥', 2686: '액션물', 2687: '튀', 2688: '실감', 2689: '처리', 2690: '이만', 2691: '가히', 2692: '무거운', 2693: '짬뽕', 2694: '껀', 2695: '타란티노', 2696: '순위', 2697: '몬', 2698: '대전', 2699: '44', 2700: '..........', 2701: '쓸쓸', 2702: '뜬금없이', 2703: '닼', 2704: '똑같이', 2705: '좋아할', 2706: '제니퍼', 2707: '명연기', 2708: '습니까', 2709: '착하', 2710: '시장', 2711: '해준다', 2712: '연습', 2713: '무간도', 2714: '불과', 2715: '직업', 2716: '높이', 2717: '상징', 2718: '녹', 2719: '구분', 2720: '유덕화', 2721: '아만다', 2722: '기사', 2723: '털', 2724: '예측', 2725: '공유', 2726: '발랄', 2727: '절망', 2728: '재방', 2729: '슈', 2730: '오로지', 2731: '맞춘', 2732: '은근', 2733: '개그맨', 2734: '전이', 2735: '회사', 2736: '창피', 2737: '여전', 2738: '소통', 2739: '담긴', 2740: '♥♥♥', 2741: '천만', 2742: '지키', 2743: '총체', 2744: '박보영', 2745: '미국식', 2746: '박중훈', 2747: '맛있', 2748: '강간', 2749: '지식', 2750: '필', 2751: '얼', 2752: 'T', 2753: '미스테리', 2754: '채우', 2755: '준거', 2756: '내게', 2757: '스파이더맨', 2758: '절제', 2759: '올레', 2760: '담겨', 2761: '떠', 2762: '초월', 2763: '짜집기', 2764: '생명', 2765: '특집', 2766: '흡입력', 2767: '정부', 2768: '.!', 2769: '신화', 2770: '우린', 2771: '스타뎀', 2772: '거대', 2773: '킬', 2774: '관', 2775: '공룡', 2776: '흘렸', 2777: '모른다', 2778: '경우', 2779: '연관', 2780: '향연', 2781: '간지', 2782: '무식', 2783: '개꿀', 2784: '마누라', 2785: '부산', 2786: '듭니다', 2787: '대부', 2788: '장점', 2789: '알파치노', 2790: '변신', 2791: '레옹', 2792: '칭찬', 2793: '깔', 2794: '재앙', 2795: '김수현', 2796: '.........................', 2797: '다시금', 2798: '왓', 2799: '강동원', 2800: '아쉬울', 2801: '존스', 2802: '도둑', 2803: '풍', 2804: '영화사', 2805: '비록', 2806: 'movie', 2807: '배신', 2808: '의한', 2809: '사과', 2810: '오그라드', 2811: '미션', 2812: '혐오', 2813: '웬', 2814: '본질', 2815: '한방', 2816: '동양', 2817: '암울', 2818: '최후', 2819: '묘한', 2820: '늘어지', 2821: '뒷', 2822: '원숭이', 2823: '뒤죽박죽', 2824: '커서', 2825: '포함', 2826: '도중', 2827: '혁명', 2828: '던데요', 2829: '들어간', 2830: '서부', 2831: '돋보였', 2832: '무난', 2833: '클래식', 2834: '지옥', 2835: '땡', 2836: '합시다', 2837: '왕조현', 2838: '땀', 2839: '라이언', 2840: '망쳤', 2841: '스타워즈', 2842: '케미', 2843: '전기', 2844: '고독', 2845: '레이', 2846: '마녀', 2847: '천사', 2848: '병원', 2849: '고딩', 2850: '디카프리오', 2851: '방향', 2852: '보일', 2853: '담담', 2854: '보소', 2855: '절로', 2856: '인권', 2857: '..^^', 2858: '엮', 2859: '킥', 2860: '픽사', 2861: '고문', 2862: '여러모로', 2863: '기괴', 2864: '했어요', 2865: '권력', 2866: '나무', 2867: '딩크', 2868: '넘기', 2869: '작화', 2870: '심사', 2871: '매끄럽', 2872: '철', 2873: '영구', 2874: '건질', 2875: '쌩', 2876: '뚱', 2877: '독립', 2878: '페이크', 2879: '쿨', 2880: '잖아요', 2881: '낭만', 2882: '섹', 2883: '16', 2884: '댄스', 2885: '런닝', 2886: '오그라들', 2887: '혼란', 2888: '시험', 2889: '상당', 2890: '워낙', 2891: '전해', 2892: '쥬얼', 2893: '예고', 2894: '고인', 2895: '당장', 2896: '상실', 2897: '대학', 2898: '귀여웠', 2899: '국어', 2900: '운동', 2901: '나을', 2902: '인식', 2903: '가짜', 2904: '진짜로', 2905: '광구', 2906: '…', 2907: '렷', 2908: '고증', 2909: '스텝', 2910: '시종일관', 2911: '낼', 2912: '은가', 2913: '스릴러물', 2914: '제작자', 2915: '줘야지', 2916: '추격', 2917: '화질', 2918: '절대로', 2919: '사이코', 2920: '정신없', 2921: '미학', 2922: '맥', 2923: '늑대', 2924: '의해', 2925: '뻔뻔', 2926: '찬양', 2927: '우기', 2928: '~~^^', 2929: '섬', 2930: 'ㅜㅠ', 2931: '남친', 2932: '너희', 2933: '어수선', 2934: '수면제', 2935: '상관없', 2936: '우선', 2937: '엄정화', 2938: '욕먹', 2939: '어떠', 2940: '젖', 2941: 'Good', 2942: '전성기', 2943: '셋', 2944: '유치찬란', 2945: '위트', 2946: '반응', 2947: '곱', 2948: '상식', 2949: '공연', 2950: '환자', 2951: 's', 2952: '기다려', 2953: '호불호', 2954: '주인', 2955: '월드', 2956: '한석규', 2957: '김혜수', 2958: '언', 2959: '허나', 2960: '무기', 2961: '별거', 2962: '능가', 2963: '머릿속', 2964: '나와야', 2965: '아닌가요', 2966: '가까이', 2967: '매주', 2968: '하하하', 2969: '짱구', 2970: '렉', 2971: '터졌', 2972: '감명', 2973: '이별', 2974: '덤', 2975: '빕', 2976: '세트', 2977: '멋져', 2978: '환장', 2979: '떡밥', 2980: '걷', 2981: '~~!!', 2982: '옳', 2983: '차승원', 2984: '센', 2985: '중학생', 2986: '웃겨서', 2987: '드립', 2988: '놀란', 2989: '아마추어', 2990: '였을', 2991: '회상', 2992: '17', 2993: '폼', 2994: '모자라', 2995: '빠질', 2996: '아우', 2997: '거짓', 2998: '쳤', 2999: '추가', 3000: '께서', 3001: '바란다', 3002: '마찬가지', 3003: '모아', 3004: '기획', 3005: '구려', 3006: '릭터', 3007: '아이유', 3008: '부자연', 3009: '치고', 3010: '호흡', 3011: '쥬', 3012: '누님', 3013: '공중', 3014: '실사', 3015: '낮추', 3016: '슈퍼맨', 3017: '^-^', 3018: '외국인', 3019: '어린애', 3020: '보물', 3021: '활용', 3022: '애잔', 3023: '오해', 3024: '안타까움', 3025: '주관', 3026: '컸', 3027: '흥분', 3028: '훈', 3029: '온갖', 3030: '구경', 3031: '허허', 3032: '음향', 3033: '형식', 3034: '니매', 3035: '오르', 3036: '애틋', 3037: '멋져요', 3038: '어정쩡', 3039: '셧', 3040: '택시', 3041: '쳐도', 3042: '99', 3043: '컨', 3044: '답니다', 3045: '문득', 3046: '어차피', 3047: '세계관', 3048: '집니다', 3049: '방해', 3050: '뜬', 3051: '긴박', 3052: '김희선', 3053: '랄', 3054: '걸린', 3055: '널', 3056: '개똥', 3057: '테이큰', 3058: '방황', 3059: '서양', 3060: 'bb', 3061: '납득', 3062: '재탕', 3063: '아니면', 3064: '파워', 3065: '즐거움', 3066: '낀', 3067: '권상우', 3068: '픽션', 3069: '에라이', 3070: '나루토', 3071: '거려서', 3072: '종', 3073: '본격', 3074: '괴', 3075: '스릴감', 3076: '봣다', 3077: '태국', 3078: '나열', 3079: '향기', 3080: '안녕', 3081: '살아남', 3082: '구할', 3083: '승부', 3084: '으러', 3085: '캐리', 3086: '겉', 3087: '칸', 3088: '->', 3089: '어쨌든', 3090: '메이', 3091: '상큼', 3092: '보석', 3093: '애정', 3094: '폴', 3095: '수사', 3096: '장진', 3097: '위주', 3098: '언어', 3099: '속도', 3100: '섬뜩', 3101: '이뻐', 3102: '역작', 3103: '의견', 3104: 'is', 3105: '나았', 3106: '복선', 3107: '먹칠', 3108: '틀리', 3109: '할려고', 3110: '전지현', 3111: '한동안', 3112: '타인', 3113: '어째', 3114: '곰', 3115: '쉬운', 3116: '닥터', 3117: '인연', 3118: '오랫동안', 3119: '헉', 3120: '뒤늦', 3121: '해외', 3122: '스파이', 3123: '케빈', 3124: '생겨서', 3125: '고향', 3126: '봐줄', 3127: '장소', 3128: '냥', 3129: '검사', 3130: '느낀다', 3131: '독', 3132: '지대', 3133: '비참', 3134: '슬퍼요', 3135: '광기', 3136: '모호', 3137: '두고두고', 3138: '귀찮', 3139: '나갔', 3140: '반갑', 3141: '외면', 3142: '든가', 3143: '자세', 3144: '느껴질', 3145: '내놓', 3146: '냈', 3147: '기영', 3148: '로빈', 3149: '저것', 3150: '어울림', 3151: '!!!!!', 3152: '난무', 3153: '막상', 3154: '떡', 3155: '성형', 3156: '대역', 3157: '수다', 3158: '재수없', 3159: '신부', 3160: '..!', 3161: '보여서', 3162: '약한', 3163: '나온다고', 3164: '어린아이', 3165: '에이', 3166: '유익', 3167: '극본', 3168: '치료', 3169: '집단', 3170: '풀어낸', 3171: '민', 3172: '지내', 3173: '고작', 3174: '시체', 3175: '추', 3176: '목사', 3177: '애인', 3178: '기타', 3179: '류영화', 3180: 'MBC', 3181: '나서', 3182: '영웅본색', 3183: '나머진', 3184: '어딘가', 3185: '깜놀', 3186: '주온', 3187: '원하', 3188: '참여', 3189: '흠잡', 3190: '-_-;;', 3191: '간직', 3192: '홀로', 3193: '뻥', 3194: '블루', 3195: '질문', 3196: '아야지', 3197: '어울린다', 3198: '영화판', 3199: '가리', 3200: '찾아가', 3201: '감정선', 3202: '더라고요', 3203: '일반인', 3204: '엉뚱', 3205: '..(', 3206: '피아노', 3207: '원피스', 3208: '시켰', 3209: '정확', 3210: '나올까', 3211: '톤', 3212: '시킬', 3213: '커버', 3214: '짙', 3215: '무서울', 3216: '박찬욱', 3217: '벨', 3218: '버스', 3219: '친절', 3220: '이럼', 3221: '이것저것', 3222: '고등학생', 3223: '오로라', 3224: '유행', 3225: '괴수', 3226: '커', 3227: '셔야', 3228: '더군', 3229: '국산', 3230: '런', 3231: '금지', 3232: '조기', 3233: '묻어나', 3234: '묵직', 3235: '남긴다', 3236: '비해서', 3237: '설경구', 3238: 'c', 3239: '왕자', 3240: '찬사', 3241: '부담', 3242: '다가오', 3243: '가시', 3244: '아바타', 3245: '이뻤', 3246: '줘요', 3247: '죽일', 3248: '흔하', 3249: '여유', 3250: '도라에몽', 3251: '정사', 3252: '빅', 3253: '오직', 3254: '몰라', 3255: '던져', 3256: '^^*', 3257: '클라스', 3258: '.!!', 3259: '저러', 3260: '개발', 3261: '귀여워서', 3262: 'vs', 3263: '쟈', 3264: '될까', 3265: '최민수', 3266: '집안', 3267: '사나이', 3268: '떠올리', 3269: '시민', 3270: '2015', 3271: '유령', 3272: '드니로', 3273: '대하', 3274: '유혹', 3275: '터져', 3276: '일찍', 3277: '겻', 3278: '강요', 3279: '미쳐', 3280: '지우', 3281: '시골', 3282: '흔적', 3283: '이정재', 3284: '환', 3285: '볼일', 3286: '아아', 3287: '지도', 3288: '한국어', 3289: '쏘우', 3290: '200', 3291: '가관', 3292: '투성이', 3293: '맞춰', 3294: '따스', 3295: '힙합', 3296: '갖춘', 3297: '닷', 3298: '난국', 3299: '앙', 3300: '프', 3301: '기다렸', 3302: '하이', 3303: '는다고', 3304: '구혜선', 3305: '렸', 3306: '드려요', 3307: '개소리', 3308: '로망', 3309: '오랜', 3310: '차분', 3311: '뿌', 3312: '인디', 3313: '마블', 3314: '꺼버렸', 3315: '욤', 3316: '데뷔작', 3317: '납치', 3318: '엉망진창', 3319: '맥스', 3320: '나갈', 3321: '성적', 3322: '군더더기', 3323: '분명히', 3324: '실상', 3325: '커피', 3326: '날려', 3327: '될지', 3328: '반감', 3329: '차리', 3330: '김명민', 3331: '팍팍', 3332: '심정', 3333: '예뻐서', 3334: '미달', 3335: '번역', 3336: '저희', 3337: '쯧쯧', 3338: '송승헌', 3339: '제시카', 3340: '롱', 3341: '밧', 3342: '스페인', 3343: '둔', 3344: '팝콘', 3345: '연주', 3346: '새삼', 3347: '열라', 3348: '소품', 3349: '멘탈', 3350: '레기', 3351: '。', 3352: '좆', 3353: '충', 3354: '농담', 3355: '손색', 3356: '소지섭', 3357: '학원', 3358: '외로움', 3359: '게끔', 3360: '좋아해서', 3361: '람보', 3362: '시끄럽', 3363: '수위', 3364: '쓴다', 3365: '웃긴다', 3366: '뉴스', 3367: '짱나', 3368: '강아지', 3369: '볼꺼', 3370: '동감', 3371: '나온다는', 3372: '나마', 3373: '모욕', 3374: '정점', 3375: '최민식', 3376: '추구', 3377: '듦', 3378: '믿음', 3379: '뮤', 3380: '리스트', 3381: '없애', 3382: '드만', 3383: '그냥저냥', 3384: '버린다', 3385: '셔', 3386: '불러', 3387: '색깔', 3388: '지저분', 3389: '알리', 3390: '맑', 3391: '다이하드', 3392: '신데렐라', 3393: '컬트', 3394: '28', 3395: '적나라', 3396: '아리', 3397: '왕가위', 3398: '았었', 3399: '뿌리', 3400: '도저', 3401: '멈추', 3402: '산다', 3403: '스필버그', 3404: '우롱', 3405: '먹먹해', 3406: '느냐', 3407: '평론', 3408: '성경', 3409: '끝판', 3410: '숲', 3411: '할배', 3412: '안타까웠', 3413: '오페라', 3414: '통해서', 3415: '젊은이', 3416: '이은주', 3417: '모독', 3418: '모방', 3419: '들어오', 3420: '끝난다', 3421: '어중간', 3422: '향한', 3423: '만든다', 3424: '쳐서', 3425: '열자', 3426: '피곤', 3427: '폭', 3428: '청년', 3429: '떨어졌', 3430: '놀랬', 3431: '예뻤', 3432: '공허', 3433: '손예진', 3434: '클라라', 3435: '학창', 3436: '모순', 3437: '보낸다', 3438: '김태희', 3439: '~~~~~', 3440: '마마', 3441: '..;;', 3442: '주위', 3443: '증말', 3444: '관람객', 3445: '푸', 3446: '층', 3447: '사장', 3448: '각각', 3449: '경악', 3450: '본성', 3451: '눈치', 3452: '고수', 3453: '쟁이', 3454: '여왕', 3455: '기업', 3456: '붕', 3457: '장동건', 3458: '태양', 3459: '드래곤볼', 3460: '자격', 3461: '새록새록', 3462: '엑스맨', 3463: '애국심', 3464: '탐', 3465: '슬퍼', 3466: '조심', 3467: '괴담', 3468: '스킵', 3469: '드물', 3470: '-_-;', 3471: '고르', 3472: '아이언맨', 3473: '클', 3474: '썸', 3475: '열광', 3476: '짜내', 3477: '머지', 3478: '조정', 3479: '학살', 3480: '재방송', 3481: '람', 3482: '몰락', 3483: '감기', 3484: '울림', 3485: '함부로', 3486: '타이틀', 3487: '김민종', 3488: '전라도', 3489: '피디', 3490: '성유리', 3491: '부여', 3492: '마법', 3493: '임신', 3494: '유리', 3495: '울음', 3496: '상관', 3497: '부끄러운', 3498: '풀어내', 3499: '어지럽', 3500: '한정', 3501: '김구라', 3502: '후기', 3503: '첩보', 3504: '위하', 3505: '신세경', 3506: '남매', 3507: '할게요', 3508: '피식', 3509: '추악', 3510: '절묘', 3511: '고급', 3512: '2013', 3513: '저주', 3514: '지역', 3515: '겁', 3516: '가난', 3517: '구라', 3518: '감옥', 3519: '자본', 3520: '남긴', 3521: '끊기', 3522: '재료', 3523: '으세요', 3524: '커녕', 3525: '관리', 3526: '출발', 3527: '이입', 3528: '혐', 3529: '냉정', 3530: '거려', 3531: '국제', 3532: '니콜', 3533: 'O', 3534: '지극히', 3535: '그렇지만', 3536: '지켜', 3537: '간간히', 3538: '돌아오', 3539: '려는지', 3540: '이외', 3541: '이탈리아', 3542: '키우', 3543: '영활', 3544: '나와라', 3545: '과도', 3546: '정화', 3547: '색채', 3548: '아닌지', 3549: '미장센', 3550: '안성기', 3551: '이어', 3552: '2005', 3553: '누', 3554: '장난감', 3555: '앞서', 3556: '더더욱', 3557: '통', 3558: '입니까', 3559: '우승', 3560: '북', 3561: '신세계', 3562: '때로', 3563: '묘하', 3564: '적극', 3565: '일어날', 3566: '재현', 3567: '서정', 3568: '차태현', 3569: '범', 3570: '동', 3571: '카피', 3572: '베일', 3573: '법정', 3574: '조악', 3575: '정석', 3576: '졸려', 3577: '영광', 3578: '흐지부지', 3579: '전도연', 3580: '춤추', 3581: '먼지', 3582: '황정민', 3583: '들리', 3584: '객관', 3585: '존재감', 3586: '덮', 3587: '예쁨', 3588: '만날', 3589: '공원', 3590: '아카데미', 3591: '벽', 3592: '더욱더', 3593: '흔들', 3594: '슨', 3595: '사전', 3596: '이민기', 3597: '지독', 3598: '들어도', 3599: '말리', 3600: '거슬리', 3601: 'ㅄ', 3602: '일지', 3603: '예술가', 3604: '성찰', 3605: 'ㅜㅜㅜ', 3606: '소피마르소', 3607: '미국인', 3608: '엽문', 3609: '경의', 3610: '했어도', 3611: '꽉', 3612: '뭔가요', 3613: '부각', 3614: 'OOOO', 3615: '노예', 3616: '또는', 3617: '파라', 3618: '요약', 3619: '꺼내', 3620: '양반', 3621: '해냈', 3622: '할수록', 3623: '행위', 3624: '감수', 3625: '마을', 3626: '쓰레', 3627: '싼', 3628: '이연희', 3629: '다운로드', 3630: '그지없', 3631: '외치', 3632: '려니', 3633: '부디', 3634: '규', 3635: '다름', 3636: '빌리', 3637: '한텐', 3638: '헤', 3639: '라구', 3640: '박평식', 3641: '기도', 3642: '엉터리', 3643: '공감대', 3644: '임청하', 3645: '걸릴', 3646: '이웃', 3647: '기록', 3648: '자아', 3649: '토할', 3650: '대비', 3651: '틀림없', 3652: '최선', 3653: '으려', 3654: '단역', 3655: '정통', 3656: '에드워드', 3657: '트랜스포머', 3658: '원했', 3659: '직', 3660: '와중', 3661: '지브리', 3662: '초기', 3663: '댓', 3664: '출현', 3665: '실패작', 3666: '아끼', 3667: '호텔', 3668: '뿜', 3669: '뭔데', 3670: '색다르', 3671: '합', 3672: '티나', 3673: '놀래키', 3674: '어떡', 3675: '는디', 3676: '배속', 3677: '거든', 3678: '스러울', 3679: '해짐', 3680: '띄', 3681: '배려', 3682: '수십', 3683: '톰크루즈', 3684: '크루즈', 3685: '과대평가', 3686: 'o', 3687: '교수', 3688: '유지태', 3689: '데이', 3690: '파이팅', 3691: '섭외', 3692: '마스터', 3693: '배울', 3694: '계시', 3695: '깨끗', 3696: '식스', 3697: '차마', 3698: '정확히', 3699: '뚝뚝', 3700: '공식', 3701: '조명', 3702: '평이', 3703: '멤버', 3704: '조승우', 3705: '구원', 3706: '뜨거운', 3707: '저게', 3708: '신념', 3709: '봐왔', 3710: '혹평', 3711: '에러', 3712: '져서', 3713: '신민아', 3714: '드러나', 3715: '허구', 3716: '빙판', 3717: '어딜', 3718: '써요', 3719: '300', 3720: '윌리스', 3721: '대학생', 3722: '포켓몬', 3723: '사냥', 3724: '통수', 3725: '데스', 3726: '주먹', 3727: '남발', 3728: '멀리', 3729: 'CGV', 3730: '미묘', 3731: '빠져드', 3732: '역활', 3733: '키아누', 3734: '밴드', 3735: '붙이', 3736: '우아', 3737: '2003', 3738: '서극', 3739: '생략', 3740: '송혜교', 3741: '풍부', 3742: '빨간', 3743: '원표', 3744: '오인혜', 3745: '가을', 3746: '퇴보', 3747: '순진', 3748: '격투', 3749: '다지만', 3750: '기간', 3751: '토끼', 3752: '주원', 3753: '백배', 3754: '호강', 3755: '데드', 3756: '절반', 3757: 'The', 3758: '^^;', 3759: '아프리카', 3760: '라며', 3761: '정신병', 3762: '고질라', 3763: '심했', 3764: '고마운', 3765: '효주', 3766: '저거', 3767: '마니', 3768: '극찬', 3769: '생김', 3770: '가깝', 3771: '작전', 3772: '뉴욕', 3773: '꼬맹이', 3774: '위기', 3775: '부를', 3776: '작인', 3777: '특징', 3778: '증명', 3779: '그럼에도', 3780: '몽', 3781: '송', 3782: '강조', 3783: '힘드', 3784: '취급', 3785: '뽀', 3786: '때려', 3787: '노튼', 3788: '메인', 3789: '노골', 3790: '지겨워', 3791: '젊음', 3792: '인터뷰', 3793: '장혁', 3794: '경제', 3795: '2004', 3796: '흐뭇', 3797: '사무라이', 3798: '마구', 3799: '여기저기', 3800: '거듭', 3801: '데이빗', 3802: '초점', 3803: '미이라', 3804: '만하다', 3805: '할꺼', 3806: '전락', 3807: '행', 3808: '스피드', 3809: '대단히', 3810: '활동', 3811: '뒤집', 3812: '니콜라스', 3813: '서프라이즈', 3814: '겄', 3815: '그나저나', 3816: '구멍', 3817: '접근', 3818: '타령', 3819: '획', 3820: '모성애', 3821: '일관', 3822: '흑역사', 3823: '하드', 3824: '생존', 3825: '퀴어', 3826: '스텝업', 3827: '24', 3828: '부자', 3829: '뻔히', 3830: '로마', 3831: '붉', 3832: '쿠', 3833: '재주', 3834: '떨어진', 3835: '닫', 3836: '롤', 3837: '무너지', 3838: '송지효', 3839: '강지환', 3840: '제정신', 3841: '구도', 3842: '배드', 3843: '경계', 3844: '쥬라기', 3845: '들어왔', 3846: '갈리', 3847: '모델', 3848: '벌어지', 3849: '비롯', 3850: '반했', 3851: '난감', 3852: '이뻐요', 3853: '그래요', 3854: '패턴', 3855: '줘라', 3856: '장근석', 3857: '이스트우드', 3858: '오만', 3859: '아나', 3860: '똑바로', 3861: '시사', 3862: '논', 3863: '지원', 3864: '앞부분', 3865: 'http', 3866: '와이프', 3867: '찜찜', 3868: '깨달음', 3869: '예의', 3870: '었었', 3871: '무서워서', 3872: 'ㅏ', 3873: '헤어지', 3874: '불행', 3875: '씨발', 3876: '장나라', 3877: '맹', 3878: '순이', 3879: '쌈', 3880: '마케팅', 3881: '종류', 3882: '떠들', 3883: '봉', 3884: '퍼즐', 3885: '임수정', 3886: '오유', 3887: '주의', 3888: '강시', 3889: '내보내', 3890: '지배', 3891: '한글', 3892: '크리스찬', 3893: '수애', 3894: '작렬', 3895: '중후', 3896: '어쩌다', 3897: '등급', 3898: 'PD', 3899: '는다면', 3900: '곁', 3901: '풀리', 3902: '뺏', 3903: '관대', 3904: '예뻐', 3905: '짜여진', 3906: '홧팅', 3907: '조용히', 3908: '장군', 3909: '척하', 3910: '우왕', 3911: '꼬라지', 3912: '제작사', 3913: '찢', 3914: '나참', 3915: '비싼', 3916: '돼서', 3917: '땜시', 3918: '우익', 3919: '런닝맨', 3920: '더러', 3921: '두려움', 3922: '저번', 3923: '받아들이', 3924: '구먼', 3925: '이범수', 3926: '패션', 3927: '바랬', 3928: '나타내', 3929: '복', 3930: '불후', 3931: '죽임', 3932: '웅장', 3933: '안타까울', 3934: '아기자기', 3935: '미남', 3936: '끌리', 3937: '플레이', 3938: '어울려', 3939: '삐', 3940: '걸렸', 3941: '일요일', 3942: '임권택', 3943: '의학', 3944: '수정', 3945: '고발', 3946: 'com', 3947: '맞음', 3948: '빅뱅', 3949: '인한', 3950: '질주', 3951: '느슨', 3952: '작년', 3953: '역쉬', 3954: '낙', 3955: '이나영', 3956: '투표', 3957: '장치', 3958: '미인', 3959: '그분', 3960: '초능력', 3961: '원주율', 3962: '향해', 3963: '빼놓', 3964: '합니까', 3965: '부른', 3966: '원인', 3967: '보여줌', 3968: '써서', 3969: '성숙', 3970: '깁니다', 3971: '극한', 3972: '큐', 3973: '무색', 3974: '연령', 3975: '잭슨', 3976: '메리', 3977: '죽였', 3978: '침묵', 3979: '과잉', 3980: '자본주의', 3981: '홍금보', 3982: '1000', 3983: '반부', 3984: '엉엉', 3985: '마요', 3986: '체험', 3987: '어설퍼', 3988: '채워', 3989: '파악', 3990: '즘', 3991: '뻔해서', 3992: '케릭', 3993: '이순신', 3994: '딱딱', 3995: '난생', 3996: 'ebs', 3997: '드림웍스', 3998: '간단', 3999: '가식', 4000: '돋보인다', 4001: '뭡니까', 4002: 'it', 4003: '넘어선', 4004: '지나친', 4005: '주상욱', 4006: '피터', 4007: '랫', 4008: '일탈', 4009: '물건', 4010: '서기', 4011: '가상', 4012: '서스펜스', 4013: '딸리', 4014: '펭귄', 4015: 't', 4016: '짐승', 4017: '밝혀', 4018: '즐', 4019: '습니당', 4020: '기쁨', 4021: '로움', 4022: '된다면', 4023: '자위', 4024: '두말', 4025: '남아돌', 4026: '태도', 4027: '접하', 4028: '클린트', 4029: '분석', 4030: '지적', 4031: '타지', 4032: 'to', 4033: '안다', 4034: '토니', 4035: '마음속', 4036: '외화', 4037: '철없', 4038: '증거', 4039: '파워레인저', 4040: '가해자', 4041: '알려준', 4042: '스텔라', 4043: '몫', 4044: '계획', 4045: '녹화', 4046: '이혼', 4047: '기억난다', 4048: '느린', 4049: '팀버튼', 4050: '용감', 4051: '희', 4052: '모티브', 4053: '저녁', 4054: '코스프레', 4055: '지인', 4056: '해질', 4057: '드러내', 4058: '더러워', 4059: '..\"', 4060: '담아내', 4061: '잃어버린', 4062: '글구', 4063: '죽인다', 4064: '사라졌', 4065: '당당', 4066: '학대', 4067: '작정', 4068: '써라', 4069: '고스란히', 4070: '별다른', 4071: '엉덩이', 4072: '묘미', 4073: '...........', 4074: '휴먼', 4075: '하차', 4076: '쉴', 4077: '서방', 4078: '자세히', 4079: '제미', 4080: '단언', 4081: '불면증', 4082: '봐야겠다', 4083: '박신양', 4084: '양동근', 4085: '다는데', 4086: '조지', 4087: '선율', 4088: '카메론', 4089: '존중', 4090: '온몸', 4091: '여정', 4092: '긍정', 4093: '98', 4094: '간첩', 4095: '준다는', 4096: '생각났', 4097: '글쎄요', 4098: '엑소시스트', 4099: '사망', 4100: '박사', 4101: '도통', 4102: '물씬', 4103: '무리수', 4104: '무어', 4105: '다구', 4106: '일세', 4107: '이여', 4108: '날렸', 4109: '때메', 4110: 'best', 4111: '기차', 4112: '양조위', 4113: '어우', 4114: '진작', 4115: '애쓰', 4116: '추락', 4117: '아이고', 4118: '멘붕', 4119: '강제', 4120: '겁니까', 4121: '명확', 4122: '유치뽕', 4123: '위안', 4124: '손색없', 4125: '숀', 4126: '웃겨요', 4127: '심히', 4128: '니당', 4129: '랩', 4130: '사연', 4131: '.;', 4132: 'mbc', 4133: '레이첼', 4134: '한때', 4135: '차지', 4136: '띵', 4137: '볼땐', 4138: '헐크', 4139: '앓', 4140: '피트', 4141: '허무맹랑', 4142: '총질', 4143: '어우러진', 4144: '따윈', 4145: '대만', 4146: '로선', 4147: '봣어요', 4148: '파이', 4149: '적절히', 4150: '올라갈', 4151: '고정', 4152: '익', 4153: '보스', 4154: '예뻐요', 4155: '강호동', 4156: '오타쿠', 4157: '히트', 4158: '또라이', 4159: '잠수함', 4160: '곱씹', 4161: '조직', 4162: '경', 4163: '속지', 4164: '살인자', 4165: '용가리', 4166: '못생긴', 4167: '이승기', 4168: '맛깔', 4169: '2010', 4170: '어마어마', 4171: '인척', 4172: '소리지르', 4173: '곳곳', 4174: '싸울', 4175: '최저', 4176: '강혜정', 4177: '저렴', 4178: '주목', 4179: '이성재', 4180: '장편', 4181: '으라고', 4182: '필수', 4183: '한수', 4184: '당최', 4185: '매혹', 4186: '수지', 4187: '오류', 4188: '언론', 4189: '웹툰', 4190: '띠', 4191: '뉴', 4192: '나누', 4193: '가졌', 4194: '재치', 4195: '논하', 4196: '흡사', 4197: '바꾼', 4198: '실소', 4199: '고로', 4200: '삼가', 4201: '후한', 4202: '껴', 4203: '인터', 4204: '지리', 4205: '은퇴', 4206: '노동자', 4207: '마라', 4208: '욕구', 4209: '나옵니다', 4210: '이름값', 4211: '뜸', 4212: '마틴', 4213: '떨어져', 4214: '달까', 4215: '자라', 4216: '500', 4217: '거창', 4218: '투신', 4219: '닌자', 4220: '봣음', 4221: '미스터', 4222: '내겐', 4223: '명곡', 4224: '한효주', 4225: '슬래셔', 4226: '슬퍼서', 4227: '홈', 4228: '가질', 4229: '동기', 4230: '흑흑', 4231: '태어난', 4232: '김강우', 4233: '뱀', 4234: '금요일', 4235: 'ocn', 4236: '클리셰', 4237: '은데요', 4238: '*', 4239: '종일', 4240: '져요', 4241: '고는', 4242: '쩜', 4243: '자제', 4244: '미술', 4245: '엘', 4246: '스탈', 4247: '도망가', 4248: 'KBS', 4249: '조조', 4250: '베트남', 4251: '고리', 4252: '지금껏', 4253: '이동욱', 4254: '제시', 4255: '써도', 4256: '더니만', 4257: '몬스터', 4258: '지네', 4259: '위원', 4260: '오우삼', 4261: '소박', 4262: '열린', 4263: '본다고', 4264: '오우', 4265: '탕웨이', 4266: '했을까', 4267: '귀요미', 4268: '미흡', 4269: '우습', 4270: '쏴', 4271: '수치', 4272: '끝남', 4273: '마인드', 4274: '대형', 4275: '윤아', 4276: '들여', 4277: '팔아먹', 4278: '나발', 4279: '근', 4280: '에일리언', 4281: '공존', 4282: '떄문에', 4283: '임파서블', 4284: '용두사미', 4285: '해본다', 4286: '합리', 4287: '습작', 4288: '그룹', 4289: '동호', 4290: '환불', 4291: '흔히', 4292: '이준기', 4293: '서부극', 4294: '언급', 4295: '자료', 4296: '든데', 4297: '졌으면', 4298: '이념', 4299: '멸망', 4300: '디자인', 4301: '쳐먹', 4302: '주행', 4303: '저절로', 4304: '건진', 4305: '재발견', 4306: '경기', 4307: '23', 4308: '기대감', 4309: '느껴짐', 4310: '공개', 4311: '장쯔이', 4312: '린', 4313: '모여', 4314: '황비홍', 4315: '헛', 4316: '오리지널', 4317: '서우', 4318: '남김', 4319: '주체', 4320: '진하', 4321: '실컷', 4322: '이겨', 4323: '에게서', 4324: '팩', 4325: '꺼져', 4326: '발생', 4327: '놀라울', 4328: '였으면', 4329: '랴', 4330: '연장', 4331: '아오이', 4332: '차기', 4333: '츄', 4334: '발레', 4335: '철저', 4336: '바리', 4337: '법칙', 4338: '덜덜', 4339: '노무', 4340: '콘서트', 4341: '.\"', 4342: '걸까요', 4343: '민주', 4344: '읍', 4345: '고찰', 4346: '다니엘', 4347: '!!!!!!', 4348: '인디아나', 4349: '어이', 4350: '집어넣', 4351: '태', 4352: '거든요', 4353: '어거지', 4354: '은은', 4355: '120', 4356: '수백', 4357: '현대인', 4358: '휴가', 4359: '문학', 4360: '큐브', 4361: '.,', 4362: '박스', 4363: '지존', 4364: '똑똑', 4365: '찐', 4366: '경쾌', 4367: '정재영', 4368: '추잡', 4369: '나약', 4370: '허탈', 4371: '도덕', 4372: '솜씨', 4373: '이랬', 4374: '어의', 4375: '엑', 4376: '두근두근', 4377: '라길래', 4378: '으려는', 4379: '바치', 4380: '허전', 4381: '안정', 4382: '가르쳐', 4383: '비명', 4384: '저기', 4385: '어처구니없', 4386: '‥', 4387: '달러', 4388: '샤론스톤', 4389: '회장', 4390: '여동생', 4391: '일대기', 4392: '총알', 4393: '그곳', 4394: '넋', 4395: '관가', 4396: '달라', 4397: '소나', 4398: '동료', 4399: '~~!', 4400: '악평', 4401: '감당', 4402: '비난', 4403: '브래드피트', 4404: '아용', 4405: '대책', 4406: '김하늘', 4407: '설레임', 4408: '갑갑', 4409: '예매', 4410: '거울', 4411: '첩', 4412: '동일', 4413: '욱', 4414: '사라진', 4415: '고백', 4416: '스무', 4417: '2001', 4418: '구지', 4419: '홍', 4420: '진보', 4421: '짜임', 4422: '카드', 4423: '대가리', 4424: '팅', 4425: '여고', 4426: '스콧', 4427: '흘렀', 4428: '어찌나', 4429: '제국', 4430: '쓰레기통', 4431: '러셀', 4432: '지겨운', 4433: '아무래도', 4434: '동아리', 4435: '매회', 4436: '보냅니다', 4437: '매트릭스', 4438: '졸려서', 4439: '활약', 4440: '침몰', 4441: '믿겨', 4442: '비유', 4443: '염', 4444: '진화', 4445: '뇌리', 4446: '담아낸', 4447: '하구', 4448: '클럽', 4449: '쿵', 4450: '마초', 4451: '혹성탈출', 4452: '리암니슨', 4453: '일생', 4454: '형성', 4455: '직원', 4456: '넓', 4457: '졸음', 4458: '짓거리', 4459: '박해일', 4460: '럼', 4461: '화신', 4462: '투박', 4463: '기엔', 4464: '상쾌', 4465: '쏙', 4466: '사다코', 4467: '신현준', 4468: '즉', 4469: '2009', 4470: '긔', 4471: '잡히', 4472: '흘러도', 4473: '밟', 4474: '에릭', 4475: '한예슬', 4476: '미군', 4477: '록키', 4478: '스러워서', 4479: '측면', 4480: '궁', 4481: '그러니까', 4482: '뻣', 4483: '몰라서', 4484: '살아나', 4485: '상투', 4486: '자매', 4487: '썰', 4488: '멀쩡', 4489: '병사', 4490: '꾹', 4491: '관념', 4492: '푸른', 4493: '보장', 4494: '싹', 4495: '붙여', 4496: '내려', 4497: '으셨', 4498: '타락', 4499: '가운데', 4500: '잘생긴', 4501: '불법', 4502: '콧물', 4503: '제리', 4504: '했으면', 4505: '주지훈', 4506: '미리', 4507: '그놈', 4508: '배운', 4509: '모자', 4510: '뻔했', 4511: '레이싱', 4512: '내려가', 4513: '투자자', 4514: 'kbs', 4515: '여야', 4516: '본다는', 4517: '맙시다', 4518: '대표작', 4519: '벤', 4520: '어렷', 4521: '켜', 4522: '전환', 4523: '끈다', 4524: '어떨까', 4525: '지워', 4526: '가치관', 4527: '어지간', 4528: '설렘', 4529: '무얼', 4530: '진솔', 4531: '에너지', 4532: '밀라', 4533: '종합', 4534: '개독', 4535: '시스템', 4536: '슈렉', 4537: '수술', 4538: '채플린', 4539: '습', 4540: '한없이', 4541: '선배', 4542: '므로', 4543: '미개', 4544: '지성', 4545: '어느새', 4546: '수준급', 4547: '찡하', 4548: '조선족', 4549: '퉤', 4550: '붕괴', 4551: '미야자키', 4552: '쫓', 4553: 'in', 4554: '콤비', 4555: '쏠쏠', 4556: '부재', 4557: '한두', 4558: '어땠', 4559: '중국인', 4560: '..;;;', 4561: '바이러스', 4562: '망함', 4563: '영상물', 4564: '요구', 4565: '><', 4566: '함정', 4567: '갖추', 4568: '평정', 4569: '유혼', 4570: '포드', 4571: '창조', 4572: '누르', 4573: '믄', 4574: '고래', 4575: '옛다', 4576: '뻔해', 4577: '그리운', 4578: '이중', 4579: '나와요', 4580: '갱', 4581: '人', 4582: '재회', 4583: '놨다', 4584: '하나같이', 4585: '어딨', 4586: '치열', 4587: '직장', 4588: '휴머니즘', 4589: '대략', 4590: '비오', 4591: '효민', 4592: '앵글', 4593: '따라서', 4594: '배웠', 4595: '가사', 4596: '현장', 4597: '멍청이', 4598: '안목', 4599: '교감', 4600: '정적', 4601: '아담', 4602: '.??', 4603: '소문', 4604: '매년', 4605: '씨네', 4606: '욕할', 4607: '어려서', 4608: '쎄', 4609: '록', 4610: '을려고', 4611: '근거', 4612: '홍진호', 4613: '파티', 4614: '긋', 4615: '와이어', 4616: '표본', 4617: '97', 4618: '로보캅', 4619: '짜집', 4620: '회복', 4621: '샤', 4622: '대구', 4623: '파일', 4624: '암살', 4625: '에서부터', 4626: '이놈', 4627: '어설픔', 4628: '놓친', 4629: '광주', 4630: '훼손', 4631: '어려움', 4632: '↓', 4633: '조인성', 4634: '집중력', 4635: 'F', 4636: '머신', 4637: '는구만', 4638: '조재현', 4639: 'K', 4640: '기보단', 4641: '줄리아', 4642: '뜬금', 4643: '김남길', 4644: '화해', 4645: '그릇', 4646: '위원회', 4647: '요원', 4648: '웩', 4649: '동급', 4650: '직전', 4651: '연기파', 4652: '다듬', 4653: '가문', 4654: '아메리칸', 4655: '토마스', 4656: '이민정', 4657: '박자', 4658: '윤계상', 4659: '들어갔', 4660: '망상', 4661: '고소영', 4662: '프레디', 4663: '사소', 4664: '개떡', 4665: '처먹', 4666: '스캔들', 4667: '얼른', 4668: '어째서', 4669: '어려울', 4670: '맺', 4671: '전국', 4672: '뎁', 4673: '출연료', 4674: '깜찍', 4675: '루이스', 4676: '백만', 4677: '유사', 4678: '어깨', 4679: '안겨', 4680: '새로', 4681: '에바', 4682: '질투', 4683: '릴', 4684: '텐', 4685: '씁니다', 4686: '인데요', 4687: '쾌감', 4688: '에이리언', 4689: '황제', 4690: '성의', 4691: '나왔었', 4692: '지진희', 4693: '운운', 4694: '묻혀', 4695: '버티', 4696: '그려냈', 4697: '줄리엣', 4698: '안타까워', 4699: '원빈', 4700: '호평', 4701: '보호', 4702: '기묘', 4703: '이만큼', 4704: '^_^', 4705: '황홀', 4706: '프레데터', 4707: '드신', 4708: '증', 4709: '엑스트라', 4710: '안티', 4711: '친다', 4712: '정권', 4713: '구석', 4714: '조각', 4715: '따라한', 4716: '오토바이', 4717: '............', 4718: '~~~~~~', 4719: 'and', 4720: '오싹', 4721: '무능', 4722: 'very', 4723: '신파극', 4724: '겠다', 4725: '실존', 4726: '평하', 4727: '작업', 4728: '미루', 4729: '진구', 4730: '미칠', 4731: '현빈', 4732: '웨슬리', 4733: '각성', 4734: '가게', 4735: '확신', 4736: '..!!', 4737: '몰래', 4738: '잠든', 4739: '제법', 4740: '촌스러운', 4741: '좌파', 4742: '인셉션', 4743: '봉작', 4744: '고기', 4745: '쒸', 4746: '신들린', 4747: '는겨', 4748: '진주', 4749: '충무로', 4750: '문근영', 4751: '댐', 4752: '알맹이', 4753: '도박', 4754: '고려', 4755: '데려다', 4756: '듣보잡', 4757: '쌍욕', 4758: '완소', 4759: '결합', 4760: '장인', 4761: '모른', 4762: '핸드폰', 4763: '김선아', 4764: '초심', 4765: '발휘', 4766: '슈스케', 4767: '잘난', 4768: '변호사', 4769: '중세', 4770: '눈뜨', 4771: '적응', 4772: '음모', 4773: '자칫', 4774: '변명', 4775: '였으나', 4776: '발톱', 4777: '핀', 4778: '대변', 4779: '기술력', 4780: '소피', 4781: '잎', 4782: '이슈', 4783: '턴', 4784: '선가', 4785: '일본식', 4786: '악몽', 4787: '줄려고', 4788: '스탤론', 4789: '써야', 4790: '유작', 4791: '우디', 4792: '어울렸', 4793: '고현정', 4794: '승화', 4795: '기부', 4796: '까먹', 4797: '어둠', 4798: '케이지', 4799: '그래두', 4800: '내공', 4801: '피스', 4802: '2008', 4803: '지지', 4804: '실종', 4805: '모자란', 4806: '건물', 4807: '쥐어짜', 4808: '리암', 4809: '의외로', 4810: '후지', 4811: '!!!!!!!', 4812: '영감', 4813: '압박', 4814: '팍', 4815: '아마도', 4816: '아시아', 4817: '들인', 4818: '토요', 4819: '여진구', 4820: '급하', 4821: '액', 4822: '둘째', 4823: '낯', 4824: '유치원생', 4825: '밀려오', 4826: '큼', 4827: '니콜키드먼', 4828: '연쇄', 4829: '사춘기', 4830: '마땅', 4831: '흔들리', 4832: '멜깁슨', 4833: '똥폼', 4834: '평타', 4835: '백미', 4836: '현상', 4837: '금방', 4838: '룡', 4839: '이성', 4840: '나타난', 4841: '늘리', 4842: '종말', 4843: '옹호', 4844: '보영', 4845: '각인', 4846: '메오', 4847: '스틸', 4848: '무적', 4849: '닭', 4850: '차가운', 4851: '닦', 4852: '개미', 4853: '맴', 4854: '족', 4855: '팝', 4856: '사라져', 4857: '떠오른다', 4858: '여지', 4859: '시리', 4860: '논란', 4861: '사로잡', 4862: '완벽히', 4863: '훈련', 4864: '정유미', 4865: '공효진', 4866: '못생겼', 4867: '이론', 4868: '작중', 4869: '이선균', 4870: '풍기', 4871: '조커', 4872: '쪼', 4873: '싱', 4874: '마련', 4875: '옴니버스', 4876: '지하철', 4877: '희한', 4878: '저버리', 4879: '윤', 4880: '린치', 4881: '정답', 4882: '원맨쇼', 4883: '낯선', 4884: '공기', 4885: '허준', 4886: '축', 4887: '하얀', 4888: '서서히', 4889: '감독판', 4890: '어메이징', 4891: '프로젝트', 4892: '시킴', 4893: '요란', 4894: '이종석', 4895: '피하', 4896: '나미', 4897: '싱겁', 4898: '벗기', 4899: 'my', 4900: '고마워요', 4901: '써먹', 4902: '매기', 4903: '져야', 4904: '인증', 4905: '스탭', 4906: '화난다', 4907: 'MC', 4908: '선전', 4909: '후유증', 4910: '소방관', 4911: '농구', 4912: '헌터', 4913: '나비', 4914: '소수', 4915: '공리', 4916: '창의', 4917: '기계', 4918: '참혹', 4919: '나와도', 4920: '그치만', 4921: 'naver', 4922: '실망감', 4923: 'OCN', 4924: '김수로', 4925: '끝날', 4926: '유역비', 4927: '졸립', 4928: 'no', 4929: '그리워', 4930: '여도', 4931: '란다', 4932: '그딴', 4933: '본드', 4934: '일으키', 4935: '시티', 4936: '-.-', 4937: '잉여', 4938: '첨보', 4939: '성괴', 4940: '찬란', 4941: '예정', 4942: '알아보', 4943: '아웃', 4944: '독백', 4945: '독도', 4946: '십니다', 4947: '밝히', 4948: '어벤져스', 4949: '타입', 4950: '독창', 4951: '찰리', 4952: '사형', 4953: '제도', 4954: '채민서', 4955: '망가지', 4956: '접한', 4957: '폐', 4958: '비급', 4959: '빠짐', 4960: '지민', 4961: '악인', 4962: '가미', 4963: '말기', 4964: '본받', 4965: '하긴', 4966: '--;', 4967: '약속', 4968: '사막', 4969: '망신', 4970: '크리스토퍼', 4971: '다녀온', 4972: '달려', 4973: '스펙타클', 4974: '원망', 4975: '시킨다', 4976: '도입부', 4977: '공격', 4978: '가만히', 4979: '경이', 4980: '일방', 4981: '샷', 4982: '후하', 4983: '어유', 4984: '일제', 4985: '딘', 4986: '서민', 4987: '거시기', 4988: '...?', 4989: '결과물', 4990: '지상파', 4991: '똘', 4992: '돌렸', 4993: '타짜', 4994: '로부터', 4995: '오디션', 4996: '주장', 4997: '로렌스', 4998: '히치콕', 4999: '허비', 5000: '조건', 5001: '오래오래', 5002: '관계자', 5003: '다수', 5004: '하우스', 5005: '넘겨', 5006: '상자', 5007: '정돈', 5008: '서인국', 5009: '터진다', 5010: '퀸', 5011: '황금', 5012: '복제', 5013: '무의미', 5014: '케로로', 5015: '지켜보', 5016: '사라', 5017: '헬', 5018: '생뚱맞', 5019: '으려나', 5020: '주옥같', 5021: '아날로그', 5022: '셜록', 5023: '눈요기', 5024: '로다', 5025: '낌', 5026: '우울증', 5027: '라스', 5028: '김래원', 5029: '일기', 5030: '다기', 5031: '어리석', 5032: '작작', 5033: '여실히', 5034: '봤으니', 5035: '신분', 5036: '키드', 5037: '끊임없이', 5038: '노무현', 5039: '원초', 5040: '수업', 5041: '낭', 5042: '연계', 5043: 'm', 5044: '성지', 5045: '하네', 5046: '신앙', 5047: '시켜서', 5048: '라이', 5049: '동원', 5050: '브루스윌리스', 5051: '주제곡', 5052: '행운', 5053: '계단', 5054: '골든', 5055: 'cgv', 5056: '제공', 5057: '봅시다', 5058: '농락', 5059: '못지않', 5060: '2002', 5061: '2007', 5062: '에니', 5063: '교차', 5064: '최대한', 5065: '얄팍', 5066: '짐작', 5067: '유승준', 5068: '양산', 5069: '구해', 5070: '각지', 5071: '암시', 5072: '그렸', 5073: '피라냐', 5074: '구매', 5075: '버튼', 5076: '페이지', 5077: '인내', 5078: '하필', 5079: '동경', 5080: '지속', 5081: '잡아먹', 5082: '서세원', 5083: '엄태웅', 5084: '외로운', 5085: '이분', 5086: '호소', 5087: '장녀', 5088: '이면', 5089: '.............', 5090: '막스', 5091: '둥', 5092: '폴워커', 5093: '관심없', 5094: '드래곤', 5095: '토르', 5096: '볼라고', 5097: '비씨', 5098: '쉬워요', 5099: '향', 5100: '거슬린다', 5101: '..-_-', 5102: '형태', 5103: '취미', 5104: '맙', 5105: '성향', 5106: '절절', 5107: '내놔', 5108: '압축', 5109: '화제', 5110: '고고', 5111: '구림', 5112: '탔', 5113: '천녀', 5114: '리그', 5115: '카타르시스', 5116: '으리으리', 5117: '삼총사', 5118: '균형', 5119: '최하', 5120: '퍼펙트', 5121: '궁금증', 5122: '근육', 5123: '신동엽', 5124: '어려웠', 5125: '한다니', 5126: '불꽃', 5127: '버려서', 5128: '할까요', 5129: '애썼', 5130: '디스', 5131: '희극', 5132: '아휴', 5133: '매치', 5134: '톰행크스', 5135: '걸레', 5136: 'me', 5137: '대리', 5138: '장만옥', 5139: '왕따', 5140: '우수', 5141: '끼친다', 5142: '유도', 5143: '부턴', 5144: '박힌', 5145: '어울릴', 5146: '통일', 5147: '시바', 5148: '전통', 5149: '경지', 5150: '졸린', 5151: '~♥', 5152: '뒤통수', 5153: '시망', 5154: '우드', 5155: '탁', 5156: '사례', 5157: '편히', 5158: '테스트', 5159: '지웠', 5160: '이완', 5161: '벌레', 5162: '바램', 5163: '명량', 5164: '자존심', 5165: '도다', 5166: '어쨋든', 5167: '형편', 5168: '친일파', 5169: '찌르', 5170: '샀', 5171: '손꼽히', 5172: '맥라이언', 5173: '재연', 5174: '망해', 5175: '육체', 5176: '아파', 5177: '한몫', 5178: '결제', 5179: '로멘', 5180: '톱', 5181: '유행어', 5182: '탐욕', 5183: '토이', 5184: '펙', 5185: '충동', 5186: '약해', 5187: '선입견', 5188: '때론', 5189: '발암', 5190: '장사', 5191: '명예', 5192: '마루', 5193: '하루하루', 5194: '혼', 5195: '누워', 5196: '아름다워', 5197: '2011', 5198: '나빠', 5199: '내린', 5200: '비용', 5201: '무도', 5202: '브래드', 5203: '모드', 5204: '레오', 5205: '아담샌들러', 5206: '유우', 5207: '신은경', 5208: '됌', 5209: '봉태규', 5210: '치명', 5211: '로버츠', 5212: '강인', 5213: '개웃', 5214: '~!!!!', 5215: '개지', 5216: '한니발', 5217: '인피니트', 5218: '윌스미스', 5219: '핵심', 5220: '초콜릿', 5221: '끝났으면', 5222: '마피아', 5223: '바비', 5224: '걸려', 5225: '깜', 5226: '여군', 5227: '질린다', 5228: '못지', 5229: '모를까', 5230: '폭탄', 5231: 'i', 5232: '베낀', 5233: '도가니', 5234: '자녀', 5235: '♡♡', 5236: '다길래', 5237: '도로', 5238: '444', 5239: '부류', 5240: '헬기', 5241: '콜린', 5242: '아이리스', 5243: '덴젤', 5244: '놔서', 5245: '보상', 5246: '일어났', 5247: '그럴싸하', 5248: '공포감', 5249: '대학교', 5250: '아트', 5251: '꺼라', 5252: '웃길', 5253: '췌', 5254: '사신', 5255: '제한', 5256: '무장', 5257: '맘대로', 5258: '의존', 5259: 'but', 5260: '대가', 5261: '흘러', 5262: '뽀로로', 5263: '차인표', 5264: '쥔', 5265: '일까요', 5266: '소속', 5267: '특성', 5268: '뚫', 5269: '테이크', 5270: '허니', 5271: '마크', 5272: '근본', 5273: '무려', 5274: '블레이드', 5275: '감정이입', 5276: '공상', 5277: '민주주의', 5278: '설치', 5279: '따라했', 5280: '무표정', 5281: '강박', 5282: '지닌', 5283: '천박', 5284: '가만', 5285: '랏', 5286: '브라이언', 5287: '맥어보이', 5288: '야수', 5289: '편지', 5290: '초라', 5291: '최진실', 5292: '버금가', 5293: '2006', 5294: 'S', 5295: '지치', 5296: 'No', 5297: '유산', 5298: '넘친다', 5299: '징그럽', 5300: '기승', 5301: '머피', 5302: '밍', 5303: '이길', 5304: '그걸로', 5305: 'love', 5306: '처참', 5307: '소스', 5308: 'AV', 5309: '’', 5310: '드라마틱', 5311: '물고기', 5312: '화장', 5313: '데미무어', 5314: '다케시', 5315: '부담없이', 5316: '정글', 5317: '외롭', 5318: '단계', 5319: '물질', 5320: '숭고', 5321: '공익', 5322: '한국식', 5323: '리라', 5324: '안경', 5325: '브금', 5326: '끼쳤', 5327: '목표', 5328: '밖엔', 5329: '기반', 5330: '핑', 5331: '문제점', 5332: '불멸', 5333: '최지우', 5334: '해운대', 5335: '릭', 5336: '문구', 5337: '이상실', 5338: '귀한', 5339: '도망', 5340: '실체', 5341: '동참', 5342: '해학', 5343: '잔잔히', 5344: '위치', 5345: '바뀐', 5346: '남동생', 5347: '이터', 5348: '타이밍', 5349: '윤리', 5350: 'L', 5351: '샹', 5352: '빈디젤', 5353: '자전거', 5354: '기리', 5355: '릿', 5356: '욕하', 5357: '갔었', 5358: '부성애', 5359: '당대', 5360: '펼치', 5361: '쌤', 5362: '무튼', 5363: '다가온다', 5364: '데뷔', 5365: '호화', 5366: '-_', 5367: '박신혜', 5368: '삼국지', 5369: '원작자', 5370: '소유', 5371: '빠진다', 5372: '되돌아보', 5373: '놀래', 5374: '가져다', 5375: '떠올랐', 5376: '해놨', 5377: '부대', 5378: '바래', 5379: '방학', 5380: '엑소', 5381: '하여튼', 5382: '담주', 5383: '캡틴', 5384: '하군', 5385: '케이스', 5386: '쿵푸', 5387: '미만', 5388: '불만', 5389: '동의', 5390: '최강희', 5391: '터질', 5392: '슬로우', 5393: '모션', 5394: '이정현', 5395: '권리', 5396: '퓨', 5397: '마동석', 5398: '판치', 5399: '썰렁', 5400: '저건', 5401: '챙기', 5402: '강도', 5403: '1990', 5404: '반면', 5405: '만만', 5406: '먹이', 5407: '좋아한다면', 5408: '잘라', 5409: '한결', 5410: '어필', 5411: '자비', 5412: '치킨', 5413: '며칠', 5414: '움직임', 5415: '모니터', 5416: 'ㅐ', 5417: '4000', 5418: '29', 5419: '봣습니다', 5420: '헛소리', 5421: '언더', 5422: '아함', 5423: '좌절', 5424: '아일랜드', 5425: '무성', 5426: '이나마', 5427: '^^;;', 5428: '변한', 5429: 'sbs', 5430: '맙소사', 5431: '스페셜', 5432: '27', 5433: '기념', 5434: '추석', 5435: '.,,', 5436: '콜린퍼스', 5437: '묶', 5438: '넘쳐나', 5439: '약자', 5440: '취', 5441: '별개', 5442: '장담', 5443: '김승우', 5444: '상승', 5445: '종이', 5446: '오늘날', 5447: '힌', 5448: '문명', 5449: '진국', 5450: '트와일라잇', 5451: '읍니다', 5452: '과제', 5453: '개봉관', 5454: '으라면', 5455: 'so', 5456: '좁', 5457: '인칭', 5458: '무모', 5459: '그림자', 5460: 'av', 5461: '소외', 5462: '욕설', 5463: '청', 5464: '브로디', 5465: '장미', 5466: '재미난', 5467: '오지', 5468: '부드럽', 5469: '스님', 5470: '충만', 5471: '꽁', 5472: '성장기', 5473: '생명체', 5474: '포근', 5475: '크리스틴', 5476: '부수', 5477: '기승전결', 5478: '엠마', 5479: '잠자', 5480: '밉', 5481: '팬티', 5482: '개월', 5483: '아키라', 5484: '냄', 5485: '하야오', 5486: '마니아', 5487: '심해', 5488: '저지르', 5489: '88', 5490: '놓칠', 5491: '수상', 5492: '웬지', 5493: '적합', 5494: '거린다', 5495: '저딴', 5496: '여전사', 5497: '웨', 5498: '켠', 5499: '진출', 5500: '역부족', 5501: '테러리스트', 5502: '빤', 5503: '중구난방', 5504: '파멸', 5505: '전후', 5506: '케이', 5507: '한쪽', 5508: '델', 5509: '들으면', 5510: '건달', 5511: '쫄깃', 5512: '철저히', 5513: '수단', 5514: '배슬기', 5515: '해리', 5516: '떠난', 5517: '륵', 5518: '으아', 5519: '잣', 5520: '95', 5521: '나대', 5522: '탕', 5523: '섞인', 5524: '돋보인', 5525: '통하', 5526: '흘러나오', 5527: '배두나', 5528: '돼요', 5529: '테이프', 5530: '이걸로', 5531: '조성', 5532: '망침', 5533: '픽', 5534: '결투', 5535: '조롱', 5536: '꼽히', 5537: '럽', 5538: '고스트', 5539: '산업', 5540: '·', 5541: '빠다', 5542: '머니', 5543: '라면서', 5544: '윌', 5545: '어줍잖', 5546: '느껴져서', 5547: '돌아온', 5548: '볼란다', 5549: '떨어져서', 5550: '헌신', 5551: '자질', 5552: '원스', 5553: '와나', 5554: '케이트', 5555: '열차', 5556: '단막극', 5557: '라이트', 5558: '기대치', 5559: '금발', 5560: '국적', 5561: '오줌', 5562: '경쟁', 5563: 'E', 5564: '비됴', 5565: '출연자', 5566: '서사시', 5567: '윤시윤', 5568: '연민', 5569: '워킹', 5570: '웨이', 5571: '뻘', 5572: '웅', 5573: '박정희', 5574: '공각', 5575: '기동대', 5576: '통한', 5577: '이슬람', 5578: '초호', 5579: '전범', 5580: '두뇌', 5581: '손오공', 5582: '타이타닉', 5583: '해져', 5584: '뚜렷', 5585: '엿볼', 5586: '지니어스', 5587: '뒷부분', 5588: '짤', 5589: '뜯', 5590: '충족', 5591: '폭소', 5592: '모처럼', 5593: '서양인', 5594: '승', 5595: '미친다', 5596: '하여금', 5597: '데이트', 5598: '탈락', 5599: '꺼리', 5600: '쿠바', 5601: '맴도', 5602: '단다', 5603: '니미', 5604: '생각날', 5605: '계신', 5606: '초한지', 5607: '스티브', 5608: '에로틱', 5609: '늘어놓', 5610: '앵', 5611: '이제껏', 5612: '떨리', 5613: '돌림', 5614: '살아갈', 5615: '스칼렛', 5616: '고마워', 5617: '순간순간', 5618: 'ㅊ', 5619: '지라', 5620: '하여간', 5621: '위안부', 5622: '어울려요', 5623: '윽', 5624: '울려', 5625: '쯧', 5626: '이야말로', 5627: '재일', 5628: '우월주의', 5629: '송중기', 5630: '맞먹', 5631: '드릅', 5632: '10000', 5633: '근대', 5634: '라라', 5635: '버무려', 5636: '풋', 5637: '태권', 5638: '살림', 5639: '라더니', 5640: '아가', 5641: '기운', 5642: '민영화', 5643: '날림', 5644: '바꿀', 5645: '급급', 5646: '금치', 5647: '의아', 5648: '낯설', 5649: '숭', 5650: '부조리', 5651: '이스라엘', 5652: '뜨겁', 5653: '치중', 5654: '으니깐', 5655: '느껴야', 5656: '밉상', 5657: '대립', 5658: '다던데', 5659: '래도', 5660: '끝냈', 5661: '세력', 5662: 'ㅠㅠㅠㅠㅠ', 5663: '귀여', 5664: '새로울', 5665: '마져', 5666: '돕', 5667: '다가왔', 5668: '이수근', 5669: '원제', 5670: '발차기', 5671: '군데', 5672: '축하', 5673: '생겨', 5674: '치닫', 5675: '루지', 5676: '클래스', 5677: '텅', 5678: '폭파', 5679: '뛰어났', 5680: '동정', 5681: '괴롭히', 5682: '아이러니', 5683: '시위', 5684: '지연', 5685: '화내', 5686: '히틀러', 5687: '그런대로', 5688: '할텐데', 5689: '거친', 5690: '사골', 5691: '이틀', 5692: '바른', 5693: '건담', 5694: '정치인', 5695: '^.^', 5696: '워터', 5697: '속이', 5698: '심은하', 5699: '이득', 5700: '평작', 5701: '스키', 5702: '뚝', 5703: '고릴라', 5704: '~~~~~~~', 5705: '크리스', 5706: '주민', 5707: '헤어', 5708: '침대', 5709: '****', 5710: '미니', 5711: '곽지민', 5712: '전투기', 5713: '후진', 5714: '서른', 5715: '쇼생크', 5716: '올라오', 5717: '올린', 5718: '못해서', 5719: '불러일으키', 5720: '음모론', 5721: '고개', 5722: '운지', 5723: '장진영', 5724: '서비스', 5725: '상평', 5726: '자르', 5727: '분신', 5728: '26', 5729: '무방', 5730: '에반', 5731: '..!!!', 5732: '아무렇', 5733: '물결', 5734: '앞서간', 5735: '획기', 5736: '접했', 5737: '으려다', 5738: 'ㅗ', 5739: '와라', 5740: '걸음', 5741: '도구', 5742: '기원', 5743: '구입', 5744: '정성', 5745: '노다메', 5746: '니슨', 5747: '이대로', 5748: '살인범', 5749: '아자', 5750: '박스오피스', 5751: '버려라', 5752: '봣네요', 5753: '견디', 5754: '일어난', 5755: '류승룡', 5756: '권하', 5757: '조여정', 5758: '어떨지', 5759: '슴다', 5760: '멋대로', 5761: '해소', 5762: '눈감', 5763: '..............', 5764: '입가', 5765: '월드컵', 5766: '고루', 5767: '죄책감', 5768: '대영', 5769: '오죽', 5770: '댈', 5771: '명언', 5772: '허각', 5773: '별론데', 5774: '랍니다', 5775: '캐서린', 5776: '샤말란', 5777: '시어머니', 5778: '김규리', 5779: 'lt', 5780: '어쩐지', 5781: '보수', 5782: '지껄이', 5783: '변', 5784: '새드', 5785: '소련', 5786: '고선', 5787: '간절', 5788: '‘', 5789: '유치원', 5790: '퍼지', 5791: '붙잡', 5792: '양키', 5793: '박유천', 5794: '레터', 5795: '나기', 5796: '????', 5797: '그로테스크', 5798: '여우', 5799: '패기', 5800: '셔요', 5801: '억압', 5802: '고집', 5803: '여사', 5804: '스톤', 5805: '바꿔라', 5806: '모자이크', 5807: '넘쳤', 5808: '으다', 5809: '할래', 5810: '유승호', 5811: '쉣', 5812: '변해', 5813: '종북', 5814: '연락', 5815: '눈물샘', 5816: 'ㅓ', 5817: '되돌', 5818: '조국', 5819: '이상우', 5820: '금포', 5821: '구린', 5822: '알차', 5823: '강예원', 5824: '갈릴', 5825: '마이크', 5826: '그려진', 5827: '이리저리', 5828: '유준상', 5829: '전파', 5830: '헷갈리', 5831: '무작정', 5832: '신다면', 5833: '닝', 5834: '불우', 5835: '올시다', 5836: '!!!!!!!!', 5837: '레드', 5838: '종종', 5839: '다면서', 5840: '공장', 5841: '제인', 5842: '쓰리', 5843: '쫄', 5844: '호랑이', 5845: '방울', 5846: '여고생', 5847: '변질', 5848: '낸다', 5849: '똥칠', 5850: '지혜', 5851: '클라', 5852: '미키', 5853: '야쿠자', 5854: '동화책', 5855: '빛났', 5856: '튀기', 5857: '동방', 5858: '산타', 5859: '유루', 5860: '원한', 5861: '과대', 5862: '숀펜', 5863: '덴', 5864: '인격', 5865: '소원', 5866: '완존', 5867: '훅', 5868: '모아서', 5869: '휘', 5870: 'this', 5871: '후속', 5872: '르네', 5873: '기절', 5874: 'ㅜㅜㅜㅜ', 5875: '린다', 5876: '광해', 5877: '일병', 5878: '비트', 5879: '솔로', 5880: '저래', 5881: '93', 5882: '오오', 5883: '장선우', 5884: '떨어뜨리', 5885: '크리', 5886: '씨리', 5887: '결', 5888: '장동민', 5889: '나인', 5890: '노리', 5891: '정준호', 5892: '상하', 5893: '이자벨', 5894: '정신없이', 5895: '성동일', 5896: '밴', 5897: '늘려', 5898: '맥주', 5899: '모름', 5900: '리티', 5901: '파트너', 5902: '게리온', 5903: '결혼식', 5904: '이브', 5905: '객관적으로', 5906: '두렵', 5907: '신뢰', 5908: '쓰러지', 5909: '데스노트', 5910: '쉐', 5911: '호프만', 5912: '놀랄', 5913: '소서', 5914: '영화배우', 5915: '사정', 5916: '아녀', 5917: '다임', 5918: '라이브', 5919: '모야', 5920: '괴리', 5921: '지능', 5922: '1980', 5923: '넷', 5924: '올드보이', 5925: '아유', 5926: '십시오', 5927: '강했', 5928: '스크림', 5929: '부시', 5930: '진자', 5931: '시원시원', 5932: '어리', 5933: '펼쳐지', 5934: '저능아', 5935: '원한다면', 5936: '유덕', 5937: '주요', 5938: '울린다', 5939: '놀람', 5940: '라이프', 5941: '짝사랑', 5942: '된장', 5943: '미숙', 5944: '간다는', 5945: '반해', 5946: '모범', 5947: '기이', 5948: '여명', 5949: '막힌', 5950: '동성애자', 5951: '섞여', 5952: '♥♥♥♥', 5953: '봉준호', 5954: '창작', 5955: '홀', 5956: '했으니', 5957: 'It', 5958: '환영', 5959: 'gt', 5960: '서사', 5961: '김민준', 5962: '제레미', 5963: '할께요', 5964: '정책', 5965: '휴잭맨', 5966: '쿠엔틴', 5967: '독재', 5968: '중고', 5969: '나른', 5970: '주문', 5971: '권선징악', 5972: '과감', 5973: '붐', 5974: '역겨웠', 5975: '교사', 5976: '시계', 5977: '흠뻑', 5978: '인디언', 5979: '“', 5980: '스포일러', 5981: '나아가', 5982: '헌', 5983: '높여', 5984: '뎀', 5985: '비행', 5986: '창문', 5987: '따르', 5988: '늬', 5989: '장백지', 5990: '후배', 5991: '달랐', 5992: '썅', 5993: '서바이벌', 5994: '보편', 5995: '오묘', 5996: '이문식', 5997: '네임', 5998: '서태지', 5999: '사자', 6000: '메이저', 6001: '탱고', 6002: '슬슬', 6003: '남겼', 6004: '색기', 6005: '이민호', 6006: '유머러스', 6007: '활', 6008: '힛', 6009: '거슬렸', 6010: '중도', 6011: '오덕', 6012: '장기', 6013: '롯데', 6014: '인위', 6015: '랍시고', 6016: '총격전', 6017: '무명', 6018: '돌려줘', 6019: '가라', 6020: '소비', 6021: '완결', 6022: '설레이', 6023: '지상', 6024: '싱크로', 6025: 'XX', 6026: '훗', 6027: '김정은', 6028: '푼', 6029: '깔려', 6030: '추격전', 6031: '진상', 6032: '순례', 6033: '밍밍', 6034: '재벌', 6035: '비포', 6036: '윌리엄스', 6037: '사이코패스', 6038: '당해', 6039: '떳', 6040: '니까요', 6041: '살릴', 6042: '전사', 6043: '극대', 6044: '됀', 6045: '하이라이트', 6046: '타워', 6047: '그땐', 6048: '삽입', 6049: '굿바이', 6050: '일거', 6051: '드러난', 6052: '녹음', 6053: '뻑', 6054: '컴', 6055: '후련', 6056: '핑계', 6057: '알맞', 6058: '을걸', 6059: '성기', 6060: '스토리텔링', 6061: '라이더', 6062: '다닐', 6063: '삽질', 6064: '주로', 6065: '페미니즘', 6066: '영화인', 6067: '천천히', 6068: '영화광', 6069: '미성년자', 6070: '설리', 6071: '맷데이먼', 6072: '중견', 6073: '훌쩍', 6074: '서부터', 6075: '습니', 6076: '콤', 6077: '특선', 6078: '최수종', 6079: '당함', 6080: '이질감', 6081: '넘쳐', 6082: '해줘서', 6083: '붙인', 6084: '주진모', 6085: '아이디', 6086: '시퀀스', 6087: '서커스', 6088: '온통', 6089: '배제', 6090: '시간대', 6091: '기다', 6092: '남음', 6093: '보너스', 6094: '리부트', 6095: '세끼', 6096: '웨스턴', 6097: '마모루', 6098: '긴박감', 6099: '삼성', 6100: '돌아왔', 6101: '로즈', 6102: '비둘기', 6103: '김현주', 6104: '쑈', 6105: '다간', 6106: '톱스타', 6107: '주제가', 6108: '기어', 6109: '전반부', 6110: '인과', 6111: '흘릴', 6112: '지만은', 6113: '싸이', 6114: '웃긴데', 6115: '경각심', 6116: '주려', 6117: '개운', 6118: '햐', 6119: '들어갈', 6120: '!!!!!!!!!!!!!!!!!!!!!!!!!', 6121: '감점', 6122: 'bgm', 6123: '후레쉬', 6124: '파치노', 6125: '인정받', 6126: '싱어', 6127: '현란', 6128: '보고서', 6129: '유이', 6130: '파도', 6131: '싫어하', 6132: '큐라', 6133: '자빠졌', 6134: 'f', 6135: '디비', 6136: '업그레이드', 6137: '관우', 6138: '수습', 6139: '후후', 6140: '달린', 6141: '컨데', 6142: '반가웠', 6143: '새기', 6144: '김민희', 6145: 'ㅡㅜ', 6146: '봤으나', 6147: '취지', 6148: '김보성', 6149: '말장난', 6150: '달라서', 6151: '협박', 6152: '점대', 6153: '유해진', 6154: '쌍둥이', 6155: '만행', 6156: '멘스', 6157: '무서워요', 6158: '타잔', 6159: '이준', 6160: '존나게', 6161: '과언', 6162: '어쩌구', 6163: '콩가루', 6164: '역겨움', 6165: '취하', 6166: '액티비티', 6167: '억지웃음', 6168: '범작', 6169: '애환', 6170: '유튜브', 6171: '멀미', 6172: '빌려서', 6173: '죄악', 6174: '폴리스', 6175: '발리', 6176: '이따', 6177: '맡기', 6178: 'CF', 6179: '유진', 6180: '장수', 6181: '무지하', 6182: '볼려', 6183: '이정진', 6184: '우려', 6185: '여느', 6186: '재해석', 6187: '총격', 6188: '일본어', 6189: '멈출', 6190: '마주', 6191: '몸부림', 6192: '둠', 6193: '끼칠', 6194: '쟝', 6195: '오리지날', 6196: '골랐', 6197: '김창완', 6198: '투쟁', 6199: '추적', 6200: '보리', 6201: 'G', 6202: '악어', 6203: 'z', 6204: '나치', 6205: '안드로메다', 6206: '모여서', 6207: '발악', 6208: '막무가내', 6209: '오름', 6210: '피노키오', 6211: 'ㅡㅡㅋ', 6212: '낡', 6213: '스물', 6214: '올랐', 6215: '테론', 6216: '키드먼', 6217: '자아내', 6218: '힐', 6219: '이루어지', 6220: '디아즈', 6221: '펴', 6222: '아가씨', 6223: '한구석', 6224: '영하', 6225: '이미연', 6226: '베끼', 6227: '김주혁', 6228: '우상', 6229: '지쳐', 6230: '므', 6231: '해설', 6232: '쌓', 6233: '재생', 6234: '주년', 6235: '무고', 6236: '안개', 6237: '츠', 6238: '맞서', 6239: '박물관', 6240: '간신히', 6241: '비약', 6242: '드릴', 6243: '답습', 6244: '본데', 6245: '쏠', 6246: '~.', 6247: '꾸준히', 6248: '운적', 6249: '쳐다보', 6250: '조쉬', 6251: '불교', 6252: '어게인', 6253: '새로움', 6254: '장애인', 6255: '데요', 6256: '사도', 6257: '해리슨', 6258: '인성', 6259: '지켜라', 6260: '혹', 6261: '딥', 6262: '펜', 6263: '초보', 6264: '장비', 6265: '울렸', 6266: '야말로', 6267: '공정', 6268: '잡스', 6269: '강우석', 6270: '존쿠삭', 6271: '기다린', 6272: '외계', 6273: '김옥빈', 6274: '작살', 6275: '겜', 6276: '유선', 6277: '보삼', 6278: '마이너', 6279: '출생', 6280: '벅찬', 6281: '건조', 6282: '감싸', 6283: '놀라움', 6284: '참으', 6285: '김준호', 6286: '후보', 6287: '기여', 6288: '고난', 6289: '퀼', 6290: '룰', 6291: '노라', 6292: '루시', 6293: '합쳐', 6294: '눈살', 6295: '아름다워요', 6296: '울버린', 6297: '박용우', 6298: 'ㅇㅅㅇ', 6299: '이어서', 6300: '걸맞', 6301: '환희', 6302: '흐른다', 6303: '다가가', 6304: '투모로우', 6305: '작성', 6306: '얕', 6307: '끝내준다', 6308: '겠다는', 6309: '끓', 6310: '떤', 6311: '92', 6312: '나눠', 6313: '특정', 6314: '요기', 6315: '다세포', 6316: '경력', 6317: '인사', 6318: '젬', 6319: '140', 6320: '김소연', 6321: '심함', 6322: '같잖', 6323: '단조', 6324: '쿵푸팬더', 6325: '입체', 6326: '킹콩', 6327: '퍼센트', 6328: '박진영', 6329: '에스', 6330: '123', 6331: '뵈', 6332: '씻', 6333: '그럴듯한', 6334: '리얼리즘', 6335: '루비', 6336: '울부짖', 6337: '크크', 6338: '윤재', 6339: '보낸', 6340: '출시', 6341: '윤발', 6342: '시덥잖', 6343: '대다수', 6344: '인내력', 6345: '해봐도', 6346: '쇼킹', 6347: '저지른', 6348: '쫙', 6349: '삭', 6350: '플러스', 6351: '파탄', 6352: '혼났', 6353: '여태껏', 6354: '심금', 6355: '기타노', 6356: '반점', 6357: '달려가', 6358: '비열', 6359: '도배', 6360: '지울', 6361: '지못미', 6362: '칙칙', 6363: '울린', 6364: '엥', 6365: '배워라', 6366: '개병', 6367: '아메리카', 6368: '명절', 6369: 'k', 6370: '연출자', 6371: '다물', 6372: '주저', 6373: '-;', 6374: '성질', 6375: '넘어서', 6376: '무릎', 6377: '색히', 6378: '맛보', 6379: '흔해빠진', 6380: '신발', 6381: '나무랄', 6382: '..;', 6383: '고만', 6384: '박현지', 6385: '무미건조', 6386: '준다고', 6387: '그래야', 6388: '돌아다니', 6389: '빠짐없이', 6390: '눈앞', 6391: '번방', 6392: '잘생김', 6393: '와인', 6394: '줄께', 6395: '~?', 6396: '망쳐놨', 6397: '딸아이', 6398: '극도', 6399: '애비', 6400: '소린지', 6401: '사귀', 6402: '세심', 6403: '알려진', 6404: '간접', 6405: '먹히', 6406: '증오', 6407: '머리카락', 6408: '으휴', 6409: '뺀', 6410: '실천', 6411: '떠날', 6412: '길거리', 6413: '대처', 6414: '편향', 6415: '슬플', 6416: '불리', 6417: '조한선', 6418: '앨리스', 6419: '~~~~~~~~', 6420: '릴리', 6421: '포커스', 6422: '치부', 6423: '따른', 6424: '겁나게', 6425: '맞춰서', 6426: '모지', 6427: '꼴리', 6428: '~~!!!', 6429: '수영', 6430: '33', 6431: '바꿔서', 6432: '연설', 6433: '화이트', 6434: '프리퀄', 6435: '손잡', 6436: '시대상', 6437: '헤헤', 6438: '위협', 6439: '맷', 6440: '콜', 6441: '.-_-', 6442: '뜰', 6443: '빌린', 6444: '인시디어스', 6445: '강소라', 6446: '키워', 6447: '35', 6448: '디지', 6449: '대답', 6450: '진다는', 6451: '갈망', 6452: '혈압', 6453: '이익', 6454: '성시경', 6455: '남상미', 6456: '김윤석', 6457: '불패', 6458: '관찰', 6459: '마른', 6460: '지친', 6461: '달인', 6462: '버려야', 6463: '부패', 6464: '甲', 6465: '뻔할', 6466: '왠만해서', 6467: '복귀', 6468: '찬다', 6469: '눈부신', 6470: '핫', 6471: '교양', 6472: '그리움', 6473: '뵙', 6474: '절실', 6475: '희생자', 6476: '사업', 6477: '안쓰럽', 6478: '특별히', 6479: '민간인', 6480: '그토록', 6481: '통제', 6482: '지향', 6483: '설득', 6484: '으루', 6485: '구식', 6486: '상품', 6487: '94', 6488: '화보', 6489: '짜장면', 6490: '편성', 6491: '축복', 6492: '결승전', 6493: '묵', 6494: '조니', 6495: '사악', 6496: '수학', 6497: '제시카알바', 6498: 'up', 6499: '모음', 6500: '천하', 6501: '개척', 6502: 'be', 6503: '알렉스', 6504: '입력', 6505: '혼합', 6506: '보냈', 6507: '명감독', 6508: '봣던', 6509: '종결', 6510: '당당히', 6511: '명장', 6512: '났었', 6513: '무죄', 6514: '떠서', 6515: '괴기', 6516: '혜', 6517: '시네마', 6518: '기영화', 6519: '댜', 6520: '뼈', 6521: '을라나', 6522: '마법사', 6523: '거참', 6524: '스나입스', 6525: '해져서', 6526: '매드', 6527: '헝', 6528: '깡', 6529: '자국', 6530: \".'\", 6531: '눈알', 6532: '성폭행', 6533: '잔상', 6534: '아랫', 6535: '히스레저', 6536: '떡칠', 6537: '연구', 6538: '비우', 6539: '누드', 6540: '하찮', 6541: '나래', 6542: '샌들러', 6543: '으악', 6544: '아하', 6545: '밸런스', 6546: '거늘', 6547: '아따', 6548: '모니카', 6549: '아아아', 6550: '조지클루니', 6551: '오래간만', 6552: '황', 6553: '워크', 6554: '마스크', 6555: '남녀노소', 6556: '댄', 6557: '으므로', 6558: '캠프', 6559: '반하', 6560: '스머프', 6561: 'SBS', 6562: '호주', 6563: '할려는', 6564: 'ㅇㅇㅇ', 6565: '레고', 6566: '오션스', 6567: '세금', 6568: '리들리', 6569: '비평', 6570: '망가진', 6571: '乃', 6572: '이룬', 6573: '그리스', 6574: '꾸역꾸역', 6575: '수식어', 6576: '이서진', 6577: '조장', 6578: '떨어질', 6579: '박한별', 6580: '송윤아', 6581: '비슷비슷', 6582: '발가락', 6583: '직설', 6584: '봉전', 6585: '콘', 6586: '해줌', 6587: '제자', 6588: '식당', 6589: '무시무시', 6590: '유아인', 6591: '어떨', 6592: '현지', 6593: '참내', 6594: '골라', 6595: '오점', 6596: '분열', 6597: '보라', 6598: '매튜', 6599: '표지', 6600: '스팅', 6601: '학예회', 6602: '짖', 6603: '아포칼립토', 6604: '숫자', 6605: '킹왕짱', 6606: '어염', 6607: '지상주의', 6608: '곤란', 6609: '히스', 6610: '허망', 6611: '피부', 6612: '박하', 6613: '베를린', 6614: '합격', 6615: '달라지', 6616: '송새벽', 6617: '은유', 6618: '총기', 6619: '운영', 6620: '건전', 6621: '날아가', 6622: '미지근', 6623: '................', 6624: '절친', 6625: '스토커', 6626: '베토벤', 6627: '터진', 6628: '즈음', 6629: '윤은혜', 6630: '!^^', 6631: '요가', 6632: '흘려', 6633: '깐', 6634: '다지', 6635: '청순', 6636: '클로즈업', 6637: '소심', 6638: '올바른', 6639: '85', 6640: '”', 6641: '이빨', 6642: '다며', 6643: '산다는', 6644: '에리카', 6645: '우디앨런', 6646: '꽃미남', 6647: '하모니', 6648: '짜맞추', 6649: '지날수록', 6650: '영역', 6651: '반쪽', 6652: '블러드', 6653: '하하하하', 6654: '찐한', 6655: '쌍벽', 6656: '가르침', 6657: '다짐', 6658: '춘', 6659: '눈높이', 6660: '중점', 6661: '맛없', 6662: '라는데', 6663: '특색', 6664: '굴', 6665: '다녀왔', 6666: '..)', 6667: '괴상', 6668: '오정세', 6669: '긴급조치', 6670: '현우', 6671: '주식', 6672: 'boring', 6673: '쪼금', 6674: '고대', 6675: '풀어냈', 6676: '싸인', 6677: '비리', 6678: '표출', 6679: '가위', 6680: '.;;;', 6681: '밀려', 6682: '진가', 6683: '스페이스', 6684: '장황', 6685: '판타스틱', 6686: '대견', 6687: '신랑', 6688: '분류', 6689: '현명', 6690: '부천', 6691: '가르치', 6692: '여지껏', 6693: '토하', 6694: '재판', 6695: '패밀리', 6696: '은행', 6697: '닭살', 6698: '샤를리즈', 6699: '침략', 6700: '!!!!!!!!!!!', 6701: '레즈', 6702: '포스트', 6703: '훌', 6704: '더구만', 6705: '사이트', 6706: '로썬', 6707: '꼬집', 6708: '후편', 6709: '영애', 6710: '련', 6711: 'SM', 6712: '그날', 6713: '노아', 6714: '댔', 6715: '말코비치', 6716: '찜', 6717: '이미숙', 6718: '붕가', 6719: '왤캐', 6720: '투더', 6721: '유부녀', 6722: '기막힌', 6723: '틀린', 6724: '핡', 6725: '틴', 6726: '준수', 6727: '구로사와', 6728: '발정', 6729: '고추', 6730: '명백', 6731: '박시환', 6732: '문자', 6733: '모건', 6734: '어땠을까', 6735: '코너', 6736: '쌀', 6737: '1997', 6738: '여부', 6739: '우베볼', 6740: '시켜라', 6741: '두근거리', 6742: '압', 6743: '몸짓', 6744: '쇠', 6745: '...;;', 6746: '이라고', 6747: '샤워', 6748: '저격', 6749: '비긴', 6750: '쯔', 6751: '리쉬', 6752: '유오', 6753: '누워서', 6754: '얼음', 6755: '폰부스', 6756: '지겨움', 6757: '이집트', 6758: '류덕환', 6759: '기만', 6760: '미사일', 6761: '봇', 6762: '예감', 6763: '늘어진다', 6764: '날라', 6765: '감우성', 6766: '게리올드만', 6767: '냉소', 6768: '들려', 6769: '누리', 6770: '주네', 6771: '떴', 6772: '킴', 6773: '강철', 6774: '무한도전', 6775: '재수', 6776: '이쁜데', 6777: '한반도', 6778: '을수록', 6779: '레벨', 6780: '김아중', 6781: '맥락', 6782: '이지아', 6783: '면은', 6784: '기초', 6785: '냉혹', 6786: '직장인', 6787: '에바그린', 6788: '끌어내', 6789: '내릴', 6790: '김우빈', 6791: '아름다우', 6792: '생길', 6793: '복싱', 6794: '애요', 6795: '홈즈', 6796: '권장', 6797: '두세', 6798: '퍼포먼스', 6799: '에라', 6800: '워쇼스키', 6801: '뱉', 6802: '막막', 6803: '럭', 6804: '인하', 6805: '가물가물', 6806: '정복', 6807: '도서관', 6808: '야겠다', 6809: '트리', 6810: '쟤', 6811: '파이널', 6812: '다더니', 6813: '애서', 6814: '목숨걸', 6815: '갚', 6816: '똑', 6817: '소유진', 6818: '세우', 6819: '워스트', 6820: '1998', 6821: '김수미', 6822: '동양인', 6823: '모시', 6824: '빚', 6825: '제라드', 6826: '디젤', 6827: '뇬', 6828: '산드라', 6829: '토요일', 6830: '꾀', 6831: '석', 6832: '강남', 6833: '초중', 6834: '장엄', 6835: '잡탕', 6836: '세용', 6837: '해적', 6838: '웡', 6839: '을껄', 6840: '45', 6841: '데려다가', 6842: '통찰', 6843: '89', 6844: '징징대', 6845: '추상', 6846: '엎', 6847: '민호', 6848: '거침없이', 6849: '애쓴', 6850: '악한', 6851: '뜻깊', 6852: '아파서', 6853: '시한부', 6854: '걔', 6855: '대왕', 6856: '벨라', 6857: '짝짝', 6858: '꼬이', 6859: '토크', 6860: '기능', 6861: '으으', 6862: '캡', 6863: '이안', 6864: '치매', 6865: '안젤리나', 6866: '광대', 6867: '견줄', 6868: '함축', 6869: '묘', 6870: '연대기', 6871: '클레이', 6872: '눌러', 6873: '소수자', 6874: '세이', 6875: '밀라요보비치', 6876: '데기', 6877: '정이건', 6878: '개구리', 6879: '허락', 6880: '저럴', 6881: '멎', 6882: '유희', 6883: '계급', 6884: '*^^*', 6885: '화살', 6886: '허리', 6887: '몽골', 6888: '오래가', 6889: '마돈나', 6890: '브라질', 6891: '삼촌', 6892: '상관없이', 6893: '투입', 6894: '반항', 6895: '쟁쟁', 6896: '문소리', 6897: '오컬트', 6898: '테일러', 6899: '세븐', 6900: '댄싱', 6901: '공군', 6902: '땡기', 6903: '박진희', 6904: '종편', 6905: '납', 6906: '뿌려', 6907: '바래요', 6908: '파이트', 6909: '노란', 6910: '올려야', 6911: '명분', 6912: '윌리엄', 6913: '84', 6914: '쿼터', 6915: '빽', 6916: '레이스', 6917: '변함없', 6918: '워싱턴', 6919: '장예모', 6920: '^^~', 6921: '자니', 6922: '월화', 6923: '비웃', 6924: '돌아갈', 6925: '오가', 6926: '경치', 6927: '안함', 6928: '달래', 6929: '퇴폐', 6930: '보람', 6931: '자연스레', 6932: '휴지', 6933: '격투기', 6934: '아파트', 6935: '싱크', 6936: '쪄', 6937: '탱크', 6938: '파고드', 6939: '이동진', 6940: '바르', 6941: '내주', 6942: '받쳐', 6943: '닉', 6944: '여럿', 6945: '갤', 6946: '과분', 6947: '돌프', 6948: '고아라', 6949: 'ever', 6950: '총싸움', 6951: '배틀', 6952: '아름다워서', 6953: '하트', 6954: '어우러져', 6955: '에잇', 6956: '해집니다', 6957: '바이블', 6958: '비비', 6959: '라네', 6960: '00', 6961: '권투', 6962: '뛴다', 6963: '음산', 6964: '교통사고', 6965: '배트', 6966: '소위', 6967: '고른', 6968: '써본다', 6969: '이보영', 6970: '김대희', 6971: '허허허', 6972: '흔치', 6973: '이런지', 6974: '오열', 6975: '꺼버린', 6976: '톰하디', 6977: '버디', 6978: '뚜', 6979: '당위', 6980: '누굴', 6981: '일리', 6982: '강원도', 6983: '다이', 6984: '산뜻', 6985: '!♥', 6986: '내인생의', 6987: '싱거운', 6988: '차갑', 6989: '나나', 6990: '단면', 6991: '믹스', 6992: '면상', 6993: '순정', 6994: '강수연', 6995: '월요일', 6996: '줄게', 6997: '류승완', 6998: '남북', 6999: '앤드류', 7000: '사촌', 7001: '페이스', 7002: '다라', 7003: '줄이', 7004: '돌아간', 7005: '장교', 7006: '민국', 7007: '카메오', 7008: '괴로웠', 7009: '마술', 7010: '싸대', 7011: '뷰', 7012: '낮춰야', 7013: '처벌', 7014: '배틀로얄', 7015: '국회의원', 7016: '드러운', 7017: '나위', 7018: '루크', 7019: '싯', 7020: '김윤진', 7021: '싸웠', 7022: '들어와', 7023: '에여', 7024: '중독자', 7025: '펑', 7026: '감격', 7027: '조안', 7028: '건너', 7029: '라운드', 7030: '토미', 7031: '박시후', 7032: '사물', 7033: '김지수', 7034: '신다', 7035: '아나운서', 7036: '감출', 7037: '무덤', 7038: '바라본', 7039: '이이', 7040: '사바', 7041: '댄서', 7042: '취해', 7043: '인줄', 7044: '뭍', 7045: '정식', 7046: '영호', 7047: '바쁜', 7048: '놔두', 7049: '방송국', 7050: '토비', 7051: '을래', 7052: '이해력', 7053: '들여서', 7054: '이요원', 7055: '강용석', 7056: '약함', 7057: '대요', 7058: '#', 7059: '!!!!!!!!!', 7060: '비노쉬', 7061: '개고생', 7062: '탐정', 7063: '나락', 7064: '감회', 7065: '대세', 7066: '서영희', 7067: '닌', 7068: '전무후무', 7069: '선한', 7070: '당께', 7071: '자칭', 7072: '배신감', 7073: '퍼시픽', 7074: '전두환', 7075: '화재', 7076: '견딜', 7077: '바디', 7078: '패틴슨', 7079: '사토시', 7080: '탄압', 7081: '버스터', 7082: '일치', 7083: '스마트폰', 7084: '좃', 7085: '여학생', 7086: '포레스트', 7087: '서유기', 7088: '총각', 7089: '호모', 7090: '으실', 7091: '바꼈', 7092: '유전자', 7093: '올라', 7094: '미생', 7095: '보태', 7096: '챙피', 7097: '세세', 7098: '박력', 7099: '식구', 7100: '할라고', 7101: '드팔마', 7102: '이모', 7103: '초대', 7104: '그럴싸', 7105: '고조', 7106: '시켜야', 7107: '진전', 7108: '레즈비언', 7109: '이곳', 7110: '입술', 7111: '생생히', 7112: '역동', 7113: '따라잡', 7114: '개똥철학', 7115: '영점', 7116: '쌔', 7117: '그루', 7118: '이루어진', 7119: '수천', 7120: '매료', 7121: '더러움', 7122: '크로우', 7123: '판사', 7124: '심판', 7125: '고파', 7126: '이경영', 7127: '꼬꼬마', 7128: '쨩', 7129: '영리', 7130: '문채원', 7131: '스틱', 7132: '이기심', 7133: '소시', 7134: '정무문', 7135: '남길', 7136: '낚일', 7137: 'what', 7138: '필립', 7139: '지니', 7140: '생전', 7141: '체인지', 7142: '넘버', 7143: '리플', 7144: '막말', 7145: '할리', 7146: '고마', 7147: '묻히', 7148: '안소니', 7149: '금성무', 7150: '노고', 7151: '부처', 7152: '요거', 7153: '이태임', 7154: '쪽팔리', 7155: '뛰어다니', 7156: '크기', 7157: '무심코', 7158: '주구장창', 7159: '옮겨', 7160: '루카스', 7161: '프리', 7162: '정준영', 7163: '무관', 7164: '입맛', 7165: '귀여우', 7166: '김지운', 7167: '필모그래피', 7168: '뽀뽀', 7169: '만지', 7170: '고소', 7171: '주의자', 7172: '미련', 7173: '불신', 7174: '의의', 7175: '볼걸', 7176: '보듬', 7177: '썬', 7178: '곽부성', 7179: '좀비', 7180: '주변인', 7181: '흥겹', 7182: '들어감', 7183: '수도', 7184: '탐험', 7185: '믹', 7186: '부드러운', 7187: '아오이유우', 7188: '천상', 7189: '징징', 7190: '악행', 7191: '각외', 7192: '오드리', 7193: '따라올', 7194: '벌이', 7195: '연발', 7196: '제국주의', 7197: '승자', 7198: '아이덴티티', 7199: '차려', 7200: 'am', 7201: '큰일', 7202: '♡♡♡', 7203: '노린', 7204: 'Best', 7205: '한층', 7206: '괴롭', 7207: '해당', 7208: '한대', 7209: '거칠', 7210: '방대', 7211: '..................', 7212: '저냥', 7213: '쇼크', 7214: '꼬박꼬박', 7215: '말론', 7216: 'sm', 7217: '챔피언', 7218: '가득찬', 7219: '깨지', 7220: '평온', 7221: '수퍼', 7222: '스티', 7223: '러블리', 7224: '한낱', 7225: '손꼽', 7226: '올인', 7227: '연평해전', 7228: '게리', 7229: '합작', 7230: '위선', 7231: '파이터', 7232: '김대중', 7233: '공평', 7234: '우스꽝', 7235: '강의', 7236: 'GOOD', 7237: '경고', 7238: '제격', 7239: '만드신', 7240: '개재', 7241: '가필드', 7242: '발성', 7243: '신지', 7244: '나비효과', 7245: '이내', 7246: '는데도', 7247: '달린다', 7248: '될까요', 7249: '탱', 7250: '해내', 7251: '읎', 7252: ',..', 7253: 'top', 7254: '기다림', 7255: 'ㅠㅠㅠㅠㅠㅠ', 7256: '흘린', 7257: '1970', 7258: '타격', 7259: '쭈욱', 7260: '유코', 7261: '.!!!', 7262: '안중근', 7263: '반가운', 7264: '퓨전', 7265: '출동', 7266: '방어', 7267: '껍데기', 7268: '역경', 7269: '힘든데', 7270: '싸가지', 7271: '쵸', 7272: '거미', 7273: '욜', 7274: '생일', 7275: '죵', 7276: '뺨', 7277: '쏟아지', 7278: '뒷맛', 7279: '정극', 7280: '둔갑', 7281: '두려워', 7282: '할매', 7283: '소금', 7284: '담당', 7285: '짱깨', 7286: '넘침', 7287: '자신감', 7288: '라이토', 7289: '스펙터클', 7290: '추모', 7291: '주리', 7292: 'p', 7293: '|', 7294: '달라진', 7295: '꺼지', 7296: '들어맞', 7297: '고은', 7298: '만든다고', 7299: '가져야', 7300: '무당', 7301: '벗어난', 7302: '펀치', 7303: '연속극', 7304: '줄리아로버츠', 7305: '베테랑', 7306: '한창', 7307: '검술', 7308: '흘러간다', 7309: '최신', 7310: '리브스', 7311: 'for', 7312: '끌려', 7313: '밀려온다', 7314: '코끼리', 7315: '느껴집니다', 7316: '홍경인', 7317: '스승', 7318: '효과음', 7319: '국민학교', 7320: '나오코', 7321: '낚시질', 7322: '쨋', 7323: '충돌', 7324: '소림사', 7325: '돠', 7326: '꾸미', 7327: '선교', 7328: '무력', 7329: '이겼', 7330: '착오', 7331: '바둑', 7332: '최곤데', 7333: '연예', 7334: '널리', 7335: '도리', 7336: '브레이크', 7337: 'not', 7338: 'that', 7339: '야마카시', 7340: '내세운', 7341: '식겁', 7342: '다던', 7343: '오버액션', 7344: '키아누리브스', 7345: '클릭', 7346: '유죄', 7347: '출', 7348: '미지', 7349: '.(', 7350: '도발', 7351: '먹방', 7352: '긴데', 7353: '느껴진', 7354: '볼래', 7355: '→', 7356: '비운', 7357: '발하', 7358: '다람쥐', 7359: '티켓', 7360: '세밀', 7361: '기념비', 7362: '약했', 7363: '랭', 7364: '힝', 7365: '현대판', 7366: '어따', 7367: '렸다', 7368: '더락', 7369: '경향', 7370: '올드', 7371: '수녀', 7372: '수년', 7373: '알포인트', 7374: '지켜야', 7375: '해맑', 7376: '티라노', 7377: 'Z', 7378: '미미', 7379: '나잇', 7380: '어우러지', 7381: '옮기', 7382: '지나쳤', 7383: '절실히', 7384: '눈꼽', 7385: '시궁창', 7386: '충실하', 7387: '안전', 7388: '아닐까요', 7389: '명탐정', 7390: '로우', 7391: '블럭', 7392: '워라', 7393: '가두', 7394: '라디오', 7395: '전원', 7396: '빙의', 7397: '거꾸로', 7398: '유동근', 7399: '건드리', 7400: '회자', 7401: '운다', 7402: '팬텀', 7403: '링컨', 7404: '언젠간', 7405: '스티븐시걸', 7406: '대회', 7407: '코스트너', 7408: '기세', 7409: '할로윈', 7410: '벌리', 7411: '테마', 7412: '숨기', 7413: '울궈먹', 7414: '트라우마', 7415: '허점', 7416: '주걸륜', 7417: '코폴라', 7418: '긴말', 7419: '재희', 7420: '요한슨', 7421: '김동완', 7422: '구속', 7423: '기름', 7424: '램', 7425: '바꿔야', 7426: '미니언', 7427: '그은', 7428: '삽입곡', 7429: '크로넨버그', 7430: '극우', 7431: '성냥팔이', 7432: '재림', 7433: '무서워하', 7434: '데려가', 7435: '절벽', 7436: '참패', 7437: '홍련', 7438: '리오', 7439: '수긍', 7440: '밑바닥', 7441: '부러웠', 7442: '수행', 7443: '동포', 7444: '보여요', 7445: '생긴다', 7446: '원본', 7447: '리더', 7448: '샤론', 7449: '회수', 7450: '한들', 7451: '결여', 7452: '바랄', 7453: '어리버리', 7454: '진영', 7455: '뤽', 7456: '내심', 7457: 'v', 7458: '불문', 7459: '끊이', 7460: '깬다', 7461: '잼따', 7462: '틸', 7463: '배끼', 7464: '느라고', 7465: '초저', 7466: '>_<', 7467: '리언', 7468: '띄우', 7469: '순서', 7470: '설계', 7471: '애교', 7472: '눈시울', 7473: '느려', 7474: '졸이', 7475: '바이올린', 7476: '황정음', 7477: '정경호', 7478: '자이언트', 7479: '끝장', 7480: '해바라기', 7481: '정주', 7482: '정직', 7483: 'But', 7484: '일진', 7485: '덴젤워싱턴', 7486: '툭', 7487: '바쁘', 7488: '서영', 7489: '화성', 7490: '요세', 7491: '호연', 7492: '대륙', 7493: '소망', 7494: '비스', 7495: 'pd', 7496: '역겨워', 7497: '음란', 7498: '노릇', 7499: 'BGM', 7500: '개오', 7501: '비틀즈', 7502: '태극기', 7503: '자란', 7504: '돌고래', 7505: '32', 7506: '하녀', 7507: '네이션', 7508: '감추', 7509: '날개', 7510: '모던', 7511: '코끝', 7512: 'are', 7513: '과한', 7514: '투명', 7515: '삘', 7516: '911', 7517: '걸림', 7518: '귓가', 7519: '오후', 7520: '악령', 7521: '써니', 7522: '하루카', 7523: '극히', 7524: '질려', 7525: '괘', 7526: '끈끈', 7527: '해병대', 7528: '본래', 7529: '이제훈', 7530: '브란도', 7531: '김고은', 7532: '정수', 7533: '헨리', 7534: '처지', 7535: '몰르', 7536: '방지', 7537: '우마서먼', 7538: '꺄', 7539: '재즈', 7540: '폐인', 7541: '제타', 7542: '파란만장', 7543: '저걸', 7544: '고리타분', 7545: '간결', 7546: '마더', 7547: 'ㄲ', 7548: '애써', 7549: '지망', 7550: '오감', 7551: '내부', 7552: '쫄딱', 7553: '씽', 7554: '보네', 7555: '친근', 7556: '여백', 7557: \"..'\", 7558: '에밀리', 7559: '프랭크', 7560: '컬러', 7561: '남아도', 7562: '아닙니까', 7563: '올리비아', 7564: '래디', 7565: '한류', 7566: '매체', 7567: '못난이', 7568: '04', 7569: '여성부', 7570: '천지', 7571: '덧', 7572: '운전', 7573: '입양', 7574: '뒷모습', 7575: '애청자', 7576: '쳐라', 7577: '심플', 7578: '보낼', 7579: '닳', 7580: '시끄러워서', 7581: '큽니다', 7582: '고군분투', 7583: '빈틈', 7584: '매길', 7585: '염정아', 7586: '홍석천', 7587: '모였', 7588: '니모', 7589: '당첨', 7590: '흙', 7591: '태권브이', 7592: '스트립', 7593: '으로부터', 7594: '메가', 7595: '케이온', 7596: '유방', 7597: '라디오스타', 7598: '튀어나오', 7599: '공략', 7600: '권총', 7601: '바스코', 7602: '키이라', 7603: '머금', 7604: ',.', 7605: '은희', 7606: '팜', 7607: '!!!!!!!!!!!!!', 7608: '뚱뚱', 7609: '참가자', 7610: '우물', 7611: '빼앗', 7612: '가발', 7613: '제대', 7614: '버킷', 7615: '개그콘서트', 7616: '살해', 7617: '정은지', 7618: '빔', 7619: '태어났', 7620: '재기', 7621: '온전히', 7622: '아이언', 7623: '점차', 7624: '친척', 7625: '살아온', 7626: '갈팡질팡', 7627: '숨막히', 7628: '빙빙', 7629: '생동감', 7630: '사치', 7631: '아이템', 7632: '능청', 7633: '인대', 7634: '솜', 7635: '공자', 7636: '+_+', 7637: '부러', 7638: '문란', 7639: '파트', 7640: '아씨', 7641: '유투', 7642: '밤새', 7643: 'P', 7644: '룸', 7645: '시내', 7646: 'H', 7647: '로드리게즈', 7648: '넘사벽', 7649: '체제', 7650: '드릴게요', 7651: '하느님', 7652: '수능', 7653: '성욕', 7654: '미덕', 7655: '균', 7656: '넘버원', 7657: 'or', 7658: '홍어', 7659: '슈퍼스타', 7660: '템포', 7661: '귀여니', 7662: '오픈', 7663: '뉘', 7664: '놓쳤', 7665: '뺐', 7666: '지지부진', 7667: '컬', 7668: '외설', 7669: '물중', 7670: '쓸모없', 7671: '맹목', 7672: '훔치', 7673: '시초', 7674: '편협', 7675: '찰리채플린', 7676: '카페', 7677: '떨어뜨린다', 7678: '요청', 7679: '휴대폰', 7680: '말년', 7681: '더구나', 7682: '돌릴', 7683: '카이', 7684: '임요환', 7685: '모른다는', 7686: '썩어빠진', 7687: '교묘', 7688: '신랄', 7689: '별생각', 7690: '쪙', 7691: '꼬리', 7692: '천안', 7693: '여긴', 7694: '뒷이야기', 7695: '번지르르', 7696: '임금', 7697: '멜로디', 7698: '클로이', 7699: '데이즈', 7700: '발킬머', 7701: '소중히', 7702: '존트라볼타', 7703: '나타낸', 7704: '순식간', 7705: '아까우', 7706: '맬', 7707: '암것도', 7708: '!!!!!!!!!!', 7709: '차려라', 7710: '범벅', 7711: '죽여도', 7712: '존슨', 7713: '댄다', 7714: '소릴', 7715: '멍하니', 7716: '몰라요', 7717: '프렌즈', 7718: '정보석', 7719: '몹시', 7720: '우산', 7721: '스콜세지', 7722: '평등', 7723: '트루', 7724: '난장판', 7725: '숨죽이', 7726: 'V', 7727: '양념', 7728: '바뀔', 7729: '남여', 7730: '겠어요', 7731: '치우', 7732: '런지', 7733: '일부분', 7734: '패닝', 7735: '애뜻', 7736: '도망치', 7737: '통속', 7738: 'bbbb', 7739: '샤이니', 7740: '오락물', 7741: '최종', 7742: '베꼈', 7743: '불렀', 7744: '코미', 7745: '48', 7746: 'blog', 7747: '동성', 7748: '경상도', 7749: '승질', 7750: '소지', 7751: 'on', 7752: '일류', 7753: '82', 7754: '카펜터', 7755: '모조리', 7756: '갸', 7757: '크리스찬베일', 7758: '하울', 7759: '밥맛', 7760: '남겨진', 7761: '최상', 7762: '이명박', 7763: '과자', 7764: '히로', 7765: '특공대', 7766: '허영', 7767: '느림', 7768: '빙자', 7769: '전우치', 7770: '은밀', 7771: '웰', 7772: '얽히', 7773: '이소연', 7774: '르노', 7775: '비춰', 7776: '따라간다', 7777: '엘리베이터', 7778: '비장', 7779: '이시영', 7780: '장학우', 7781: '조마조마', 7782: '투니', 7783: '니라', 7784: '우마', 7785: '했어야', 7786: '토토', 7787: '미친놈', 7788: '장화', 7789: '제이콥', 7790: '삼각', 7791: '놈놈놈', 7792: '벗어날', 7793: '희열', 7794: '사탄', 7795: '클리프', 7796: '다이빙', 7797: '사뭇', 7798: '스미스', 7799: ';;;;;', 7800: '얼간이', 7801: '요괴', 7802: '증언', 7803: '어스', 7804: '무협물', 7805: '이지나', 7806: '판빙빙', 7807: '...............', 7808: '마미', 7809: '피어스', 7810: '아담스', 7811: '96', 7812: '컨대', 7813: '이하늬', 7814: '속터지', 7815: '다네요', 7816: '오염', 7817: '최시원', 7818: '중국어', 7819: '모자르', 7820: '백제', 7821: '폭동', 7822: '옆집', 7823: '할려면', 7824: '79', 7825: '정녕', 7826: '줄까', 7827: '불타', 7828: '놀라웠', 7829: '짠해', 7830: '갇힌', 7831: '대장', 7832: '습격', 7833: '바란', 7834: '대인', 7835: '닮음', 7836: '풍광', 7837: '이불', 7838: '150', 7839: '.-_-;;', 7840: '십니까', 7841: '주부', 7842: '흐믓', 7843: '더이다', 7844: '깎아내리', 7845: '생산', 7846: '복장', 7847: '가져', 7848: 'REC', 7849: '턱', 7850: '디지털', 7851: '김병만', 7852: '\\\\', 7853: '시네', 7854: '알아듣', 7855: '87', 7856: '내지', 7857: '굵', 7858: '돌이켜', 7859: '펼쳐', 7860: '정교', 7861: '소송', 7862: '넘길', 7863: '렌', 7864: '오마이갓', 7865: '핑크', 7866: '때묻', 7867: '회차', 7868: '려구요', 7869: '알콩달콩', 7870: '훔쳐', 7871: '예쁘다', 7872: '유재석', 7873: '마력', 7874: '사납', 7875: '독수리', 7876: '올립니다', 7877: '사기극', 7878: '김정화', 7879: '벌려', 7880: '브레드', 7881: '어려워', 7882: '자다', 7883: '그리도', 7884: '대머리', 7885: '푸하하', 7886: '시대극', 7887: '육', 7888: '한잔', 7889: '유오성', 7890: '떨어집니다', 7891: '심보', 7892: '만드셨', 7893: '종족', 7894: '레인져', 7895: '바람둥이', 7896: '한판', 7897: '기생', 7898: '찾아왔', 7899: '조크', 7900: '나탈리', 7901: '던질', 7902: '구해서', 7903: '했으며', 7904: '어려', 7905: '카지노', 7906: '표방', 7907: '훗날', 7908: '고창석', 7909: '스텔론', 7910: '욕했', 7911: '역겨울', 7912: '메이드', 7913: '박혀', 7914: '나선', 7915: '칼싸움', 7916: '될수록', 7917: '퍽', 7918: '먹여', 7919: '알아주', 7920: '어렴풋이', 7921: '바위', 7922: '반미', 7923: '외노', 7924: '네버', 7925: '레미제라블', 7926: '겹치', 7927: '비호', 7928: '밀도', 7929: '장식', 7930: '뺨치', 7931: '근친', 7932: '페넬로페', 7933: '잣대', 7934: '유사라', 7935: '찰스', 7936: '소란', 7937: '숙제', 7938: '올까', 7939: '꼈', 7940: '멕시코', 7941: '..??', 7942: '남한', 7943: '각종', 7944: '갱스터', 7945: '보트', 7946: '오광록', 7947: '해리슨포드', 7948: '주어진', 7949: '발칙', 7950: '결핍', 7951: '심야', 7952: '이래야', 7953: '차례', 7954: '왔다갔다', 7955: '터져서', 7956: '붓', 7957: 'we', 7958: '편승', 7959: '추운', 7960: '기쁘', 7961: '줄줄', 7962: '엑스파일', 7963: '외전', 7964: '핀처', 7965: '-_-;;;', 7966: '임무', 7967: '마다가스카', 7968: '조이', 7969: '톡톡', 7970: '응징', 7971: '안달', 7972: '놀아나', 7973: '서리', 7974: '윤제문', 7975: '툭하면', 7976: '들어간다', 7977: '민중', 7978: '불법체류', 7979: '미아', 7980: '금물', 7981: '햇살', 7982: '모녀', 7983: '조디포스터', 7984: '뜻밖', 7985: '센세이션', 7986: '일으킨', 7987: '개답', 7988: '걸쳐', 7989: '감수성', 7990: '유괴', 7991: '툭툭', 7992: '지아', 7993: '박장대소', 7994: '느껴져', 7995: '대우', 7996: '최루성', 7997: '자시', 7998: '어르신', 7999: '잔치', 8000: '~~!!!!', 8001: '통틀', 8002: '마이클베이', 8003: '모텔', 8004: '퀴즈', 8005: '한채영', 8006: '니콜라스케이지', 8007: '나오미', 8008: '복습', 8009: '개신교', 8010: '돌려서', 8011: '포켓몬스터', 8012: 'Ost', 8013: '뷁', 8014: '잡다', 8015: '죽도', 8016: '000', 8017: '강해서', 8018: '비스트', 8019: '약점', 8020: '해용', 8021: '>.<', 8022: '고도', 8023: '까요', 8024: '볼륨', 8025: '한지민', 8026: '번개', 8027: '사족', 8028: '긁', 8029: '엘리트', 8030: '지현우', 8031: '엘리자베스', 8032: '배워야', 8033: '뻣뻣', 8034: '욧', 8035: '어떤지', 8036: '듬뿍', 8037: '쩍', 8038: '추기경', 8039: '타리', 8040: '、', 8041: '가면', 8042: '료코', 8043: '들이', 8044: '교체', 8045: '김정훈', 8046: '얍', 8047: '가방', 8048: '할께', 8049: '끝맺', 8050: '지하', 8051: '라이즈', 8052: '반데라스', 8053: '심취', 8054: '품달', 8055: '뿌린', 8056: '횡설수설', 8057: '성장통', 8058: '까말까', 8059: '구상', 8060: '스웨덴', 8061: '면모', 8062: '장르노', 8063: '비로소', 8064: '78', 8065: '좋아', 8066: '봣으면', 8067: '참다참다', 8068: '장판', 8069: '흉내내', 8070: '타고난', 8071: '야호', 8072: '공공', 8073: '러셀크로우', 8074: '화났', 8075: '책임감', 8076: '궁극', 8077: '자부', 8078: '결심', 8079: '덤덤', 8080: '서구', 8081: '갈증', 8082: '수박', 8083: '더운', 8084: '유학', 8085: '결정판', 8086: '눈깔', 8087: '배급', 8088: '버무린', 8089: '오달수', 8090: '1995', 8091: '고평', 8092: '때릴', 8093: '검프', 8094: '녹아들', 8095: '해서인지', 8096: '썸머', 8097: '1999', 8098: '노트북', 8099: '사고방식', 8100: '.~', 8101: '김민정', 8102: '넘겼', 8103: '달성', 8104: '도시락', 8105: '전직', 8106: '슬랩스틱', 8107: '생명력', 8108: 'bbb', 8109: 'www', 8110: '사리', 8111: '일색', 8112: '조진웅', 8113: '레디', 8114: '갔다왔', 8115: '첩혈쌍웅', 8116: '시갈', 8117: '점줄', 8118: '통틀어', 8119: '껴서', 8120: '은혜', 8121: '난도질', 8122: '오즈', 8123: '규모', 8124: '의구심', 8125: '팔레스타인', 8126: '로지', 8127: '뒀', 8128: 'ㅇㅋ', 8129: '재이', 8130: '슬립', 8131: '상기', 8132: '밋기', 8133: '라푼젤', 8134: '탄식', 8135: '광수', 8136: '김유정', 8137: 'mc', 8138: '벤쳐', 8139: '?????', 8140: '김청기', 8141: '저학년', 8142: '공백', 8143: '우디알렌', 8144: '음성', 8145: '간절히', 8146: '돌아간다', 8147: '요정', 8148: '내게는', 8149: '건축', 8150: '사운드트랙', 8151: '안구', 8152: '뒤돌아보', 8153: '풉', 8154: '잔다', 8155: '왕정', 8156: '모자랄', 8157: '변했', 8158: '출품', 8159: '날까', 8160: '독보', 8161: '음미', 8162: '분단', 8163: '발달', 8164: '루피', 8165: '이수정', 8166: '김원효', 8167: '기독교인', 8168: '분야', 8169: '방화', 8170: '풀어놓', 8171: '기관', 8172: '차예련', 8173: '능력자', 8174: '베이비', 8175: '유년', 8176: '사태', 8177: '윈', 8178: '짬', 8179: '아려', 8180: '예체능', 8181: '인제', 8182: '브로스넌', 8183: '예외', 8184: '헤매', 8185: '이빠이', 8186: '귀여운데', 8187: '68', 8188: '작자', 8189: '달렸', 8190: '갈피', 8191: '터널', 8192: '쫓기', 8193: '아멘', 8194: '한단', 8195: '구지성', 8196: '졸림', 8197: '류급', 8198: '바가지', 8199: '올리버', 8200: '진중', 8201: '됐었', 8202: '꽥꽥', 8203: '하비에르', 8204: '홍콩식', 8205: '내려놓', 8206: '마당', 8207: '생소', 8208: '마비', 8209: '망설이', 8210: '박재정', 8211: '강풀', 8212: '아싸', 8213: '스카이', 8214: '건졌', 8215: '희진', 8216: '파고들', 8217: '이스트', 8218: '지겨워서', 8219: '꺼져라', 8220: '83', 8221: '코리아', 8222: '포맷', 8223: '러쉬', 8224: '수수', 8225: 'OUT', 8226: '기교', 8227: '대체로', 8228: '고치', 8229: '따질', 8230: '모래', 8231: '멕', 8232: '어쩌다가', 8233: '전적', 8234: '담임', 8235: '심은경', 8236: '이뭐병', 8237: '비서', 8238: '검색어', 8239: '우주선', 8240: '주름', 8241: '시원찮', 8242: '발매', 8243: '노민우', 8244: '흡혈귀', 8245: '턱없이', 8246: '아름다울', 8247: '다행히', 8248: '샵', 8249: '시크릿', 8250: '워커', 8251: '케빈코스트너', 8252: '순정만화', 8253: '김지영', 8254: '묻힌', 8255: '것다', 8256: '서툰', 8257: '드류', 8258: '불친절', 8259: '맞췄', 8260: '글로리아', 8261: '서동요', 8262: '어드벤처', 8263: '표면', 8264: '섭', 8265: '갑시다', 8266: '앙상블', 8267: '스턴트맨', 8268: '치도', 8269: '올릴', 8270: '최선정', 8271: '이룰', 8272: '바람직', 8273: '박철수', 8274: '사이프리드', 8275: '컴백', 8276: '메마른', 8277: '선장', 8278: '옵니다', 8279: '관능', 8280: '였음을', 8281: '곽경택', 8282: '떨어트리', 8283: '생물', 8284: '절규', 8285: '레지던트', 8286: '낭패', 8287: '베이', 8288: '포로', 8289: '참된', 8290: '샤크', 8291: '인공', 8292: '박하선', 8293: '피터팬', 8294: '출근', 8295: '비틀', 8296: '서늘', 8297: '박상민', 8298: '경주', 8299: '요번', 8300: '지만서도', 8301: '안다고', 8302: '제멋대로', 8303: '문제작', 8304: '쭉쭉', 8305: '이색', 8306: '뒤떨어지', 8307: '연애시대', 8308: '견뎌', 8309: '어느덧', 8310: '아껴', 8311: '아픕니다', 8312: '위상', 8313: '내기', 8314: '신자', 8315: '표한다', 8316: '고갈', 8317: '김두한', 8318: '이르', 8319: '힙', 8320: '늠', 8321: '교', 8322: '키는', 8323: '상위', 8324: '취재', 8325: '생방', 8326: '정해', 8327: '과감히', 8328: '망설임', 8329: '걸친', 8330: '아플', 8331: '백진희', 8332: '핫세', 8333: '정려원', 8334: '갑툭튀', 8335: '구마', 8336: '김인권', 8337: '로울', 8338: '코넬리', 8339: '인천', 8340: '도착', 8341: '행오버', 8342: '다분', 8343: '퉷', 8344: '갑작스런', 8345: '정우', 8346: '천포', 8347: '！', 8348: '돈다', 8349: '디자이너', 8350: '조미료', 8351: '모세', 8352: '갇혀', 8353: '무민', 8354: '아이큐', 8355: '업적', 8356: '웁', 8357: '오마', 8358: '성준', 8359: '고은아', 8360: '영회', 8361: '깨어나', 8362: '이끄', 8363: '카모', 8364: '발광', 8365: '골라서', 8366: '영웅주의', 8367: '김영철', 8368: '히히', 8369: '쉐프', 8370: '윤진서', 8371: '포즈', 8372: '한가요', 8373: '현주소', 8374: '개도', 8375: '망칠', 8376: '페인', 8377: '공무원', 8378: '찌꺼기', 8379: '시스', 8380: '사세요', 8381: '켄', 8382: ';;;;;;', 8383: '아닐지', 8384: '먼데', 8385: 'J', 8386: '시놉시스', 8387: '관서', 8388: '겸', 8389: '기미', 8390: '다치', 8391: '우왕좌왕', 8392: 'You', 8393: '못생김', 8394: '개밥', 8395: '연개', 8396: '다른가', 8397: '공영', 8398: '초짜', 8399: '보성', 8400: '털리', 8401: 'km', 8402: '쑤', 8403: '시린', 8404: '다이애나', 8405: '메르스', 8406: '머저리', 8407: '찰', 8408: '교도소', 8409: '보도', 8410: '위력', 8411: 'ㅜㅡ', 8412: '리스', 8413: '빨리빨리', 8414: '가슴속', 8415: '조미', 8416: '스러', 8417: '김혜선', 8418: '미로', 8419: '1996', 8420: '~~♥', 8421: '아이스', 8422: '다투', 8423: '애니스톤', 8424: '헤드', 8425: '끌어가', 8426: '사색', 8427: '원주민', 8428: '대강', 8429: '상술', 8430: '찰지', 8431: '작품상', 8432: '만한', 8433: '부진', 8434: '마구잡이', 8435: '거라', 8436: '베트', 8437: '브리짓', 8438: '아부', 8439: '지미', 8440: '노이', 8441: '정조', 8442: '중복', 8443: '단독', 8444: '통화', 8445: '웃길려고', 8446: '연예계', 8447: '다스', 8448: '알콜', 8449: '.................', 8450: '빌딩', 8451: '편도', 8452: '요런', 8453: '미키루크', 8454: '공산당', 8455: '뿌듯', 8456: 'NO', 8457: '파커', 8458: '파헤치', 8459: '패트', 8460: '트릭', 8461: '용어', 8462: '만든지', 8463: '다죠', 8464: '두사부일체', 8465: '시인', 8466: '허슬', 8467: '』', 8468: '올렸', 8469: '55', 8470: '후딱', 8471: '소신', 8472: '얹', 8473: '버러지', 8474: '들어서', 8475: '화가', 8476: '김효진', 8477: '가격', 8478: '직시', 8479: '쏟아져', 8480: '돌아올', 8481: '궈', 8482: '거절', 8483: '담겨져', 8484: '산드라블록', 8485: '감탄사', 8486: '느그', 8487: '전용', 8488: '퇴화', 8489: '돌아볼', 8490: '정윤희', 8491: '돌파', 8492: '씁시다', 8493: '별것', 8494: '떠드', 8495: '개선', 8496: '찌푸려', 8497: '...................', 8498: '엄지원', 8499: '드럼', 8500: '폭행', 8501: '거린', 8502: '제주도', 8503: '어이없이', 8504: '덩달', 8505: '마감', 8506: '레슬링', 8507: '도쿄', 8508: '본연', 8509: '뇨', 8510: '아선', 8511: '강정', 8512: '기립', 8513: '스며드', 8514: '꼇다', 8515: '방가', 8516: '징기스칸', 8517: '그리울', 8518: '왜냐하면', 8519: '욘', 8520: '슬레이터', 8521: '맹탕', 8522: '엑스', 8523: '지점', 8524: '랄프', 8525: '나간다', 8526: '정준하', 8527: '주류', 8528: '영향력', 8529: '음울', 8530: '겉도', 8531: '돌아와', 8532: '매너', 8533: '슬픕니다', 8534: '관광', 8535: '취업', 8536: '빠이', 8537: '질색', 8538: '~♡', 8539: '역설', 8540: '꼽힐', 8541: '흐미', 8542: '토렌트', 8543: '조타', 8544: '홀딱', 8545: '은정', 8546: '여균동', 8547: '무분별', 8548: '겸손', 8549: '안겨준', 8550: '태민', 8551: '홍길동', 8552: '알렌', 8553: '볼께', 8554: '욕한', 8555: 'CSI', 8556: '눈길', 8557: '67', 8558: '개무', 8559: '막혀', 8560: '히트맨', 8561: '돌려주', 8562: '감자', 8563: '잭블랙', 8564: '태극', 8565: '풀어낼', 8566: '소림축구', 8567: '찾아봐도', 8568: '사라질', 8569: '험', 8570: '벅차', 8571: '자화상', 8572: '황진미', 8573: '웨폰', 8574: '몰두', 8575: 'r', 8576: '얼렁뚱땅', 8577: '군사', 8578: '소동', 8579: '거북이', 8580: '웹', 8581: '도신', 8582: '욥', 8583: '유료', 8584: '양자경', 8585: '횽', 8586: '세뇌', 8587: '아찔', 8588: '게이트', 8589: '그러면', 8590: '한꺼번에', 8591: '킨', 8592: '질러', 8593: '고든', 8594: '브이', 8595: '궁굼', 8596: '은지원', 8597: '비율', 8598: '매장', 8599: '이현우', 8600: '발끝', 8601: '주몽', 8602: '과욕', 8603: '메릴스트립', 8604: '지킬', 8605: '토리', 8606: '천정명', 8607: '불사신', 8608: '딕', 8609: '토대', 8610: '스러우', 8611: '볼게요', 8612: '허영심', 8613: '접속', 8614: '슥', 8615: '군국주의', 8616: '엘리', 8617: '감미', 8618: '와요', 8619: '자동', 8620: '자평', 8621: '전병', 8622: '저따위', 8623: '히든', 8624: '살아간다', 8625: '여장', 8626: '로라', 8627: '나니아', 8628: '남배우', 8629: '씌', 8630: '콱', 8631: '알모도바르', 8632: '더러워서', 8633: '구토', 8634: '냉철', 8635: '성실', 8636: '애국', 8637: '김사랑', 8638: '망정', 8639: '테니스', 8640: '망각', 8641: '목욕', 8642: '수호', 8643: '그만두', 8644: '급작', 8645: '장난아', 8646: '전라', 8647: '에로티시즘', 8648: '쌓인', 8649: '들어온다', 8650: '들어와서', 8651: '시답잖', 8652: '>.', 8653: '경이롭', 8654: '려던', 8655: '양쪽', 8656: '죽여야', 8657: '제압', 8658: '도현', 8659: '폄하', 8660: '찌질이', 8661: '3500', 8662: '한걸', 8663: '꺅', 8664: '만족감', 8665: '폐해', 8666: 'Very', 8667: '위해선', 8668: '애미', 8669: '세기말', 8670: '원수', 8671: '맞춤', 8672: '때린다', 8673: '오경', 8674: '인크레더블', 8675: '예상외', 8676: '토시오', 8677: '에어', 8678: '청각', 8679: '제길', 8680: '구현', 8681: '08', 8682: '긴지', 8683: '봐두', 8684: '아야세', 8685: '코치', 8686: '으니라고', 8687: '요샌', 8688: '흰', 8689: '얽힌', 8690: '서유리', 8691: '이주승', 8692: '괸', 8693: '로군', 8694: '즐거워', 8695: '이라니', 8696: '대안', 8697: '모모', 8698: '맴돌', 8699: '날아다니', 8700: '이요', 8701: '세나', 8702: '초창기', 8703: '이럴까', 8704: '원판', 8705: '우월', 8706: '득', 8707: '아티스트', 8708: '쯧쯧쯧', 8709: '여섯', 8710: '덕화', 8711: '늑대인간', 8712: '특촬물', 8713: '노홍철', 8714: '잰', 8715: '라다', 8716: '미셸', 8717: '어지간히', 8718: '~~~!!', 8719: '에디', 8720: '신작', 8721: '무사', 8722: '한껏', 8723: '~~~^^', 8724: '줬었', 8725: '소주', 8726: '박시연', 8727: '견', 8728: '더러워지', 8729: '찡해', 8730: '피우', 8731: '끈기', 8732: '휘날리', 8733: '회의', 8734: '각오', 8735: '질러대', 8736: '비겁', 8737: '애새끼', 8738: '제주', 8739: '매염방', 8740: '로미오', 8741: '니콜슨', 8742: '이순재', 8743: '괜한', 8744: '화딱지', 8745: '춤출', 8746: '떠났', 8747: '간혹', 8748: '대서', 8749: '하난', 8750: '마징가', 8751: '선라이즈', 8752: '스트리트', 8753: '조사', 8754: '피라미드', 8755: '한회', 8756: '시달리', 8757: '추하', 8758: '터무니없', 8759: '공사', 8760: '클루니', 8761: '보복', 8762: '힘겹', 8763: '저랬', 8764: '철철', 8765: 'time', 8766: '바꿨', 8767: '엽', 8768: '반말', 8769: '무서', 8770: '도달', 8771: '친일', 8772: '슈트', 8773: '난다고', 8774: '올슨', 8775: '캠코더', 8776: '쬐금', 8777: '비꼬', 8778: '로워', 8779: '던진', 8780: 'VOD', 8781: '햄버거', 8782: '구름', 8783: '굴욕', 8784: '홉킨스', 8785: '빼먹', 8786: '-)', 8787: '오징어', 8788: '열매', 8789: '옵', 8790: '닐', 8791: '십쇼', 8792: '상속자', 8793: '볼라', 8794: '조셉', 8795: '논할', 8796: '항', 8797: '깼', 8798: '질림', 8799: '애슐리', 8800: '가스', 8801: '호수', 8802: '사무엘', 8803: '베티', 8804: '리딕', 8805: '환생', 8806: '무진장', 8807: '추격자', 8808: '망한다는', 8809: '원장', 8810: '반짝', 8811: '시급', 8812: '청법', 8813: '모자람', 8814: '각본가', 8815: '불량', 8816: '일지라도', 8817: '시공간', 8818: '다름없', 8819: '트렁크', 8820: '줄여', 8821: '미침', 8822: '더냐', 8823: '컨텐츠', 8824: '맥아담스', 8825: '이국', 8826: '거니', 8827: '생각납니다', 8828: '메기', 8829: '올림', 8830: '31', 8831: '입담', 8832: '부들부들', 8833: '레니', 8834: '창고', 8835: '늑대소년', 8836: '앍', 8837: '과소평가', 8838: '리틀', 8839: '성별', 8840: '수목', 8841: '들이대', 8842: '깨우치', 8843: '편파', 8844: '바야', 8845: '악녀', 8846: '찌푸리', 8847: '부유', 8848: '동거', 8849: '감춰진', 8850: '체자', 8851: '성과', 8852: '레인', 8853: '의자', 8854: '--;;', 8855: '김재원', 8856: '동떨어진', 8857: '유기', 8858: '헤어진', 8859: '격정', 8860: '날씨', 8861: '연말', 8862: '라던지', 8863: '막힐', 8864: '참담', 8865: '신음', 8866: '은주', 8867: '사투', 8868: '블록', 8869: '제트', 8870: 'This', 8871: '쿵후', 8872: '메릴', 8873: '준다면', 8874: '마르', 8875: '보입니다', 8876: '하하하하하', 8877: '봐선', 8878: '더블', 8879: '내포', 8880: '헛점', 8881: '향하', 8882: '해답', 8883: '낄낄', 8884: '예기', 8885: '활극', 8886: '질린', 8887: '남다른', 8888: '기다려집니다', 8889: '울트라', 8890: '손해', 8891: '숫', 8892: '젝', 8893: '익살', 8894: '감금', 8895: 'g', 8896: '안나', 8897: '저그', 8898: '빨라서', 8899: '때려잡', 8900: '프리먼', 8901: '웟음', 8902: '꼭두각시', 8903: '가져가', 8904: '푸하하하', 8905: '그럴싸한', 8906: '비정', 8907: '대적', 8908: '살아오', 8909: '왼쪽', 8910: '유태인', 8911: '만끽', 8912: '불협화음', 8913: '수니', 8914: '계몽', 8915: '심혜진', 8916: '본전', 8917: '강자', 8918: '정상인', 8919: '해군', 8920: '호호', 8921: '지나갔', 8922: '들어온', 8923: '설교', 8924: '허황', 8925: '잘라서', 8926: '세자', 8927: '탁재훈', 8928: '괴짜', 8929: '값진', 8930: '현기증', 8931: '밀리', 8932: '베이더', 8933: '뮬란', 8934: '신사', 8935: '순결', 8936: '실물', 8937: '근디', 8938: '랜턴', 8939: '^^♥', 8940: '넉', 8941: '어다', 8942: '랙', 8943: '앨런', 8944: '찔끔', 8945: '용의자', 8946: '애국가', 8947: '댕기', 8948: '실질', 8949: '최상급', 8950: '아이폰', 8951: '종료', 8952: '마는', 8953: '~~~!!!', 8954: '주유소', 8955: '탐구', 8956: '중계', 8957: '수치심', 8958: '채웠', 8959: '지식인', 8960: '『', 8961: '스피릿', 8962: '어긋나', 8963: '나온다면', 8964: '정겨운', 8965: '이유리', 8966: '단조로운', 8967: '으리라', 8968: '현저히', 8969: '이편', 8970: '조쉬하트넷', 8971: '군상', 8972: '구닥다리', 8973: '리들리스콧', 8974: '아부지', 8975: '숨바꼭질', 8976: '81', 8977: '미확인', 8978: '고쳐', 8979: '새로웠', 8980: '때려치', 8981: '냐구', 8982: '민세연', 8983: '제자리', 8984: '트렌드', 8985: '이종혁', 8986: '김범', 8987: '동시대', 8988: '당근', 8989: '모차르트', 8990: '남이', 8991: '..♥', 8992: '멕라이언', 8993: '드려야', 8994: '상담', 8995: '반대편', 8996: '다라마', 8997: '조상', 8998: '바뀜', 8999: '중단', 9000: '저스틴', 9001: '리차드', 9002: '76', 9003: '밨는데', 9004: '그럴듯', 9005: '수없이', 9006: '캠', 9007: '사마', 9008: '이수경', 9009: '편의점', 9010: '빈다', 9011: '조디', 9012: '넘나드', 9013: '후퇴', 9014: '얌', 9015: '터트리', 9016: '됩니까', 9017: '예스', 9018: '단연코', 9019: '캔', 9020: '린즈링', 9021: '덩', 9022: '어눌', 9023: '당기', 9024: '미워할', 9025: '박은혜', 9026: '벅스', 9027: '유효', 9028: '줍시다', 9029: '실현', 9030: '어후', 9031: '장난질', 9032: '치가', 9033: '왕가', 9034: '전무', 9035: '유감', 9036: '그리워지', 9037: '딜레마', 9038: '최다니엘', 9039: '판도', 9040: '자의식', 9041: '버틀러', 9042: '포토', 9043: '맥그리거', 9044: '아우라', 9045: '지어다', 9046: '퉁', 9047: '오케이', 9048: '프랑스인', 9049: '시련', 9050: '끗', 9051: '이영애', 9052: '앨범', 9053: '셔도', 9054: '후진국', 9055: '나부랭이', 9056: '뷰티', 9057: '캐리비안', 9058: '수잔', 9059: '망한다', 9060: '펀', 9061: '더한', 9062: '하곤', 9063: '결정체', 9064: '알린', 9065: '만능', 9066: '버프', 9067: '에어컨', 9068: '심도', 9069: '의혹', 9070: '전도', 9071: '지효', 9072: '힐러리', 9073: '뺏기', 9074: '무렵', 9075: '해져요', 9076: '홍성진', 9077: '미디어', 9078: '음침', 9079: '넘어갈', 9080: '아쉬워서', 9081: '여하튼', 9082: '채시라', 9083: '논스톱', 9084: '박지성', 9085: '감도', 9086: '다이아몬드', 9087: '온주완', 9088: '에이미', 9089: '피로', 9090: '폭스', 9091: '예지원', 9092: '달라졌', 9093: '인간미', 9094: '겁내', 9095: '잡힌', 9096: '캐미', 9097: '개방', 9098: '반열', 9099: '해골', 9100: '소라', 9101: '하치', 9102: '백야', 9103: '백설', 9104: '도자기', 9105: '전역', 9106: '무덤덤', 9107: '적시', 9108: '대조', 9109: '피아니스트', 9110: '암만', 9111: '순박', 9112: '느낍니다', 9113: '도끼', 9114: '소모', 9115: '커다란', 9116: '렛', 9117: '뎌', 9118: '끝없이', 9119: '주도', 9120: '볼려면', 9121: '순전히', 9122: '끊임없', 9123: '친숙', 9124: '갓파더', 9125: '떨림', 9126: '마린', 9127: '메디컬', 9128: '브라보', 9129: '이청아', 9130: '노노', 9131: '기황후', 9132: '엿같', 9133: '테드', 9134: '재대로', 9135: '찾아본', 9136: '동반', 9137: '스킬', 9138: '욕정', 9139: '첫째', 9140: '확률', 9141: '송일국', 9142: '짚', 9143: '열혈', 9144: '남겨요', 9145: '건네', 9146: '교제', 9147: '반장', 9148: '땔', 9149: '1500', 9150: '잴', 9151: '투캅스', 9152: '불사조', 9153: '바르뎀', 9154: '집시', 9155: '찬성', 9156: '쉰', 9157: '이프로', 9158: '머물', 9159: '위장', 9160: '신물', 9161: '인주', 9162: '승승장구', 9163: '58', 9164: '할땐', 9165: '예쁜데', 9166: '만드세요', 9167: '신성', 9168: '올린다', 9169: '겐', 9170: '하희라', 9171: '특급', 9172: '이긴', 9173: '스쳐', 9174: '거저', 9175: '판타', 9176: '나눈', 9177: '배달', 9178: '최우식', 9179: '기네스', 9180: '명목', 9181: '바이', 9182: '친한', 9183: '횟수', 9184: '드러워', 9185: '천장지구', 9186: '김신', 9187: '추종', 9188: '자네', 9189: '낙원', 9190: '엇갈리', 9191: '돼야', 9192: '한지훈', 9193: '사지', 9194: '퍼레이드', 9195: '정규', 9196: '아마존', 9197: '오케스트라', 9198: '충이', 9199: '선조', 9200: '셜', 9201: '양익준', 9202: '분발', 9203: '제약', 9204: '다짜고짜', 9205: '빨려', 9206: '팝송', 9207: '안다면', 9208: '리처드', 9209: '홍수', 9210: '소식', 9211: '도입', 9212: '귀환', 9213: '이라크', 9214: '미끼', 9215: '아무거', 9216: 'xx', 9217: '사후', 9218: '.???', 9219: '김동욱', 9220: '김상경', 9221: '뽕짝', 9222: '66', 9223: '걸려서', 9224: '금고', 9225: '석양', 9226: '사탕', 9227: '경비', 9228: '상대방', 9229: '無', 9230: '랍', 9231: '민아', 9232: '미사', 9233: '허공', 9234: '주룩주룩', 9235: '정기', 9236: '셀', 9237: '남주의', 9238: '기질', 9239: '러니', 9240: '점프', 9241: '축제', 9242: '잡지', 9243: '노랑머리', 9244: '망가', 9245: '엣', 9246: '아앙', 9247: '대성', 9248: '띄워', 9249: '되새기', 9250: '무공', 9251: '래쉬', 9252: '연제욱', 9253: '다코타패닝', 9254: '눈썹', 9255: '퇴', 9256: '파란', 9257: '신중', 9258: '다잉', 9259: '부당', 9260: '드셨', 9261: '댕', 9262: '함량', 9263: '눈동자', 9264: '리플리', 9265: '며느리', 9266: '마나', 9267: '빚어낸', 9268: '번호', 9269: '황당무계', 9270: '김새론', 9271: 'one', 9272: '맥빠지', 9273: '모으', 9274: '나타났', 9275: '평면', 9276: '비해선', 9277: '지나갈', 9278: '굴곡', 9279: '.-', 9280: '김일성', 9281: '식사', 9282: '따라오', 9283: '화법', 9284: '세라', 9285: '신체', 9286: '가려', 9287: '오리엔탈리즘', 9288: ',,', 9289: '행성', 9290: '리턴즈', 9291: '당혹', 9292: '오스카', 9293: '변함', 9294: '망친다', 9295: '적도', 9296: '고대로', 9297: '세주', 9298: '박한', 9299: '세염', 9300: '민비', 9301: '카메론디아즈', 9302: '코스모스', 9303: '무상', 9304: '온데', 9305: '간데', 9306: '입증', 9307: '연출가', 9308: '개취', 9309: '힘찬', 9310: '간다고', 9311: '놀리', 9312: '혼신', 9313: '말다', 9314: '감방', 9315: '대명사', 9316: '발단', 9317: '이사', 9318: '쌓이', 9319: '곽', 9320: '방치', 9321: '유부남', 9322: '갑옷', 9323: '돌이', 9324: '탈북자', 9325: '피눈물', 9326: '냔', 9327: '가벼움', 9328: '터무니없이', 9329: '그레', 9330: '뼈저리', 9331: '계약', 9332: '더글라스', 9333: '없음', 9334: '잠재', 9335: '베송', 9336: '노년', 9337: '끝났어야', 9338: '인육', 9339: '이루어질', 9340: '기획사', 9341: '핏줄', 9342: '맞출', 9343: '청소년기', 9344: '지방', 9345: '라마', 9346: '토로', 9347: '트리오', 9348: '롤러코스터', 9349: '임상수', 9350: '행세', 9351: '신성일', 9352: '무법자', 9353: '겁난다', 9354: '부려', 9355: '다냐', 9356: '크레이지', 9357: '메가폰', 9358: '크림슨', 9359: '불평', 9360: '동전', 9361: '주의보', 9362: '줄리안', 9363: '청불', 9364: '즐겼', 9365: '연정훈', 9366: '독자', 9367: '이재은', 9368: '기르', 9369: '하악', 9370: '또래', 9371: '팬더', 9372: '쯔쯔', 9373: '문성근', 9374: '1992', 9375: '동남아', 9376: '키운', 9377: '이어질', 9378: '립니', 9379: '가출', 9380: '보인', 9381: '그간', 9382: '닉쿤', 9383: '토마토', 9384: '못된', 9385: '노래방', 9386: '램버트', 9387: '이벤트', 9388: '후손', 9389: '다이스', 9390: '내전', 9391: '아아아아', 9392: '티아라', 9393: '얄밉', 9394: '정자', 9395: '환호', 9396: '로빈윌리엄스', 9397: '헝거', 9398: '돌연변이', 9399: '중경삼림', 9400: '다가온', 9401: '기뻤', 9402: '박지윤', 9403: '쾌락', 9404: '조형기', 9405: '치즈', 9406: '코피', 9407: '으뜸', 9408: '오버랩', 9409: '너머', 9410: '색즉시공', 9411: '헷', 9412: '재산', 9413: '이어졌', 9414: '떳떳', 9415: '흠흠', 9416: '떠올라서', 9417: '티격태격', 9418: '찍히', 9419: '아랑', 9420: '배용준', 9421: '중립', 9422: '쬐끔', 9423: '마르소', 9424: '겅', 9425: '중사', 9426: '게시판', 9427: '신문', 9428: '죄인', 9429: '근친상간', 9430: '무자비', 9431: '맘마', 9432: '후세', 9433: '화남', 9434: '뿅', 9435: '동서양', 9436: '반공', 9437: '매니저', 9438: '려구', 9439: '패자', 9440: '서글픈', 9441: '퇴색', 9442: '명치', 9443: '예민', 9444: '유대인', 9445: '관해', 9446: '정정', 9447: '얼간', 9448: '나감', 9449: '콜린파렐', 9450: '퍼스', 9451: '상류층', 9452: '챔프', 9453: '할려', 9454: '휴일', 9455: '영화채널', 9456: '증인', 9457: '성취', 9458: '차안', 9459: '나와야지', 9460: '달기', 9461: '돌려도', 9462: '에이즈', 9463: '싸워', 9464: '못한다면', 9465: '지겨웠', 9466: '민감', 9467: '맘껏', 9468: '합쳐서', 9469: '망해라', 9470: '그레이', 9471: '해봄', 9472: '풍선', 9473: '움직인다', 9474: '미술관', 9475: '복고', 9476: '엄연히', 9477: '손자', 9478: '별명', 9479: '애국자', 9480: '멋진데', 9481: '온라인', 9482: '졌어요', 9483: '제니', 9484: '아낌없', 9485: '아자니', 9486: '전쟁터', 9487: '제프', 9488: '사만다', 9489: '근처', 9490: '통할', 9491: '그릴', 9492: 'KTX', 9493: '컴플렉스', 9494: '불태우', 9495: '똥파리', 9496: '화난', 9497: '유전', 9498: '자나', 9499: '좋아함', 9500: '읭', 9501: '샘레이미', 9502: '해명', 9503: '구사', 9504: '잠기', 9505: '의료', 9506: 'cctv', 9507: 'life', 9508: '故', 9509: '이영활', 9510: '외우', 9511: '과유불급', 9512: '배신자', 9513: 'do', 9514: '명확히', 9515: '희생양', 9516: '따먹', 9517: '물어내', 9518: '레슬리', 9519: '개입', 9520: '死', 9521: '자무시', 9522: '몰상식', 9523: '빨랑', 9524: 'great', 9525: '.♥', 9526: '스토', 9527: '아슬아슬', 9528: '한테서', 9529: '사형수', 9530: '스마트', 9531: '벤에플렉', 9532: '와일드', 9533: '은희수', 9534: '할거', 9535: '강함', 9536: '박준형', 9537: '나뉘', 9538: '급박', 9539: '도그', 9540: '급조', 9541: '하락세', 9542: '대원', 9543: '시시껄렁', 9544: '다움', 9545: '워낭', 9546: '스타크래프트', 9547: '****)', 9548: '이준익', 9549: '설렜', 9550: '멘토', 9551: '이장우', 9552: '이끈', 9553: '모리꼬네', 9554: '우울해', 9555: '문장', 9556: '로얄', 9557: '계절', 9558: '짜깁', 9559: '소이다', 9560: '구두', 9561: '노르웨이', 9562: '동해', 9563: '현혹', 9564: '센터', 9565: '티브이', 9566: '가량', 9567: '아비', 9568: '여잔데', 9569: '넴', 9570: '팔마', 9571: '할라', 9572: '숨소리', 9573: '스탠리', 9574: '그따위', 9575: '원생', 9576: '떠나보내', 9577: '요보비치', 9578: '트루먼', 9579: '드라큘라', 9580: '변할', 9581: '베스트셀러', 9582: '이래도', 9583: '시끄러워', 9584: '스턴트', 9585: '커트', 9586: '주군', 9587: '실태', 9588: 'bad', 9589: '어설펐', 9590: '련지', 9591: '사생활', 9592: '관통', 9593: '나문희', 9594: '왕창', 9595: '알아들', 9596: 'with', 9597: '블리', 9598: '본느', 9599: '터리', 9600: '떵', 9601: '을려나', 9602: '로또', 9603: '처녀', 9604: '휴우', 9605: '우연찮', 9606: 'BEST', 9607: '솔까말', 9608: '물든', 9609: '몰아가', 9610: '예언', 9611: '한눈', 9612: '으려면', 9613: '이즈', 9614: '노동', 9615: '줄라고', 9616: '틀렸', 9617: '처분', 9618: '어긋난', 9619: '위태', 9620: '일침', 9621: '소이현', 9622: '겉돌', 9623: '짤린', 9624: '메이퀸', 9625: '주입', 9626: '철수', 9627: '사살', 9628: '택', 9629: '나사', 9630: '박차', 9631: '선언', 9632: '투영', 9633: '관상', 9634: '하드코어', 9635: '규칙', 9636: '잊혀질', 9637: '들어야', 9638: '빛난다', 9639: '마음껏', 9640: '밥상', 9641: '조율', 9642: '제기', 9643: '라기에', 9644: '저하', 9645: '수염', 9646: 'So', 9647: '끝냈으면', 9648: '홀리', 9649: '삭막', 9650: '례', 9651: '배출', 9652: '다중', 9653: '그해', 9654: '에유', 9655: '인용', 9656: '껌', 9657: '룬드그렌', 9658: '나쁨', 9659: '남궁민', 9660: '게라도', 9661: '레이놀즈', 9662: '동굴', 9663: '드레스', 9664: '식민지', 9665: '오지랖', 9666: '지수', 9667: '수출', 9668: '그려지', 9669: '그물', 9670: '광신도', 9671: '콜라', 9672: '꾸며', 9673: '몰랐었', 9674: '안보', 9675: '인게', 9676: '무스', 9677: '수식', 9678: '선하', 9679: '으랴', 9680: '색채감', 9681: '갈구', 9682: '까대', 9683: '풍성', 9684: '횡포', 9685: '무거울', 9686: '콘택트', 9687: '왕년', 9688: '이창동', 9689: '시미', 9690: '막힌다', 9691: '가이', 9692: '임다', 9693: '이치', 9694: '디질', 9695: '랜드', 9696: '분열증', 9697: '볼지', 9698: '매즈', 9699: '마리오', 9700: '박선영', 9701: '비범', 9702: '로리타', 9703: '소고기', 9704: '헤어짐', 9705: 'ok', 9706: '희미', 9707: '태풍', 9708: '련다', 9709: '들마', 9710: '버틸', 9711: '갯', 9712: '혁', 9713: '경직', 9714: 'imdb', 9715: '퇴물', 9716: '부조', 9717: '사라짐', 9718: '바지', 9719: '끌려서', 9720: '곤충', 9721: '낙태', 9722: '아이콘', 9723: '론가', 9724: '냉장고', 9725: '숙면', 9726: '가져다준', 9727: '..-', 9728: '``', 9729: '거렸', 9730: '비견', 9731: '이광수', 9732: '눌', 9733: '불릴', 9734: '개차반', 9735: '전율', 9736: '휴잇', 9737: '앤더슨', 9738: '허접쓰레기', 9739: '이뤄', 9740: '더군다나', 9741: '맥클레인', 9742: '젓', 9743: '...!', 9744: '벼', 9745: '사실감', 9746: '거침없', 9747: '고사', 9748: '그레이스', 9749: '성당', 9750: '바티칸', 9751: '동작', 9752: 'ㅠㅠ진짜', 9753: '혼돈', 9754: '에단호크', 9755: '봐온', 9756: '...;;;', 9757: '진지희', 9758: '가정부', 9759: '이태리', 9760: '미치광이', 9761: '지로', 9762: '갔다온', 9763: '심리전', 9764: '발표', 9765: '상호', 9766: '다아', 9767: '츠마부키', 9768: '부질없', 9769: '매진', 9770: '안면', 9771: '흥하', 9772: '!~~', 9773: '래서', 9774: '혁신', 9775: '할껄', 9776: '트럭', 9777: '나눠서', 9778: '치장', 9779: '이덕화', 9780: '다웠', 9781: '주르륵', 9782: '강해', 9783: '대런', 9784: '사단', 9785: '피터잭슨', 9786: '막혀서', 9787: '공드리', 9788: '서편제', 9789: '91', 9790: '콜린스', 9791: '한다면서', 9792: 'know', 9793: '맴돈', 9794: '취소', 9795: '편한', 9796: '디게', 9797: '따라다니', 9798: '피자', 9799: '톡', 9800: '을라고', 9801: '약해서', 9802: '56', 9803: '스타쉽', 9804: '립', 9805: '비치', 9806: '바람난', 9807: '왔음', 9808: '>_', 9809: '처한', 9810: '렵니다', 9811: '세워', 9812: '괜춘', 9813: '신디', 9814: '들으면서', 9815: '점령', 9816: '연작', 9817: '경음', 9818: '이세상', 9819: '보드', 9820: '박철민', 9821: '자장가', 9822: '공권력', 9823: ';;;;;;;', 9824: '였으며', 9825: '시저', 9826: '올드만', 9827: '속물', 9828: '웨스', 9829: '통통', 9830: '똘똘', 9831: '술집', 9832: '꿀리', 9833: '농장', 9834: '팽', 9835: '은대', 9836: '갑작스럽', 9837: 'ㅑ', 9838: '이해도', 9839: 'world', 9840: '태권도', 9841: '신났', 9842: '57', 9843: '까이', 9844: '물리치', 9845: '초특급', 9846: '조로리', 9847: '외침', 9848: '정해진', 9849: '열중', 9850: '적용', 9851: '좌충우돌', 9852: '어짜피', 9853: '훤히', 9854: '데미', 9855: '당한다', 9856: '장이', 9857: '웟다', 9858: '트립', 9859: '쿄코', 9860: '소울', 9861: '글씨', 9862: '데로', 9863: '정체불명', 9864: '미어지', 9865: '용인', 9866: '만일', 9867: '어선', 9868: '지체', 9869: '커리어', 9870: 'TOP', 9871: 'IMDB', 9872: '플래툰', 9873: '발버둥', 9874: '흐릿', 9875: '넘어갔', 9876: '냉전', 9877: '고흐', 9878: '속상하', 9879: '첫날', 9880: '퇴마', 9881: '여요', 9882: '체가', 9883: '정색', 9884: '막연', 9885: '41', 9886: '날로', 9887: '여타', 9888: '흐흐', 9889: '마츠코', 9890: '짜린', 9891: '부감', 9892: '오래도록', 9893: '야이', 9894: '끔직', 9895: '프레임', 9896: '창의력', 9897: '설원', 9898: '칭하', 9899: '가려진', 9900: '꿀꿀', 9901: '학도', 9902: '국정원', 9903: '스틸러', 9904: '180', 9905: '콩콩', 9906: '내고', 9907: '소나기', 9908: '드러낸', 9909: 'cm', 9910: '이래저래', 9911: '인질극', 9912: '평행', 9913: '줄라', 9914: '라구요', 9915: '아파하', 9916: '헌데', 9917: '단절', 9918: '질까', 9919: '주다', 9920: '실버', 9921: '런던', 9922: '설레였', 9923: '된다니', 9924: '^^^', 9925: '차량', 9926: '미혼모', 9927: '비긴즈', 9928: '휴식', 9929: '야망', 9930: '께요', 9931: '육성', 9932: '모임', 9933: '라고요', 9934: '가혹', 9935: '실베스타', 9936: '마우스', 9937: '리치', 9938: '일수록', 9939: '오호', 9940: '이다해', 9941: '구타', 9942: '블레어', 9943: '110', 9944: '미라', 9945: '미쳐서', 9946: '수레', 9947: '덥', 9948: '랭보', 9949: '토나', 9950: '메카', 9951: '베이커', 9952: '부제', 9953: '할린', 9954: '누적', 9955: '사위', 9956: '♡♡♡♡', 9957: '준영', 9958: '조음', 9959: '86', 9960: '모이', 9961: '복수초', 9962: '물음표', 9963: '판정', 9964: 'out', 9965: '따라갈', 9966: '뻥튀기', 9967: '이영환', 9968: '골고루', 9969: '피닉스', 9970: '패배', 9971: '첨가', 9972: '꼬인', 9973: '정겹', 9974: '_-', 9975: '못난', 9976: '...^^', 9977: '쭈쭈', 9978: '드러난다', 9979: '블로그', 9980: '냉무', 9981: '내년', 9982: '합친', 9983: '적벽', 9984: '여잔', 9985: '수퍼맨', 9986: '위인', 9987: '까놓', 9988: '다뤘', 9989: '줄리', 9990: '해체', 9991: '밀어주', 9992: '늘어나', 9993: '축축', 9994: '근원', 9995: '각시탈', 9996: '징그러운', 9997: '장가휘', 9998: '실로', 9999: 'see', 0: '<PAD>', 1: '<BOS>', 2: '<UNK>'}\n"
     ]
    }
   ],
   "source": [
    "index_to_word = {index:word for word, index in word_to_index.items()}\n",
    "\n",
    "print(index_to_word)   \n"
   ]
  },
  {
   "cell_type": "markdown",
   "id": "5ef89780",
   "metadata": {},
   "source": [
    "#### 토크나이저 함수를 통해 리뷰 글을 전처리하고 단어로 분리해서 사전을 만든다. \n",
    "#### word_to_index 단어:숫자 , index_to_word  숫자 : 단어 "
   ]
  },
  {
   "cell_type": "markdown",
   "id": "ff00bb3e",
   "metadata": {},
   "source": [
    "### 4. 패딩에 적절한 길이 찾기"
   ]
  },
  {
   "cell_type": "code",
   "execution_count": 6,
   "id": "066ac8ee",
   "metadata": {},
   "outputs": [
    {
     "data": {
      "image/png": "[encoded data removed]",
      "text/plain": [
       "<Figure size 432x288 with 1 Axes>"
      ]
     },
     "metadata": {
      "needs_background": "light"
     },
     "output_type": "display_data"
    },
    {
     "name": "stdout",
     "output_type": "stream",
     "text": [
      "평균 :  14.882230378982179\n",
      "표준편차 :  12.112488620375657\n",
      "최대길이  115\n"
     ]
    }
   ],
   "source": [
    "import matplotlib.pyplot as plt\n",
    "all_document = X_train + X_test\n",
    "words_len=[]\n",
    "for i in all_document :\n",
    "    words_len.append([len(i)])\n",
    "\n",
    "words_len= np.array(words_len)\n",
    "\n",
    "plt.hist(words_len, bins=70, label='words_len')\n",
    "plt.xlabel('words_len')\n",
    "plt.show()\n",
    "\n",
    "print(\"평균 : \", words_len.mean())\n",
    "print(\"표준편차 : \",words_len.std())\n",
    "print(\"최대길이 \", words_len.max())\n"
   ]
  },
  {
   "cell_type": "markdown",
   "id": "6c87c60e",
   "metadata": {},
   "source": [
    "#### 평균과 최대길이가 차이도 크지만 표본이 앞쪽에 몰려있어서 한 35정도를 maxlen을 잡았다."
   ]
  },
  {
   "cell_type": "code",
   "execution_count": 8,
   "id": "b783b2a6",
   "metadata": {},
   "outputs": [
    {
     "name": "stdout",
     "output_type": "stream",
     "text": [
      "(146182, 35)\n"
     ]
    }
   ],
   "source": [
    "import tensorflow as tf\n",
    "\n",
    "X_train = tf.keras.preprocessing.sequence.pad_sequences(X_train,\n",
    "                                                        value=word_to_index[\"<PAD>\"],\n",
    "                                                        padding='post', \n",
    "                                                        maxlen=35)\n",
    "\n",
    "X_test = tf.keras.preprocessing.sequence.pad_sequences(X_test,\n",
    "                                                       value=word_to_index[\"<PAD>\"],\n",
    "                                                       padding='post', \n",
    "                                                       maxlen=35)\n",
    "\n",
    "print(X_train.shape)"
   ]
  },
  {
   "cell_type": "markdown",
   "id": "94b4f382",
   "metadata": {},
   "source": [
    "# 5.모델만들기\n",
    "- lms에 나온 3가지 RNN CNN GlobalMaxPooling1D() 레이어 하나만 사용하는 방법 "
   ]
  },
  {
   "cell_type": "markdown",
   "id": "2023a046",
   "metadata": {},
   "source": [
    "5.1 RNN"
   ]
  },
  {
   "cell_type": "code",
   "execution_count": 9,
   "id": "09be1fc5",
   "metadata": {},
   "outputs": [
    {
     "name": "stdout",
     "output_type": "stream",
     "text": [
      "Model: \"sequential\"\n",
      "_________________________________________________________________\n",
      "Layer (type)                 Output Shape              Param #   \n",
      "=================================================================\n",
      "embedding (Embedding)        (None, None, 32)          320000    \n",
      "_________________________________________________________________\n",
      "lstm (LSTM)                  (None, 16)                3136      \n",
      "_________________________________________________________________\n",
      "dense (Dense)                (None, 16)                272       \n",
      "_________________________________________________________________\n",
      "dense_1 (Dense)              (None, 8)                 136       \n",
      "_________________________________________________________________\n",
      "dense_2 (Dense)              (None, 1)                 9         \n",
      "=================================================================\n",
      "Total params: 323,553\n",
      "Trainable params: 323,553\n",
      "Non-trainable params: 0\n",
      "_________________________________________________________________\n"
     ]
    }
   ],
   "source": [
    "\n",
    "vocab_size = 10000\n",
    "word_vector_dim = 32\n",
    "\n",
    "rnn_model = tf.keras.Sequential()\n",
    "rnn_model.add(tf.keras.layers.Embedding(vocab_size,word_vector_dim , input_shape=(None,)))\n",
    "rnn_model.add(tf.keras.layers.LSTM(16))\n",
    "rnn_model.add(tf.keras.layers.Dense(16, activation='relu'))\n",
    "rnn_model.add(tf.keras.layers.Dense(8, activation='relu'))\n",
    "rnn_model.add(tf.keras.layers.Dense(1, activation='sigmoid'))  # 최종 출력은 긍정/부정을 나타내는 1dim 입니다.\n",
    "\n",
    "rnn_model.summary()"
   ]
  },
  {
   "cell_type": "markdown",
   "id": "a0ea4c7f",
   "metadata": {},
   "source": [
    "5.2 CNN"
   ]
  },
  {
   "cell_type": "code",
   "execution_count": 10,
   "id": "f77c8d06",
   "metadata": {},
   "outputs": [
    {
     "name": "stdout",
     "output_type": "stream",
     "text": [
      "Model: \"sequential_1\"\n",
      "_________________________________________________________________\n",
      "Layer (type)                 Output Shape              Param #   \n",
      "=================================================================\n",
      "embedding_1 (Embedding)      (None, None, 32)          320000    \n",
      "_________________________________________________________________\n",
      "conv1d (Conv1D)              (None, None, 32)          3104      \n",
      "_________________________________________________________________\n",
      "max_pooling1d (MaxPooling1D) (None, None, 32)          0         \n",
      "_________________________________________________________________\n",
      "conv1d_1 (Conv1D)            (None, None, 32)          3104      \n",
      "_________________________________________________________________\n",
      "global_max_pooling1d (Global (None, 32)                0         \n",
      "_________________________________________________________________\n",
      "dense_3 (Dense)              (None, 16)                528       \n",
      "_________________________________________________________________\n",
      "dense_4 (Dense)              (None, 1)                 17        \n",
      "=================================================================\n",
      "Total params: 326,753\n",
      "Trainable params: 326,753\n",
      "Non-trainable params: 0\n",
      "_________________________________________________________________\n"
     ]
    }
   ],
   "source": [
    "\n",
    "cnn_model = tf.keras.Sequential()\n",
    "cnn_model.add(tf.keras.layers.Embedding(vocab_size, word_vector_dim, input_shape=(None,)))\n",
    "cnn_model.add(tf.keras.layers.Conv1D(32, 3, activation='relu'))\n",
    "cnn_model.add(tf.keras.layers.MaxPooling1D(5))\n",
    "cnn_model.add(tf.keras.layers.Conv1D(32, 3, activation='relu'))\n",
    "cnn_model.add(tf.keras.layers.GlobalMaxPooling1D())\n",
    "cnn_model.add(tf.keras.layers.Dense(16, activation='relu'))\n",
    "cnn_model.add(tf.keras.layers.Dense(1, activation='sigmoid'))\n",
    "\n",
    "cnn_model.summary()"
   ]
  },
  {
   "cell_type": "markdown",
   "id": "d8329141",
   "metadata": {},
   "source": [
    "5.3 1_GM"
   ]
  },
  {
   "cell_type": "code",
   "execution_count": 11,
   "id": "647ab50f",
   "metadata": {},
   "outputs": [
    {
     "name": "stdout",
     "output_type": "stream",
     "text": [
      "Model: \"sequential_2\"\n",
      "_________________________________________________________________\n",
      "Layer (type)                 Output Shape              Param #   \n",
      "=================================================================\n",
      "embedding_2 (Embedding)      (None, None, 32)          320000    \n",
      "_________________________________________________________________\n",
      "global_max_pooling1d_1 (Glob (None, 32)                0         \n",
      "_________________________________________________________________\n",
      "dense_5 (Dense)              (None, 8)                 264       \n",
      "_________________________________________________________________\n",
      "dense_6 (Dense)              (None, 1)                 9         \n",
      "=================================================================\n",
      "Total params: 320,273\n",
      "Trainable params: 320,273\n",
      "Non-trainable params: 0\n",
      "_________________________________________________________________\n"
     ]
    }
   ],
   "source": [
    "gm_model = tf.keras.Sequential()\n",
    "gm_model.add(tf.keras.layers.Embedding(vocab_size, word_vector_dim, input_shape=(None,)))\n",
    "gm_model.add(tf.keras.layers.GlobalMaxPooling1D())\n",
    "gm_model.add(tf.keras.layers.Dense(8, activation='relu'))\n",
    "gm_model.add(tf.keras.layers.Dense(1, activation='sigmoid'))  # 최종 출력은 긍정/부정을 나타내는 1dim 입니다.\n",
    "\n",
    "gm_model.summary()"
   ]
  },
  {
   "cell_type": "markdown",
   "id": "c7848729",
   "metadata": {},
   "source": [
    "# 6. 모델 학습 및  평가"
   ]
  },
  {
   "cell_type": "code",
   "execution_count": 27,
   "id": "5c79fbda",
   "metadata": {},
   "outputs": [],
   "source": [
    "#모델 컴파일\n",
    "rnn_model.compile(optimizer='adam',loss='binary_crossentropy', metrics=['accuracy'])\n",
    "cnn_model.compile(optimizer='adam',loss='binary_crossentropy',metrics=['accuracy'])\n",
    "gm_model.compile(optimizer='adam',loss='binary_crossentropy',metrics=['accuracy'])"
   ]
  },
  {
   "cell_type": "code",
   "execution_count": 28,
   "id": "eb1a2697",
   "metadata": {},
   "outputs": [
    {
     "name": "stdout",
     "output_type": "stream",
     "text": [
      "Epoch 1/20\n",
      "215/215 [==============================] - 3s 8ms/step - loss: 0.2838 - accuracy: 0.8795 - val_loss: 0.3646 - val_accuracy: 0.8457\n",
      "Epoch 2/20\n",
      "215/215 [==============================] - 1s 6ms/step - loss: 0.2679 - accuracy: 0.8848 - val_loss: 0.3704 - val_accuracy: 0.8470\n",
      "Epoch 3/20\n",
      "215/215 [==============================] - 1s 6ms/step - loss: 0.2571 - accuracy: 0.8881 - val_loss: 0.3773 - val_accuracy: 0.8465\n",
      "Epoch 4/20\n",
      "215/215 [==============================] - 1s 6ms/step - loss: 0.2440 - accuracy: 0.8944 - val_loss: 0.3906 - val_accuracy: 0.8450\n",
      "Epoch 5/20\n",
      "215/215 [==============================] - 1s 6ms/step - loss: 0.2315 - accuracy: 0.8993 - val_loss: 0.4079 - val_accuracy: 0.8441\n",
      "Epoch 6/20\n",
      "215/215 [==============================] - 1s 6ms/step - loss: 0.2202 - accuracy: 0.9057 - val_loss: 0.3975 - val_accuracy: 0.8444\n",
      "Epoch 7/20\n",
      "215/215 [==============================] - 1s 6ms/step - loss: 0.2095 - accuracy: 0.9119 - val_loss: 0.4304 - val_accuracy: 0.8444\n",
      "Epoch 8/20\n",
      "215/215 [==============================] - 1s 6ms/step - loss: 0.1984 - accuracy: 0.9177 - val_loss: 0.4303 - val_accuracy: 0.8445\n",
      "Epoch 9/20\n",
      "215/215 [==============================] - 1s 6ms/step - loss: 0.1887 - accuracy: 0.9229 - val_loss: 0.4911 - val_accuracy: 0.8449\n",
      "Epoch 10/20\n",
      "215/215 [==============================] - 1s 6ms/step - loss: 0.1809 - accuracy: 0.9265 - val_loss: 0.4723 - val_accuracy: 0.8397\n",
      "Epoch 11/20\n",
      "215/215 [==============================] - 1s 6ms/step - loss: 0.1725 - accuracy: 0.9303 - val_loss: 0.4905 - val_accuracy: 0.8418\n",
      "Epoch 12/20\n",
      "215/215 [==============================] - 1s 6ms/step - loss: 0.1652 - accuracy: 0.9342 - val_loss: 0.5412 - val_accuracy: 0.8391\n",
      "Epoch 13/20\n",
      "215/215 [==============================] - 1s 6ms/step - loss: 0.1587 - accuracy: 0.9373 - val_loss: 0.4929 - val_accuracy: 0.8368\n",
      "Epoch 14/20\n",
      "215/215 [==============================] - 1s 6ms/step - loss: 0.1543 - accuracy: 0.9391 - val_loss: 0.5398 - val_accuracy: 0.8388\n",
      "Epoch 15/20\n",
      "215/215 [==============================] - 1s 6ms/step - loss: 0.1471 - accuracy: 0.9421 - val_loss: 0.5399 - val_accuracy: 0.8360\n",
      "Epoch 16/20\n",
      "215/215 [==============================] - 1s 6ms/step - loss: 0.1442 - accuracy: 0.9433 - val_loss: 0.5781 - val_accuracy: 0.8378\n",
      "Epoch 17/20\n",
      "215/215 [==============================] - 1s 6ms/step - loss: 0.1371 - accuracy: 0.9471 - val_loss: 0.6072 - val_accuracy: 0.8385\n",
      "Epoch 18/20\n",
      "215/215 [==============================] - 1s 6ms/step - loss: 0.1321 - accuracy: 0.9487 - val_loss: 0.5884 - val_accuracy: 0.8350\n",
      "Epoch 19/20\n",
      "215/215 [==============================] - 1s 6ms/step - loss: 0.1289 - accuracy: 0.9501 - val_loss: 0.6429 - val_accuracy: 0.8372\n",
      "Epoch 20/20\n",
      "215/215 [==============================] - 1s 6ms/step - loss: 0.1255 - accuracy: 0.9514 - val_loss: 0.6069 - val_accuracy: 0.8335\n"
     ]
    }
   ],
   "source": [
    "rnn_history = rnn_model.fit(X_train, y_train, epochs=20, batch_size=512, validation_split=0.25, verbose=1)"
   ]
  },
  {
   "cell_type": "code",
   "execution_count": 29,
   "id": "c4725bc9",
   "metadata": {},
   "outputs": [
    {
     "name": "stdout",
     "output_type": "stream",
     "text": [
      "Epoch 1/20\n",
      "215/215 [==============================] - 3s 6ms/step - loss: 0.4638 - accuracy: 0.7832 - val_loss: 0.3573 - val_accuracy: 0.8430\n",
      "Epoch 2/20\n",
      "215/215 [==============================] - 1s 5ms/step - loss: 0.3194 - accuracy: 0.8654 - val_loss: 0.3450 - val_accuracy: 0.8502\n",
      "Epoch 3/20\n",
      "215/215 [==============================] - 1s 5ms/step - loss: 0.2776 - accuracy: 0.8855 - val_loss: 0.3451 - val_accuracy: 0.8534\n",
      "Epoch 4/20\n",
      "215/215 [==============================] - 1s 5ms/step - loss: 0.2352 - accuracy: 0.9073 - val_loss: 0.3751 - val_accuracy: 0.8475\n",
      "Epoch 5/20\n",
      "215/215 [==============================] - 1s 5ms/step - loss: 0.1909 - accuracy: 0.9283 - val_loss: 0.4004 - val_accuracy: 0.8451\n",
      "Epoch 6/20\n",
      "215/215 [==============================] - 1s 5ms/step - loss: 0.1447 - accuracy: 0.9491 - val_loss: 0.4574 - val_accuracy: 0.8357\n",
      "Epoch 7/20\n",
      "215/215 [==============================] - 1s 5ms/step - loss: 0.1092 - accuracy: 0.9640 - val_loss: 0.5011 - val_accuracy: 0.8354\n",
      "Epoch 8/20\n",
      "215/215 [==============================] - 1s 5ms/step - loss: 0.0818 - accuracy: 0.9743 - val_loss: 0.5731 - val_accuracy: 0.8328\n",
      "Epoch 9/20\n",
      "215/215 [==============================] - 1s 5ms/step - loss: 0.0621 - accuracy: 0.9816 - val_loss: 0.6346 - val_accuracy: 0.8278\n",
      "Epoch 10/20\n",
      "215/215 [==============================] - 1s 5ms/step - loss: 0.0500 - accuracy: 0.9856 - val_loss: 0.6897 - val_accuracy: 0.8268\n",
      "Epoch 11/20\n",
      "215/215 [==============================] - 1s 5ms/step - loss: 0.0405 - accuracy: 0.9882 - val_loss: 0.7424 - val_accuracy: 0.8257\n",
      "Epoch 12/20\n",
      "215/215 [==============================] - 1s 5ms/step - loss: 0.0361 - accuracy: 0.9892 - val_loss: 0.8172 - val_accuracy: 0.8205\n",
      "Epoch 13/20\n",
      "215/215 [==============================] - 1s 5ms/step - loss: 0.0299 - accuracy: 0.9913 - val_loss: 0.8743 - val_accuracy: 0.8239\n",
      "Epoch 14/20\n",
      "215/215 [==============================] - 1s 5ms/step - loss: 0.0266 - accuracy: 0.9918 - val_loss: 0.9125 - val_accuracy: 0.8235\n",
      "Epoch 15/20\n",
      "215/215 [==============================] - 1s 5ms/step - loss: 0.0233 - accuracy: 0.9930 - val_loss: 0.9720 - val_accuracy: 0.8210\n",
      "Epoch 16/20\n",
      "215/215 [==============================] - 1s 5ms/step - loss: 0.0204 - accuracy: 0.9939 - val_loss: 1.0199 - val_accuracy: 0.8209\n",
      "Epoch 17/20\n",
      "215/215 [==============================] - 1s 5ms/step - loss: 0.0196 - accuracy: 0.9938 - val_loss: 1.0742 - val_accuracy: 0.8181\n",
      "Epoch 18/20\n",
      "215/215 [==============================] - 1s 5ms/step - loss: 0.0207 - accuracy: 0.9927 - val_loss: 1.1230 - val_accuracy: 0.8162\n",
      "Epoch 19/20\n",
      "215/215 [==============================] - 1s 5ms/step - loss: 0.0243 - accuracy: 0.9914 - val_loss: 1.1415 - val_accuracy: 0.8144\n",
      "Epoch 20/20\n",
      "215/215 [==============================] - 1s 5ms/step - loss: 0.0264 - accuracy: 0.9904 - val_loss: 1.1226 - val_accuracy: 0.8150\n"
     ]
    }
   ],
   "source": [
    "cnn_history = cnn_model.fit(X_train, y_train, epochs=20, batch_size=512, validation_split=0.25, verbose=1)"
   ]
  },
  {
   "cell_type": "code",
   "execution_count": 30,
   "id": "514074ff",
   "metadata": {},
   "outputs": [
    {
     "name": "stdout",
     "output_type": "stream",
     "text": [
      "Epoch 1/20\n",
      "215/215 [==============================] - 1s 4ms/step - loss: 0.5716 - accuracy: 0.7594 - val_loss: 0.4155 - val_accuracy: 0.8256\n",
      "Epoch 2/20\n",
      "215/215 [==============================] - 1s 4ms/step - loss: 0.3604 - accuracy: 0.8466 - val_loss: 0.3581 - val_accuracy: 0.8435\n",
      "Epoch 3/20\n",
      "215/215 [==============================] - 1s 4ms/step - loss: 0.3100 - accuracy: 0.8693 - val_loss: 0.3494 - val_accuracy: 0.8481\n",
      "Epoch 4/20\n",
      "215/215 [==============================] - 1s 4ms/step - loss: 0.2802 - accuracy: 0.8841 - val_loss: 0.3495 - val_accuracy: 0.8499\n",
      "Epoch 5/20\n",
      "215/215 [==============================] - 1s 4ms/step - loss: 0.2564 - accuracy: 0.8962 - val_loss: 0.3557 - val_accuracy: 0.8497\n",
      "Epoch 6/20\n",
      "215/215 [==============================] - 1s 4ms/step - loss: 0.2357 - accuracy: 0.9064 - val_loss: 0.3650 - val_accuracy: 0.8487\n",
      "Epoch 7/20\n",
      "215/215 [==============================] - 1s 4ms/step - loss: 0.2169 - accuracy: 0.9152 - val_loss: 0.3776 - val_accuracy: 0.8472\n",
      "Epoch 8/20\n",
      "215/215 [==============================] - 1s 3ms/step - loss: 0.1993 - accuracy: 0.9238 - val_loss: 0.3920 - val_accuracy: 0.8459\n",
      "Epoch 9/20\n",
      "215/215 [==============================] - 1s 4ms/step - loss: 0.1829 - accuracy: 0.9323 - val_loss: 0.4083 - val_accuracy: 0.8435\n",
      "Epoch 10/20\n",
      "215/215 [==============================] - 1s 4ms/step - loss: 0.1675 - accuracy: 0.9389 - val_loss: 0.4283 - val_accuracy: 0.8418\n",
      "Epoch 11/20\n",
      "215/215 [==============================] - 1s 3ms/step - loss: 0.1532 - accuracy: 0.9451 - val_loss: 0.4491 - val_accuracy: 0.8392\n",
      "Epoch 12/20\n",
      "215/215 [==============================] - 1s 4ms/step - loss: 0.1396 - accuracy: 0.9515 - val_loss: 0.4725 - val_accuracy: 0.8368\n",
      "Epoch 13/20\n",
      "215/215 [==============================] - 1s 3ms/step - loss: 0.1277 - accuracy: 0.9570 - val_loss: 0.4955 - val_accuracy: 0.8380\n",
      "Epoch 14/20\n",
      "215/215 [==============================] - 1s 4ms/step - loss: 0.1167 - accuracy: 0.9615 - val_loss: 0.5223 - val_accuracy: 0.8344\n",
      "Epoch 15/20\n",
      "215/215 [==============================] - 1s 3ms/step - loss: 0.1068 - accuracy: 0.9652 - val_loss: 0.5432 - val_accuracy: 0.8324\n",
      "Epoch 16/20\n",
      "215/215 [==============================] - 1s 4ms/step - loss: 0.0980 - accuracy: 0.9685 - val_loss: 0.5709 - val_accuracy: 0.8306\n",
      "Epoch 17/20\n",
      "215/215 [==============================] - 1s 4ms/step - loss: 0.0898 - accuracy: 0.9719 - val_loss: 0.5976 - val_accuracy: 0.8301\n",
      "Epoch 18/20\n",
      "215/215 [==============================] - 1s 4ms/step - loss: 0.0824 - accuracy: 0.9748 - val_loss: 0.6230 - val_accuracy: 0.8267\n",
      "Epoch 19/20\n",
      "215/215 [==============================] - 1s 4ms/step - loss: 0.0756 - accuracy: 0.9770 - val_loss: 0.6501 - val_accuracy: 0.8268\n",
      "Epoch 20/20\n",
      "215/215 [==============================] - 1s 3ms/step - loss: 0.0699 - accuracy: 0.9796 - val_loss: 0.6763 - val_accuracy: 0.8269\n"
     ]
    }
   ],
   "source": [
    "gm_history = gm_model.fit(X_train, y_train, epochs=20, batch_size=512, validation_split=0.25, verbose=1)"
   ]
  },
  {
   "cell_type": "code",
   "execution_count": 31,
   "id": "b5d77aef",
   "metadata": {},
   "outputs": [
    {
     "data": {
      "image/png": "[encoded data removed]",
      "text/plain": [
       "<Figure size 576x288 with 2 Axes>"
      ]
     },
     "metadata": {
      "needs_background": "light"
     },
     "output_type": "display_data"
    }
   ],
   "source": [
    "history_dict = rnn_history.history\n",
    "acc = history_dict['accuracy']\n",
    "val_acc = history_dict['val_accuracy']\n",
    "loss = history_dict['loss']\n",
    "val_loss = history_dict['val_loss']\n",
    "\n",
    "epochs = range(1, len(acc) + 1)\n",
    "\n",
    "plt.figure(figsize=(8, 4))\n",
    "plt.subplot(1, 2, 1)\n",
    "plt.plot(epochs, acc, label='Accuracy')\n",
    "plt.plot(epochs, val_acc, 'red', label='Val_Accuracy')\n",
    "plt.legend(loc='lower right')\n",
    "plt.title('Accuracy')\n",
    "plt.xlabel('Epochs')\n",
    "plt.ylabel('Accuracy')\n",
    "\n",
    "plt.subplot(1, 2, 2)\n",
    "plt.plot(epochs, loss, label='Loss')\n",
    "plt.plot(epochs, val_loss, 'red', label='Val_Loss')\n",
    "plt.legend(loc='upper right')\n",
    "plt.title('Loss')\n",
    "plt.xlabel('Epochs')\n",
    "plt.ylabel('Loss')\n",
    "plt.show()\n"
   ]
  },
  {
   "cell_type": "code",
   "execution_count": 32,
   "id": "2c8dc18c",
   "metadata": {},
   "outputs": [
    {
     "data": {
      "image/png": "[encoded data removed]",
      "text/plain": [
       "<Figure size 576x288 with 2 Axes>"
      ]
     },
     "metadata": {
      "needs_background": "light"
     },
     "output_type": "display_data"
    }
   ],
   "source": [
    "history_dict = cnn_history.history\n",
    "acc = history_dict['accuracy']\n",
    "val_acc = history_dict['val_accuracy']\n",
    "loss = history_dict['loss']\n",
    "val_loss = history_dict['val_loss']\n",
    "\n",
    "epochs = range(1, len(acc) + 1)\n",
    "\n",
    "plt.figure(figsize=(8, 4))\n",
    "plt.subplot(1, 2, 1)\n",
    "plt.plot(epochs, acc, label='Accuracy')\n",
    "plt.plot(epochs, val_acc, 'red', label='Val_Accuracy')\n",
    "plt.legend(loc='lower right')\n",
    "plt.title('Accuracy')\n",
    "plt.xlabel('Epochs')\n",
    "plt.ylabel('Accuracy')\n",
    "\n",
    "plt.subplot(1, 2, 2)\n",
    "plt.plot(epochs, loss, label='Loss')\n",
    "plt.plot(epochs, val_loss, 'red', label='Val_Loss')\n",
    "plt.legend(loc='upper right')\n",
    "plt.title('Loss')\n",
    "plt.xlabel('Epochs')\n",
    "plt.ylabel('Loss')\n",
    "plt.show()"
   ]
  },
  {
   "cell_type": "code",
   "execution_count": 33,
   "id": "0023eb94",
   "metadata": {},
   "outputs": [
    {
     "data": {
      "image/png": "[encoded data removed]",
      "text/plain": [
       "<Figure size 576x288 with 2 Axes>"
      ]
     },
     "metadata": {
      "needs_background": "light"
     },
     "output_type": "display_data"
    }
   ],
   "source": [
    "history_dict = gm_history.history\n",
    "acc = history_dict['accuracy']\n",
    "val_acc = history_dict['val_accuracy']\n",
    "loss = history_dict['loss']\n",
    "val_loss = history_dict['val_loss']\n",
    "\n",
    "epochs = range(1, len(acc) + 1)\n",
    "\n",
    "plt.figure(figsize=(8, 4))\n",
    "plt.subplot(1, 2, 1)\n",
    "plt.plot(epochs, acc, label='Accuracy')\n",
    "plt.plot(epochs, val_acc, 'red', label='Val_Accuracy')\n",
    "plt.legend(loc='lower right')\n",
    "plt.title('Accuracy')\n",
    "plt.xlabel('Epochs')\n",
    "plt.ylabel('Accuracy')\n",
    "\n",
    "plt.subplot(1, 2, 2)\n",
    "plt.plot(epochs, loss, label='Loss')\n",
    "plt.plot(epochs, val_loss, 'red', label='Val_Loss')\n",
    "plt.legend(loc='upper right')\n",
    "plt.title('Loss')\n",
    "plt.xlabel('Epochs')\n",
    "plt.ylabel('Loss')\n",
    "plt.show()"
   ]
  },
  {
   "cell_type": "markdown",
   "id": "78853c74",
   "metadata": {},
   "source": [
    "# RNN, CNN , 1-GB 모델의 확인결과\n",
    "## - epochs는 3 모델들의 epochs는 '5'가 적당해 보인다 5부터는 val loss가 커져버린다. (과적합)\n",
    "## - val accuracy가 정확한건 RNN이고 loss도 5보다 작다. RNN이 가장 적합해보인다."
   ]
  },
  {
   "cell_type": "markdown",
   "id": "c63dc1ad",
   "metadata": {},
   "source": [
    "# 7. 학습된 Embedding 레이어 분석\n",
    "### 7.1 학습 결과가 좋았던 RNN의 Embedding layer를 확인"
   ]
  },
  {
   "cell_type": "code",
   "execution_count": 24,
   "id": "b08315cd",
   "metadata": {},
   "outputs": [
    {
     "name": "stdout",
     "output_type": "stream",
     "text": [
      "(10000, 32)\n"
     ]
    }
   ],
   "source": [
    "rnn_embedding_layer = rnn_model.layers[0]\n",
    "rnn_weights = rnn_embedding_layer.get_weights()[0]\n",
    "\n",
    "# shape: (vocab_size, embedding_dim)\n",
    "print(rnn_weights.shape)    \n"
   ]
  },
  {
   "cell_type": "code",
   "execution_count": 34,
   "id": "fb849640",
   "metadata": {},
   "outputs": [
    {
     "name": "stdout",
     "output_type": "stream",
     "text": [
      "(10000, 32)\n"
     ]
    },
    {
     "ename": "NameError",
     "evalue": "name 'rnn_weights' is not defined",
     "output_type": "error",
     "traceback": [
      "\u001b[0;31m---------------------------------------------------------------------------\u001b[0m",
      "\u001b[0;31mNameError\u001b[0m                                 Traceback (most recent call last)",
      "\u001b[0;32m/tmp/ipykernel_4184/4262687500.py\u001b[0m in \u001b[0;36m<module>\u001b[0;34m\u001b[0m\n\u001b[1;32m      7\u001b[0m \u001b[0mweights\u001b[0m \u001b[0;34m=\u001b[0m \u001b[0membedding_layer\u001b[0m\u001b[0;34m.\u001b[0m\u001b[0mget_weights\u001b[0m\u001b[0;34m(\u001b[0m\u001b[0;34m)\u001b[0m\u001b[0;34m[\u001b[0m\u001b[0;36m0\u001b[0m\u001b[0;34m]\u001b[0m\u001b[0;34m\u001b[0m\u001b[0;34m\u001b[0m\u001b[0m\n\u001b[1;32m      8\u001b[0m \u001b[0mprint\u001b[0m\u001b[0;34m(\u001b[0m\u001b[0mweights\u001b[0m\u001b[0;34m.\u001b[0m\u001b[0mshape\u001b[0m\u001b[0;34m)\u001b[0m\u001b[0;34m\u001b[0m\u001b[0;34m\u001b[0m\u001b[0m\n\u001b[0;32m----> 9\u001b[0;31m \u001b[0mvocab_size\u001b[0m \u001b[0;34m=\u001b[0m \u001b[0mrnn_weights\u001b[0m\u001b[0;34m.\u001b[0m\u001b[0mshape\u001b[0m\u001b[0;34m[\u001b[0m\u001b[0;36m0\u001b[0m\u001b[0;34m]\u001b[0m\u001b[0;34m\u001b[0m\u001b[0;34m\u001b[0m\u001b[0m\n\u001b[0m\u001b[1;32m     10\u001b[0m \u001b[0mrnn_word_vector_dim\u001b[0m \u001b[0;34m=\u001b[0m \u001b[0mrnn_weights\u001b[0m\u001b[0;34m.\u001b[0m\u001b[0mshape\u001b[0m\u001b[0;34m[\u001b[0m\u001b[0;36m1\u001b[0m\u001b[0;34m]\u001b[0m\u001b[0;34m\u001b[0m\u001b[0;34m\u001b[0m\u001b[0m\n\u001b[1;32m     11\u001b[0m \u001b[0;34m\u001b[0m\u001b[0m\n",
      "\u001b[0;31mNameError\u001b[0m: name 'rnn_weights' is not defined"
     ]
    }
   ],
   "source": [
    "import os\n",
    "import gensim\n",
    "from gensim.models.keyedvectors import Word2VecKeyedVectors\n",
    "from tensorflow.keras.initializers import Constant\n",
    "\n",
    "embedding_layer = rnn_model.layers[0]\n",
    "weights = embedding_layer.get_weights()[0]\n",
    "print(weights.shape)\n",
    "vocab_size = rnn_weights.shape[0]\n",
    "rnn_word_vector_dim = rnn_weights.shape[1]\n",
    "\n",
    "# 학습한 Embedding 파라미터를 파일에 써서 저장합니다. \n",
    "word2vec_file_path = os.getenv('HOME')+'/aiffel/sentiment_classification/data/word2vec.txt'\n",
    "f = open(word2vec_file_path, 'w')\n",
    "f.write('{} {}\\n'.format(vocab_size-4, rnn_word_vector_dim))\n",
    "# 단어 개수(에서 특수문자 4개는 제외하고)만큼의 워드 벡터를 파일에 기록합니다. \n",
    "rnn_vectors = rnn_model.get_weights()[0]\n",
    "print(vocab_size)\n",
    "for i in range(4, vocab_size):\n",
    "    f.write('{} {}\\n'.format(index_to_word[i], ' '.join(map(str, list(rnn_vectors[i, :])))))\n",
    "f.close()"
   ]
  },
  {
   "cell_type": "code",
   "execution_count": 32,
   "id": "09a8ed4e",
   "metadata": {},
   "outputs": [
    {
     "data": {
      "text/plain": [
       "[('귀여움', 0.9536675214767456),\n",
       " ('걸작', 0.9507961273193359),\n",
       " ('일품', 0.9453620314598083),\n",
       " ('최고', 0.9452052712440491),\n",
       " ('전국', 0.943719744682312),\n",
       " ('혹평', 0.9424390196800232),\n",
       " ('완벽', 0.9411464333534241),\n",
       " ('넘어서', 0.9401055574417114),\n",
       " ('풀어낸', 0.9390750527381897),\n",
       " ('봐야', 0.9387200474739075)]"
      ]
     },
     "execution_count": 32,
     "metadata": {},
     "output_type": "execute_result"
    }
   ],
   "source": [
    "word_vectors = Word2VecKeyedVectors.load_word2vec_format(word2vec_file_path, binary=False)\n",
    "\n",
    "word_vectors.similar_by_word(\"사랑\")"
   ]
  },
  {
   "cell_type": "code",
   "execution_count": 33,
   "id": "76c8d0e2",
   "metadata": {},
   "outputs": [
    {
     "data": {
      "text/plain": [
       "[('자본주의', 0.8146066069602966),\n",
       " ('자리', 0.7673434019088745),\n",
       " ('걸까', 0.7553487420082092),\n",
       " ('스크림', 0.7460354566574097),\n",
       " ('쪙', 0.7347292304039001),\n",
       " ('그림', 0.7275503277778625),\n",
       " ('스파이', 0.7254571914672852),\n",
       " ('히', 0.7138295769691467),\n",
       " ('흐', 0.7097193598747253),\n",
       " ('군대', 0.6793245077133179)]"
      ]
     },
     "execution_count": 33,
     "metadata": {},
     "output_type": "execute_result"
    }
   ],
   "source": [
    "word_vectors.similar_by_word(\"폭력\")"
   ]
  },
  {
   "cell_type": "markdown",
   "id": "56d59ea2",
   "metadata": {},
   "source": [
    "- 네이버 리뷰를 통한 얻은 워드 벡터이기 때문에 보편성은 적지만 어느정도 느낌은 가져간것같다.\n",
    "- 폭력과 자본주의가 가장 유사성이 높다는게 재밌었다.\n",
    "-  쪙과 히 흐 오 ㅏ같은 한 단어와 유사성을 가진다는게 마음에 안들었다. 하나의 글자는 토크나이즈할때 제거해주는것이 좋다고도 생각이든다.\n",
    "- 에폭을 20까지 가져서 너무 과적합이 된 느낌도 든다 ->5로해보자\n"
   ]
  },
  {
   "cell_type": "code",
   "execution_count": 12,
   "id": "e796fb0a",
   "metadata": {},
   "outputs": [
    {
     "name": "stdout",
     "output_type": "stream",
     "text": [
      "Epoch 1/5\n",
      "215/215 [==============================] - 5s 8ms/step - loss: 0.5159 - accuracy: 0.7335 - val_loss: 0.3715 - val_accuracy: 0.8376\n",
      "Epoch 2/5\n",
      "215/215 [==============================] - 1s 6ms/step - loss: 0.3401 - accuracy: 0.8559 - val_loss: 0.3532 - val_accuracy: 0.8450\n",
      "Epoch 3/5\n",
      "215/215 [==============================] - 1s 6ms/step - loss: 0.3181 - accuracy: 0.8655 - val_loss: 0.3559 - val_accuracy: 0.8462\n",
      "Epoch 4/5\n",
      "215/215 [==============================] - 1s 6ms/step - loss: 0.3042 - accuracy: 0.8716 - val_loss: 0.3596 - val_accuracy: 0.8444\n",
      "Epoch 5/5\n",
      "215/215 [==============================] - 1s 6ms/step - loss: 0.2932 - accuracy: 0.8763 - val_loss: 0.3598 - val_accuracy: 0.8406\n"
     ]
    },
    {
     "data": {
      "image/png": "[encoded data removed]",
      "text/plain": [
       "<Figure size 576x288 with 2 Axes>"
      ]
     },
     "metadata": {
      "needs_background": "light"
     },
     "output_type": "display_data"
    }
   ],
   "source": [
    "rnn_model = tf.keras.Sequential()\n",
    "rnn_model.add(tf.keras.layers.Embedding(vocab_size,word_vector_dim , input_shape=(None,)))\n",
    "rnn_model.add(tf.keras.layers.LSTM(16))\n",
    "rnn_model.add(tf.keras.layers.Dense(16, activation='relu'))\n",
    "rnn_model.add(tf.keras.layers.Dense(8, activation='relu'))\n",
    "rnn_model.add(tf.keras.layers.Dense(1, activation='sigmoid'))  # 최종 출력은 긍정/부정을 나타내는 1dim 입니다.\n",
    "rnn_model.compile(optimizer='adam',loss='binary_crossentropy', metrics=['accuracy'])\n",
    "rnn_history = rnn_model.fit(X_train, y_train, epochs=5, batch_size=512, validation_split=0.25, verbose=1)\n",
    "\n",
    "history_dict = rnn_history.history\n",
    "acc = history_dict['accuracy']\n",
    "val_acc = history_dict['val_accuracy']\n",
    "loss = history_dict['loss']\n",
    "val_loss = history_dict['val_loss']\n",
    "\n",
    "epochs = range(1, len(acc) + 1)\n",
    "\n",
    "plt.figure(figsize=(8, 4))\n",
    "plt.subplot(1, 2, 1)\n",
    "plt.plot(epochs, acc, label='Accuracy')\n",
    "plt.plot(epochs, val_acc, 'red', label='Val_Accuracy')\n",
    "plt.legend(loc='lower right')\n",
    "plt.title('Accuracy')\n",
    "plt.xlabel('Epochs')\n",
    "plt.ylabel('Accuracy')\n",
    "\n",
    "plt.subplot(1, 2, 2)\n",
    "plt.plot(epochs, loss, label='Loss')\n",
    "plt.plot(epochs, val_loss, 'red', label='Val_Loss')\n",
    "plt.legend(loc='upper right')\n",
    "plt.title('Loss')\n",
    "plt.xlabel('Epochs')\n",
    "plt.ylabel('Loss')\n",
    "plt.show()"
   ]
  },
  {
   "cell_type": "code",
   "execution_count": 37,
   "id": "1b964461",
   "metadata": {},
   "outputs": [
    {
     "name": "stdout",
     "output_type": "stream",
     "text": [
      "(10000, 32)\n",
      "10000\n"
     ]
    }
   ],
   "source": [
    "embedding_layer = rnn_model.layers[0]\n",
    "weights = embedding_layer.get_weights()[0]\n",
    "print(weights.shape)\n",
    "vocab_size = rnn_weights.shape[0]\n",
    "rnn_word_vector_dim = rnn_weights.shape[1]\n",
    "\n",
    "# 학습한 Embedding 파라미터를 파일에 써서 저장합니다. \n",
    "word2vec_file_path = os.getenv('HOME')+'/aiffel/sentiment_classification/data/word2vec.txt'\n",
    "f = open(word2vec_file_path, 'w')\n",
    "f.write('{} {}\\n'.format(vocab_size-4, rnn_word_vector_dim))\n",
    "# 단어 개수(에서 특수문자 4개는 제외하고)만큼의 워드 벡터를 파일에 기록합니다. \n",
    "rnn_vectors = rnn_model.get_weights()[0]\n",
    "print(vocab_size)\n",
    "for i in range(4, vocab_size):\n",
    "    f.write('{} {}\\n'.format(index_to_word[i], ' '.join(map(str, list(rnn_vectors[i, :])))))\n",
    "f.close()"
   ]
  },
  {
   "cell_type": "code",
   "execution_count": 39,
   "id": "336c1a86",
   "metadata": {},
   "outputs": [
    {
     "data": {
      "text/plain": [
       "[('훌륭', 0.911428689956665),\n",
       " ('캡틴', 0.9098734259605408),\n",
       " ('운명', 0.907923698425293),\n",
       " ('들이', 0.9023334980010986),\n",
       " ('틈', 0.901788055896759),\n",
       " ('똘', 0.9007565379142761),\n",
       " ('인게', 0.895138680934906),\n",
       " ('구하', 0.8943634033203125),\n",
       " ('멋지', 0.8943234086036682),\n",
       " ('걸작', 0.8922280669212341)]"
      ]
     },
     "execution_count": 39,
     "metadata": {},
     "output_type": "execute_result"
    }
   ],
   "source": [
    "word_vectors = Word2VecKeyedVectors.load_word2vec_format(word2vec_file_path, binary=False)\n",
    "\n",
    "word_vectors.similar_by_word(\"사랑\")"
   ]
  },
  {
   "cell_type": "code",
   "execution_count": 40,
   "id": "316d66b5",
   "metadata": {},
   "outputs": [
    {
     "data": {
      "text/plain": [
       "[('이름', 0.6591795682907104),\n",
       " ('조폭', 0.6460614204406738),\n",
       " ('면', 0.6352239847183228),\n",
       " ('티비', 0.5996062755584717),\n",
       " ('괸', 0.5867893695831299),\n",
       " ('윌리스', 0.5758711099624634),\n",
       " ('일류', 0.5736408829689026),\n",
       " ('7', 0.5704350471496582),\n",
       " ('차별', 0.5690716505050659),\n",
       " ('어떻게', 0.5681570768356323)]"
      ]
     },
     "execution_count": 40,
     "metadata": {},
     "output_type": "execute_result"
    }
   ],
   "source": [
    "word_vectors.similar_by_word(\"폭력\")"
   ]
  },
  {
   "cell_type": "markdown",
   "id": "97785f43",
   "metadata": {},
   "source": [
    "- 과적합을 줄이니 조금더 나아보인다."
   ]
  },
  {
   "cell_type": "markdown",
   "id": "83784aab",
   "metadata": {},
   "source": [
    "### 7.2 Word2vec embedding layer 확인"
   ]
  },
  {
   "cell_type": "code",
   "execution_count": 45,
   "id": "0dba035a",
   "metadata": {},
   "outputs": [
    {
     "name": "stdout",
     "output_type": "stream",
     "text": [
      "Found existing installation: gensim 4.1.2\n",
      "Uninstalling gensim-4.1.2:\n",
      "  Successfully uninstalled gensim-4.1.2\n",
      "\u001b[33mWARNING: Running pip as the 'root' user can result in broken permissions and conflicting behaviour with the system package manager. It is recommended to use a virtual environment instead: https://pip.pypa.io/warnings/venv\u001b[0m\n",
      "Collecting gensim==3.8.3\n",
      "  Downloading gensim-3.8.3.tar.gz (23.4 MB)\n",
      "     |████████████████████████████████| 23.4 MB 7.2 MB/s            \n",
      "\u001b[?25h  Preparing metadata (setup.py) ... \u001b[?25ldone\n",
      "\u001b[?25hRequirement already satisfied: numpy>=1.11.3 in /opt/conda/lib/python3.9/site-packages (from gensim==3.8.3) (1.21.4)\n",
      "Requirement already satisfied: scipy>=0.18.1 in /opt/conda/lib/python3.9/site-packages (from gensim==3.8.3) (1.7.1)\n",
      "Requirement already satisfied: six>=1.5.0 in /opt/conda/lib/python3.9/site-packages (from gensim==3.8.3) (1.16.0)\n",
      "Requirement already satisfied: smart_open>=1.8.1 in /opt/conda/lib/python3.9/site-packages (from gensim==3.8.3) (5.2.1)\n",
      "Building wheels for collected packages: gensim\n",
      "  Building wheel for gensim (setup.py) ... \u001b[?25ldone\n",
      "\u001b[?25h  Created wheel for gensim: filename=gensim-3.8.3-cp39-cp39-linux_x86_64.whl size=24328218 sha256=adcc8fca3b8f32ac3f7160d39f3ea046fc7d5733116103263080f29dcce22865\n",
      "  Stored in directory: /aiffel/.cache/pip/wheels/ca/5d/af/618594ec2f28608c1d6ee7d2b7e95a3e9b06551e3b80a491d6\n",
      "Successfully built gensim\n",
      "Installing collected packages: gensim\n",
      "Successfully installed gensim-3.8.3\n",
      "\u001b[33mWARNING: Running pip as the 'root' user can result in broken permissions and conflicting behaviour with the system package manager. It is recommended to use a virtual environment instead: https://pip.pypa.io/warnings/venv\u001b[0m\n"
     ]
    }
   ],
   "source": [
    "!pip uninstall gensim --yes\n",
    "!pip install gensim==3.8.3"
   ]
  },
  {
   "cell_type": "code",
   "execution_count": 15,
   "id": "b325ea5b",
   "metadata": {},
   "outputs": [
    {
     "name": "stderr",
     "output_type": "stream",
     "text": [
      "/tmp/ipykernel_4184/1145711992.py:4: DeprecationWarning: Call to deprecated `__getitem__` (Method will be removed in 4.0.0, use self.wv.__getitem__() instead).\n",
      "  vector = word2vec['사랑']\n"
     ]
    },
    {
     "data": {
      "text/plain": [
       "array([-1.3740246 , -1.7353463 ,  3.3915305 , -2.569253  , -1.4016607 ,\n",
       "        1.4556127 ,  0.9414557 ,  1.9207907 ,  0.16471806,  0.4838317 ,\n",
       "       -0.8547181 ,  2.0879807 ,  0.86741775,  0.87539405, -0.09962013,\n",
       "        0.22928311, -1.1858722 ,  0.00858838,  1.4999928 , -0.16196461,\n",
       "       -0.35184434, -0.92390764,  1.0849575 ,  0.3025011 ,  2.7021565 ,\n",
       "       -1.0263684 ,  0.32864776, -0.76589465, -2.510981  , -0.66225356,\n",
       "        2.8434615 ,  0.50130975, -1.021874  , -1.4366034 ,  1.1110784 ,\n",
       "        0.5812605 , -0.5830406 , -0.5785423 ,  1.3634988 ,  2.3074338 ,\n",
       "       -1.4314893 ,  0.45745876,  1.1073523 , -3.2135262 , -0.2898375 ,\n",
       "       -1.1622221 ,  1.2369208 , -0.7622987 , -0.37757635,  1.1376442 ,\n",
       "        0.01065568, -0.69105595,  1.5159112 ,  1.1534518 , -1.0119992 ,\n",
       "       -0.5757404 ,  1.1349088 , -1.1289831 ,  0.13004152,  2.0451715 ,\n",
       "       -0.23940353,  1.3604902 ,  0.72700524,  0.32545742,  1.0612459 ,\n",
       "        0.42252553,  1.1442151 ,  2.8774905 ,  2.4377263 , -1.340305  ,\n",
       "        0.12629706, -0.07772489, -0.59053177, -0.19007324,  0.1396541 ,\n",
       "       -1.8655105 ,  0.9401054 ,  0.5150856 ,  0.7795373 , -0.86505556,\n",
       "        0.11842118, -1.8303713 ,  1.337177  , -1.0102932 , -0.37180334,\n",
       "        0.00893255, -0.49141577, -1.05802   , -2.5987291 ,  0.9731856 ,\n",
       "        0.34080654, -2.5973568 ,  1.0046519 , -1.3914212 , -0.6504351 ,\n",
       "       -0.9010805 , -1.1341541 ,  0.75565654,  1.2941337 ,  0.0880572 ,\n",
       "       -1.0341461 , -0.1750075 , -0.01880708, -1.0835075 , -2.0333962 ,\n",
       "        1.1372623 ,  1.0626172 , -1.8369784 , -2.2662086 , -3.382057  ,\n",
       "        1.6751666 , -0.2988223 , -0.25563756, -1.5594274 ,  0.6313433 ,\n",
       "       -1.2667153 , -1.6857744 , -1.0949599 ,  0.7742313 , -0.6095523 ,\n",
       "        3.19503   ,  0.13200459,  1.7937473 , -2.8782516 ,  1.3821276 ,\n",
       "        2.2895143 ,  0.0741943 , -0.41046414,  1.438796  ,  0.19373988,\n",
       "        1.4294034 ,  1.5025262 ,  1.4849502 ,  1.5754777 ,  2.7793512 ,\n",
       "       -0.6885003 , -0.30154693, -1.708323  ,  1.1030879 , -2.2597387 ,\n",
       "        1.1909146 ,  2.4399316 ,  0.3990314 ,  0.904154  ,  0.5454401 ,\n",
       "       -1.3235748 , -0.64812386,  0.22390233,  0.9657619 , -0.47360668,\n",
       "       -0.10278235, -1.0679734 , -0.91414386,  0.92069   ,  0.3549338 ,\n",
       "        0.32858834,  0.84870636,  3.596926  , -1.6651102 ,  0.23658653,\n",
       "        1.0515738 ,  0.40531915, -0.773514  , -0.93460965, -0.3946274 ,\n",
       "       -1.5657727 ,  1.183652  ,  2.5277    ,  0.57700926,  1.7051374 ,\n",
       "       -1.8249958 , -2.0328498 ,  0.6617798 ,  0.85747904,  0.31782728,\n",
       "       -1.1660796 ,  0.32923874,  2.2055087 , -0.12782003,  2.0455444 ,\n",
       "       -0.1724252 ,  0.46001154,  1.559042  , -1.6152996 , -0.84242785,\n",
       "        0.7553168 ,  0.39734274,  0.07714175,  0.05610155,  0.32837135,\n",
       "        1.0220716 ,  1.3816743 ,  0.8049544 ,  0.28728685, -0.97610044,\n",
       "        0.8861181 , -0.01250968, -1.4845604 , -1.5236791 , -1.5451258 ],\n",
       "      dtype=float32)"
      ]
     },
     "execution_count": 15,
     "metadata": {},
     "output_type": "execute_result"
    }
   ],
   "source": [
    "from gensim.models import Word2Vec\n",
    "word2vec_path = os.getenv('HOME')+'/aiffel/sentiment_classification/data/ko.bin'\n",
    "word2vec =Word2Vec.load(word2vec_path)\n",
    "vector = word2vec['사랑']\n",
    "vector  # 200dim의 워드 벡터입니다."
   ]
  },
  {
   "cell_type": "code",
   "execution_count": 16,
   "id": "405a3c27",
   "metadata": {},
   "outputs": [
    {
     "name": "stderr",
     "output_type": "stream",
     "text": [
      "/tmp/ipykernel_4184/1360476464.py:1: DeprecationWarning: Call to deprecated `similar_by_word` (Method will be removed in 4.0.0, use self.wv.similar_by_word() instead).\n",
      "  word2vec.similar_by_word(\"사랑\")\n"
     ]
    },
    {
     "data": {
      "text/plain": [
       "[('슬픔', 0.7216662764549255),\n",
       " ('행복', 0.6759077310562134),\n",
       " ('절망', 0.6468985080718994),\n",
       " ('기쁨', 0.6458414196968079),\n",
       " ('이별', 0.6334798336029053),\n",
       " ('추억', 0.6320937275886536),\n",
       " ('인생', 0.6216273307800293),\n",
       " ('애정', 0.6206069588661194),\n",
       " ('연인', 0.6186063289642334),\n",
       " ('유혹', 0.5965287685394287)]"
      ]
     },
     "execution_count": 16,
     "metadata": {},
     "output_type": "execute_result"
    }
   ],
   "source": [
    "word2vec.similar_by_word(\"사랑\")"
   ]
  },
  {
   "cell_type": "code",
   "execution_count": 17,
   "id": "c71bf381",
   "metadata": {},
   "outputs": [
    {
     "name": "stderr",
     "output_type": "stream",
     "text": [
      "/tmp/ipykernel_4184/1368358279.py:1: DeprecationWarning: Call to deprecated `similar_by_word` (Method will be removed in 4.0.0, use self.wv.similar_by_word() instead).\n",
      "  word2vec.similar_by_word(\"폭력\")\n"
     ]
    },
    {
     "data": {
      "text/plain": [
       "[('폭력적', 0.6629045605659485),\n",
       " ('성폭력', 0.599521815776825),\n",
       " ('테러리즘', 0.5860792398452759),\n",
       " ('성희롱', 0.5791626572608948),\n",
       " ('차별', 0.5683963894844055),\n",
       " ('억압', 0.5622648000717163),\n",
       " ('동성애', 0.561874270439148),\n",
       " ('혐오', 0.5593382120132446),\n",
       " ('소수자', 0.5560852289199829),\n",
       " ('무관심', 0.5544730424880981)]"
      ]
     },
     "execution_count": 17,
     "metadata": {},
     "output_type": "execute_result"
    }
   ],
   "source": [
    "word2vec.similar_by_word(\"폭력\")"
   ]
  },
  {
   "cell_type": "markdown",
   "id": "d60855a5",
   "metadata": {},
   "source": [
    "### 리뷰를 통해 학습시킨 embedding층과 달리 보편적으로 비슷한 느낌의 단어들과 관련된 단어들이 벡터화 되어있는 것을 확인할수 잇다."
   ]
  },
  {
   "cell_type": "code",
   "execution_count": 19,
   "id": "1ca8f5ba",
   "metadata": {},
   "outputs": [
    {
     "name": "stderr",
     "output_type": "stream",
     "text": [
      "/tmp/ipykernel_4184/613931723.py:4: DeprecationWarning: Call to deprecated `__contains__` (Method will be removed in 4.0.0, use self.wv.__contains__() instead).\n",
      "  if index_to_word[i] in word2vec:\n",
      "/tmp/ipykernel_4184/613931723.py:5: DeprecationWarning: Call to deprecated `__getitem__` (Method will be removed in 4.0.0, use self.wv.__getitem__() instead).\n",
      "  embedding_matrix[i] = word2vec[index_to_word[i]]\n"
     ]
    },
    {
     "ename": "ValueError",
     "evalue": "could not broadcast input array from shape (200,) into shape (32,)",
     "output_type": "error",
     "traceback": [
      "\u001b[0;31m---------------------------------------------------------------------------\u001b[0m",
      "\u001b[0;31mValueError\u001b[0m                                Traceback (most recent call last)",
      "\u001b[0;32m/tmp/ipykernel_4184/613931723.py\u001b[0m in \u001b[0;36m<module>\u001b[0;34m\u001b[0m\n\u001b[1;32m      3\u001b[0m \u001b[0;32mfor\u001b[0m \u001b[0mi\u001b[0m \u001b[0;32min\u001b[0m \u001b[0mrange\u001b[0m\u001b[0;34m(\u001b[0m\u001b[0;36m4\u001b[0m\u001b[0;34m,\u001b[0m\u001b[0mvocab_size\u001b[0m\u001b[0;34m)\u001b[0m\u001b[0;34m:\u001b[0m\u001b[0;34m\u001b[0m\u001b[0;34m\u001b[0m\u001b[0m\n\u001b[1;32m      4\u001b[0m     \u001b[0;32mif\u001b[0m \u001b[0mindex_to_word\u001b[0m\u001b[0;34m[\u001b[0m\u001b[0mi\u001b[0m\u001b[0;34m]\u001b[0m \u001b[0;32min\u001b[0m \u001b[0mword2vec\u001b[0m\u001b[0;34m:\u001b[0m\u001b[0;34m\u001b[0m\u001b[0;34m\u001b[0m\u001b[0m\n\u001b[0;32m----> 5\u001b[0;31m         \u001b[0membedding_matrix\u001b[0m\u001b[0;34m[\u001b[0m\u001b[0mi\u001b[0m\u001b[0;34m]\u001b[0m \u001b[0;34m=\u001b[0m \u001b[0mword2vec\u001b[0m\u001b[0;34m[\u001b[0m\u001b[0mindex_to_word\u001b[0m\u001b[0;34m[\u001b[0m\u001b[0mi\u001b[0m\u001b[0;34m]\u001b[0m\u001b[0;34m]\u001b[0m\u001b[0;34m\u001b[0m\u001b[0;34m\u001b[0m\u001b[0m\n\u001b[0m",
      "\u001b[0;31mValueError\u001b[0m: could not broadcast input array from shape (200,) into shape (32,)"
     ]
    }
   ],
   "source": [
    "embedding_matrix = np.random.rand(vocab_size, word_vector_dim)\n",
    "\n",
    "for i in range(4,vocab_size):\n",
    "    if index_to_word[i] in word2vec:\n",
    "        embedding_matrix[i] = word2vec[index_to_word[i]]"
   ]
  },
  {
   "cell_type": "markdown",
   "id": "dd833085",
   "metadata": {},
   "source": [
    "embedding matrix의 shape가 (200,)인지 확인"
   ]
  },
  {
   "cell_type": "code",
   "execution_count": 22,
   "id": "85e65113",
   "metadata": {},
   "outputs": [
    {
     "name": "stderr",
     "output_type": "stream",
     "text": [
      "/tmp/ipykernel_4184/2940591079.py:5: DeprecationWarning: Call to deprecated `__contains__` (Method will be removed in 4.0.0, use self.wv.__contains__() instead).\n",
      "  if index_to_word[i] in word2vec:\n",
      "/tmp/ipykernel_4184/2940591079.py:6: DeprecationWarning: Call to deprecated `__getitem__` (Method will be removed in 4.0.0, use self.wv.__getitem__() instead).\n",
      "  embedding_matrix[i] = word2vec[index_to_word[i]]\n"
     ]
    }
   ],
   "source": [
    "#shape가 200이라 하니 word_vector_dim을 바꿔준다.\n",
    "embedding_matrix = np.random.rand(vocab_size, 200) #200 embedding matrix크기\n",
    "\n",
    "for i in range(4,vocab_size):\n",
    "    if index_to_word[i] in word2vec:\n",
    "        embedding_matrix[i] = word2vec[index_to_word[i]]"
   ]
  },
  {
   "cell_type": "markdown",
   "id": "6064450b",
   "metadata": {},
   "source": [
    "### 7.3 Word2vec의 Embedding 층으로 바꿔보기 (파인튜닝)"
   ]
  },
  {
   "cell_type": "code",
   "execution_count": 44,
   "id": "13e455f5",
   "metadata": {},
   "outputs": [
    {
     "name": "stdout",
     "output_type": "stream",
     "text": [
      "Model: \"sequential_15\"\n",
      "_________________________________________________________________\n",
      "Layer (type)                 Output Shape              Param #   \n",
      "=================================================================\n",
      "embedding_12 (Embedding)     (None, 35, 200)           2000000   \n",
      "_________________________________________________________________\n",
      "lstm_2 (LSTM)                (None, 128)               168448    \n",
      "_________________________________________________________________\n",
      "dense_10 (Dense)             (None, 1)                 129       \n",
      "=================================================================\n",
      "Total params: 2,168,577\n",
      "Trainable params: 2,168,577\n",
      "Non-trainable params: 0\n",
      "_________________________________________________________________\n"
     ]
    }
   ],
   "source": [
    "finetune_model = tf.keras.Sequential()\n",
    "finetune_model.add(tf.keras.layers.Embedding(vocab_size, \n",
    "                                 200, \n",
    "                                 embeddings_initializer=Constant(embedding_matrix),  # 카피한 임베딩을 여기서 활용\n",
    "                                 input_length=35, \n",
    "                                 trainable=True))   # trainable을 True로 주면 Fine-tuning\n",
    "finetune_model.add(tf.keras.layers.LSTM(128))\n",
    "finetune_model.add(tf.keras.layers.Dense(1, activation='sigmoid'))\n",
    "\n",
    "finetune_model.summary()"
   ]
  },
  {
   "cell_type": "code",
   "execution_count": 48,
   "id": "0625f91a",
   "metadata": {},
   "outputs": [
    {
     "name": "stdout",
     "output_type": "stream",
     "text": [
      "Epoch 1/5\n",
      "215/215 [==============================] - 5s 15ms/step - loss: 0.5923 - accuracy: 0.6470 - val_loss: 0.4279 - val_accuracy: 0.8080\n",
      "Epoch 2/5\n",
      "215/215 [==============================] - 3s 13ms/step - loss: 0.3659 - accuracy: 0.8389 - val_loss: 0.3436 - val_accuracy: 0.8508\n",
      "Epoch 3/5\n",
      "215/215 [==============================] - 3s 13ms/step - loss: 0.3053 - accuracy: 0.8689 - val_loss: 0.3311 - val_accuracy: 0.8595\n",
      "Epoch 4/5\n",
      "215/215 [==============================] - 3s 13ms/step - loss: 0.2723 - accuracy: 0.8867 - val_loss: 0.3333 - val_accuracy: 0.8592\n",
      "Epoch 5/5\n",
      "215/215 [==============================] - 3s 13ms/step - loss: 0.2443 - accuracy: 0.9001 - val_loss: 0.3325 - val_accuracy: 0.8610\n"
     ]
    }
   ],
   "source": [
    "finetune_model.compile(optimizer='adam',\n",
    "              loss='binary_crossentropy',\n",
    "              metrics=['accuracy'])\n",
    "              \n",
    "epochs=5\n",
    "\n",
    "finetune_model.compile(optimizer='adam', loss='binary_crossentropy', metrics=['accuracy'])\n",
    "\n",
    "f_history =finetune_model.fit(X_train,y_train, epochs=5, batch_size=512, validation_split=0.25, verbose=1)"
   ]
  },
  {
   "cell_type": "code",
   "execution_count": 50,
   "id": "ee60037f",
   "metadata": {},
   "outputs": [
    {
     "name": "stdout",
     "output_type": "stream",
     "text": [
      "dict_keys(['loss', 'accuracy', 'val_loss', 'val_accuracy'])\n"
     ]
    },
    {
     "data": {
      "image/png": "[encoded data removed]",
      "text/plain": [
       "<Figure size 576x288 with 2 Axes>"
      ]
     },
     "metadata": {
      "needs_background": "light"
     },
     "output_type": "display_data"
    }
   ],
   "source": [
    "history_dict = f_history.history\n",
    "print(history_dict.keys()) # epoch에 따른 그래프를 그려볼 수 있는 항목들\n",
    "\n",
    "acc = history_dict['accuracy']\n",
    "val_acc = history_dict['val_accuracy']\n",
    "loss = history_dict['loss']\n",
    "val_loss = history_dict['val_loss']\n",
    "\n",
    "epochs = range(1, len(acc) + 1)\n",
    "\n",
    "plt.figure(figsize=(8, 4))\n",
    "plt.subplot(1, 2, 1)\n",
    "plt.plot(epochs, acc, label='Accuracy')\n",
    "plt.plot(epochs, val_acc, 'red', label='Val_Accuracy')\n",
    "plt.legend(loc='lower right')\n",
    "plt.title('Accuracy')\n",
    "plt.xlabel('Epochs')\n",
    "plt.ylabel('Accuracy')\n",
    "\n",
    "plt.subplot(1, 2, 2)\n",
    "plt.plot(epochs, loss, label='Loss')\n",
    "plt.plot(epochs, val_loss, 'red', label='Val_Loss')\n",
    "plt.legend(loc='upper right')\n",
    "plt.title('Loss')\n",
    "plt.xlabel('Epochs')\n",
    "plt.ylabel('Loss')\n",
    "plt.show()"
   ]
  },
  {
   "cell_type": "markdown",
   "id": "b081311f",
   "metadata": {},
   "source": [
    "# 8. 파인튜닝된 모델의 예측 확인\n",
    "- #t1seo님의 코드를 인용했습니다!"
   ]
  },
  {
   "cell_type": "code",
   "execution_count": 57,
   "id": "30cce675",
   "metadata": {},
   "outputs": [],
   "source": [
    "tokenizer = Mecab()\n",
    "\n",
    "\n",
    "def sentiment_predict(new_sentence):\n",
    "    new_sentence = tokenizer.morphs(new_sentence) # 토큰화\n",
    "    new_sentence.insert(0, '<BOS>')\n",
    "    new_sentence = [word for word in new_sentence if not word in stopwords] # 불용어 제거\n",
    "\n",
    "    def wordlist_to_indexlist(wordlist):\n",
    "        return [word_to_index[word] if word in word_to_index else word_to_index['<UNK>'] for word in wordlist]\n",
    "\n",
    "    new_sentence = wordlist_to_indexlist(new_sentence) # encoding\n",
    "    new_sentence = [new_sentence]\n",
    "\n",
    "    new_sentence = tf.keras.preprocessing.sequence.pad_sequences(new_sentence,\n",
    "                                                    value=word_to_index[\"<PAD>\"],\n",
    "                                                    padding='pre',\n",
    "                                                    maxlen=35)\n",
    "    \n",
    "    score = float(finetune_model.predict(new_sentence)) # 예측\n",
    "    \n",
    "    if score > 0.5:\n",
    "        print(\"{:.2f}% 확률로 긍정 리뷰입니다.\\n\".format(score * 100))\n",
    "    else:\n",
    "        print(\"{:.2f}% 확률로 부정 리뷰입니다.\\n\".format((1 - score) * 100))"
   ]
  },
  {
   "cell_type": "code",
   "execution_count": 60,
   "id": "e0caeba2",
   "metadata": {},
   "outputs": [
    {
     "name": "stdout",
     "output_type": "stream",
     "text": [
      "89.61% 확률로 부정 리뷰입니다.\n",
      "\n"
     ]
    }
   ],
   "source": [
    "sentiment_predict('영화가 노잼')"
   ]
  },
  {
   "cell_type": "code",
   "execution_count": 64,
   "id": "a6dd708d",
   "metadata": {},
   "outputs": [
    {
     "name": "stdout",
     "output_type": "stream",
     "text": [
      "76.05% 확률로 긍정 리뷰입니다.\n",
      "\n"
     ]
    }
   ],
   "source": [
    "sentiment_predict('영화 너무 재밌어요!')"
   ]
  },
  {
   "cell_type": "code",
   "execution_count": 69,
   "id": "7549826c",
   "metadata": {},
   "outputs": [
    {
     "name": "stdout",
     "output_type": "stream",
     "text": [
      "67.44% 확률로 부정 리뷰입니다.\n",
      "\n"
     ]
    }
   ],
   "source": [
    "sentiment_predict('흥미진진한 전개, 스펙타클한 액션')"
   ]
  },
  {
   "cell_type": "code",
   "execution_count": 68,
   "id": "330dba31",
   "metadata": {},
   "outputs": [
    {
     "name": "stdout",
     "output_type": "stream",
     "text": [
      "62.28% 확률로 긍정 리뷰입니다.\n",
      "\n"
     ]
    }
   ],
   "source": [
    "sentiment_predict('압도적인 몰입감 즐기면서봤다')"
   ]
  },
  {
   "cell_type": "markdown",
   "id": "cfd2b274",
   "metadata": {},
   "source": [
    "# 회고\n",
    "\n",
    "- word to index , index to word를 list comprehension을 통해 깔끔하게 만드는 법이 파이썬 문법적으로 잘배운것같다.\n",
    "- 단어를 벡터화하는 Embedding layer라는 개념이 재미있었다. 벡터공간의 수를 어떻게 정해주는 기법을 더 알고싶다.\n",
    "- finetuning을 통하여 시간을 절약하고, 프로젝트에서 데이터가 부족할때 어떻게 해야할지 잘 배운 것 같다.\n",
    "- padding에 대한 길이 설정에서 임의로 설정을 했는데 일반적으로는 어떻게 설정을 하는지 찾아봐야할것같다.\n",
    "- word2vec을 다운그레이드 하면서 확인을 했어야했는데, 조원 분들의 도움덕분에 쉽게한것같다. 감사하다"
   ]
  },
  {
   "cell_type": "code",
   "execution_count": null,
   "id": "09061542",
   "metadata": {},
   "outputs": [],
   "source": []
  }
 ],
 "metadata": {
  "kernelspec": {
   "display_name": "Python 3 (ipykernel)",
   "language": "python",
   "name": "python3"
  },
  "language_info": {
   "codemirror_mode": {
    "name": "ipython",
    "version": 3
   },
   "file_extension": ".py",
   "mimetype": "text/x-python",
   "name": "python",
   "nbconvert_exporter": "python",
   "pygments_lexer": "ipython3",
   "version": "3.9.7"
  }
 },
 "nbformat": 4,
 "nbformat_minor": 5
}
